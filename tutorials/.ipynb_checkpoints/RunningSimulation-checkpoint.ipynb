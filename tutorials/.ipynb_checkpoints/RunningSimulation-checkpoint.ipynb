{
 "cells": [
  {
   "cell_type": "markdown",
   "id": "fea88cfd",
   "metadata": {},
   "source": [
    "# How to run a simulation with Comets"
   ]
  },
  {
   "cell_type": "code",
   "execution_count": 1,
   "id": "7423e35b",
   "metadata": {},
   "outputs": [],
   "source": [
    "import comets"
   ]
  },
  {
   "cell_type": "code",
   "execution_count": 2,
   "id": "40e10edb",
   "metadata": {},
   "outputs": [],
   "source": [
    "#This example assumes that this notebook is in the folder containing the Brewery project\n",
    "#and that the model has been compiled with the python wrappers activated.\n",
    "\n",
    "from pathlib import Path\n",
    "cwd = Path().resolve()\n",
    "\n",
    "simulator = comets.CosmoInterface(\n",
    "    simulator_path = 'Simulation_1',\n",
    "    project_path = cwd,\n",
    "    temporary_consumers = True\n",
    ")"
   ]
  },
  {
   "cell_type": "code",
   "execution_count": 3,
   "id": "b1ecd3af",
   "metadata": {},
   "outputs": [],
   "source": [
    "simulator.initialize()"
   ]
  },
  {
   "cell_type": "code",
   "execution_count": 4,
   "id": "81a21924",
   "metadata": {},
   "outputs": [],
   "source": [
    "parameter = {'Model::{Entity}MyBar::@NbWaiters': 10}\n",
    "simulator.set_inputs(parameter)"
   ]
  },
  {
   "cell_type": "code",
   "execution_count": 5,
   "id": "bb8b3b68",
   "metadata": {},
   "outputs": [],
   "source": [
    "simulator.run()"
   ]
  },
  {
   "cell_type": "code",
   "execution_count": 6,
   "id": "78816cde",
   "metadata": {},
   "outputs": [
    {
     "data": {
      "text/plain": [
       "{'Model::{Entity}MyBar::@Stock': 13}"
      ]
     },
     "execution_count": 6,
     "metadata": {},
     "output_type": "execute_result"
    }
   ],
   "source": [
    "simulator.get_outputs(['Model::{Entity}MyBar::@Stock'])"
   ]
  },
  {
   "cell_type": "code",
   "execution_count": 7,
   "id": "24d92fdd",
   "metadata": {
    "collapsed": true,
    "jupyter": {
     "outputs_hidden": true
    }
   },
   "outputs": [
    {
     "name": "stdout",
     "output_type": "stream",
     "text": [
      "    iteration Entity name Attribute name  Attribute value\n",
      "0           0       MyBar          Stock               10\n",
      "1           1       MyBar          Stock                8\n",
      "2           2       MyBar          Stock                8\n",
      "3           3       MyBar          Stock                6\n",
      "4           4       MyBar          Stock               12\n",
      "5           5       MyBar          Stock               10\n",
      "6           6       MyBar          Stock                9\n",
      "7           7       MyBar          Stock                8\n",
      "8           8       MyBar          Stock               14\n",
      "9           9       MyBar          Stock               12\n",
      "10         10       MyBar          Stock               10\n",
      "11         11       MyBar          Stock                7\n",
      "12         12       MyBar          Stock                6\n",
      "13         13       MyBar          Stock               15\n",
      "14         14       MyBar          Stock               13\n",
      "15         15       MyBar          Stock               12\n",
      "16         16       MyBar          Stock               10\n",
      "17         17       MyBar          Stock                7\n",
      "18         18       MyBar          Stock                6\n",
      "19         19       MyBar          Stock               14\n",
      "20         20       MyBar          Stock               12\n",
      "21         21       MyBar          Stock               10\n",
      "22         22       MyBar          Stock                8\n",
      "23         23       MyBar          Stock                6\n",
      "24         24       MyBar          Stock               13\n",
      "25         25       MyBar          Stock               11\n",
      "26         26       MyBar          Stock               10\n",
      "27         27       MyBar          Stock                8\n",
      "28         28       MyBar          Stock               15\n",
      "29         29       MyBar          Stock               11\n",
      "30         30       MyBar          Stock               10\n",
      "31         31       MyBar          Stock                9\n",
      "32         32       MyBar          Stock                7\n",
      "33         33       MyBar          Stock                6\n",
      "34         34       MyBar          Stock               14\n",
      "35         35       MyBar          Stock               11\n",
      "36         36       MyBar          Stock                7\n",
      "37         37       MyBar          Stock               15\n",
      "38         38       MyBar          Stock               13\n",
      "39         39       MyBar          Stock               11\n",
      "40         40       MyBar          Stock                7\n",
      "41         41       MyBar          Stock                6\n",
      "42         42       MyBar          Stock               14\n",
      "43         43       MyBar          Stock               11\n",
      "44         44       MyBar          Stock                9\n",
      "45         45       MyBar          Stock                6\n",
      "     iteration Entity name Attribute name  Attribute value\n",
      "0            0   Customer1   Satisfaction                0\n",
      "1            1   Customer1   Satisfaction                0\n",
      "2            2   Customer1   Satisfaction                1\n",
      "3            3   Customer1   Satisfaction                1\n",
      "4            4   Customer1   Satisfaction                2\n",
      "..         ...         ...            ...              ...\n",
      "179         41   Customer4   Satisfaction                1\n",
      "180         42   Customer4   Satisfaction                2\n",
      "181         43   Customer4   Satisfaction                2\n",
      "182         44   Customer4   Satisfaction                2\n",
      "183         45   Customer4   Satisfaction                1\n",
      "\n",
      "[184 rows x 4 columns]\n"
     ]
    }
   ],
   "source": [
    "for dataframes in simulator.get_consumers():\n",
    "    print (dataframes)"
   ]
  },
  {
   "cell_type": "code",
   "execution_count": 8,
   "id": "792cf6b8",
   "metadata": {},
   "outputs": [],
   "source": [
    "#simulator.terminate()"
   ]
  },
  {
   "cell_type": "code",
   "execution_count": null,
   "id": "542ead2f",
   "metadata": {},
   "outputs": [],
   "source": []
  }
 ],
 "metadata": {
  "kernelspec": {
   "display_name": "env",
   "language": "python",
   "name": "env"
  },
  "language_info": {
   "codemirror_mode": {
    "name": "ipython",
    "version": 3
   },
   "file_extension": ".py",
   "mimetype": "text/x-python",
   "name": "python",
   "nbconvert_exporter": "python",
   "pygments_lexer": "ipython3",
   "version": "3.7.3"
  }
 },
 "nbformat": 4,
 "nbformat_minor": 5
}
