{
 "cells": [
  {
   "cell_type": "markdown",
   "id": "2dfe1bd9",
   "metadata": {},
   "source": [
    "# How to run a simulation with CoMETS\n",
    "\n",
    "CoMETS offers a specific interface to manipulate Cosmo Tech's simulators: the `CosmoInterface`. We will see in this tutorial how to use it and perform basic operations like running a simulation, setting specific inputs or getting the simulation results. \n",
    "\n",
    "This tutorial assumes you already have some level of familiarity with Cosmo models."
   ]
  },
  {
   "cell_type": "markdown",
   "id": "8e3bce2c",
   "metadata": {},
   "source": [
    "## The Brewery model\n",
    "\n",
    "We are working with a drink consumption model including stock level management and customer satisfaction dynamics. The parameters we will use to change the model's behavior are: \n",
    "\n",
    "- `NbWaiters`: number of waiters in the bar\n",
    "- `RestockQty`: a fixed quantity of drinks added to the current stock of the bar once it reaches a threshold value.\n",
    "\n",
    "The model contains two probes:\n",
    "\n",
    "- `Stock`: stock of the bar at each time step\n",
    "- `Satisfaction`: satisfaction of each client at each time step\n",
    "\n",
    "The model also has two consumers (one for each probe), storing the result of each probe in a CSV file (CSVFileGenericConsumer). "
   ]
  },
  {
   "cell_type": "markdown",
   "id": "4848ed38",
   "metadata": {},
   "source": [
    "## Importing the library\n",
    "In order to use the CosmoInterface to manipulate our simulator we first need to import CoMETS"
   ]
  },
  {
   "cell_type": "code",
   "execution_count": 1,
   "id": "8f2f32d7",
   "metadata": {},
   "outputs": [],
   "source": [
    "import comets"
   ]
  },
  {
   "cell_type": "markdown",
   "id": "c7fcc511",
   "metadata": {},
   "source": [
    "## Creating the `CosmoInterface`\n",
    "We can now create our `CosmoInterface`. It will be declared with three arguments:\n",
    "\n",
    " - `simulator_path` (mandatory): path to the simulation file, usually inside the project folder 'Simulation'\n",
    " \n",
    " - `project_path` (optional): path to the project containing the model. This should be an **absolute path**. If not specified, assumes we are running from inside the project folder    \n",
    "    \n",
    " - `temporary_consumers` (optional): boolean to specify if the CSVFileGenericConsumers are written in a temporary folder accessible by the CosmoInterface. By default is equal to False, so the consumers are written in their original location (in the folder 'Simulation/Output/') and the CosmoInterface has no access to the consumers."
   ]
  },
  {
   "cell_type": "code",
   "execution_count": 2,
   "id": "70be931b",
   "metadata": {},
   "outputs": [],
   "source": [
    "#This example assumes that this notebook is in the folder containing the Brewery project\n",
    "#and that the model has been compiled with the python wrappers activated.\n",
    "\n",
    "from pathlib import Path\n",
    "cwd = Path().resolve()\n",
    "\n",
    "simulator = comets.CosmoInterface(\n",
    "    simulator_path = 'BreweryTutorialSimulation',\n",
    "    project_path = cwd,\n",
    "    temporary_consumers = True\n",
    ")"
   ]
  },
  {
   "cell_type": "markdown",
   "id": "bb30e611",
   "metadata": {},
   "source": [
    "Now that the `CosmoInterface` is created, we can start to manipulate the simulator. "
   ]
  },
  {
   "cell_type": "markdown",
   "id": "01b6df86",
   "metadata": {},
   "source": [
    "## Initializing the simulator\n",
    "To interact with the Cosmo Tech simulator we first need to initialize it, which will load the instance and its associated data:"
   ]
  },
  {
   "cell_type": "code",
   "execution_count": 3,
   "id": "71459067",
   "metadata": {},
   "outputs": [],
   "source": [
    "simulator.initialize()"
   ]
  },
  {
   "cell_type": "markdown",
   "id": "bc299fc3",
   "metadata": {},
   "source": [
    "## Setting parameters\n",
    "Now that the simulator is loaded, we have the possibility to change the value of an attribute in the model. For that we use the `set_inputs()`  method of `CosmoInterface` class, which takes as argument a `ParameterSet`: a set of parameters, stored as a dictionary containing names of parameters and their values. For a Cosmo Tech model, the name of a parameter corresponds to it localization in the model, given as a datapath. For instance NBWaiters and RestockQty datapath are:\n",
    " - `Model::{Entity}MyBar::@NbWaiters`\n",
    " - `Model::{Entity}MyBar::@RestockQty`\n",
    "\n",
    "For example, the correct ParameterSet to set the value of `NbWaiters` to 10 and `RestockQty` to 12 is: \n",
    "\n",
    "$$\n",
    "\\text{parameter } = \\text{{'Model::{Entity}MyBar::@NbWaiters': 10, 'Model::{Entity}MyBar::@RestockQty': 12}}\n",
    "$$"
   ]
  },
  {
   "cell_type": "code",
   "execution_count": 4,
   "id": "200aaedd",
   "metadata": {},
   "outputs": [],
   "source": [
    "parameter = {'Model::{Entity}MyBar::@NbWaiters': 10,\n",
    "             'Model::{Entity}MyBar::@RestockQty': 12}\n",
    "simulator.set_inputs(parameter)"
   ]
  },
  {
   "cell_type": "markdown",
   "id": "c7dcc211",
   "metadata": {},
   "source": [
    "## Running the simulation\n",
    "To run the simulation, we simply use the `run()` method."
   ]
  },
  {
   "cell_type": "code",
   "execution_count": 5,
   "id": "6448d3f8",
   "metadata": {},
   "outputs": [],
   "source": [
    "simulator.run()"
   ]
  },
  {
   "cell_type": "markdown",
   "id": "8411bc91",
   "metadata": {},
   "source": [
    "## Getting the simulation's results\n",
    "Now that the simulation is run, we can use the `get_outputs()` method of `CosmoInterface` class to get the final value of specific attributes in the model. This method takes a list of the output parameters' name as an argument. Remember, in a Cosmo Tech model, the name of a parameter corresponds to its datapath. For instance, the Stock datapath is: `Model::{Entity}MyBar::@Stock`\n",
    "\n",
    "Note that the output format of the `get_outputs()` method is a `ParameterSet`."
   ]
  },
  {
   "cell_type": "code",
   "execution_count": 6,
   "id": "1d437b38",
   "metadata": {},
   "outputs": [
    {
     "data": {
      "text/plain": [
       "{'Model::{Entity}MyBar::@Stock': 17}"
      ]
     },
     "execution_count": 6,
     "metadata": {},
     "output_type": "execute_result"
    }
   ],
   "source": [
    "list_of_output_parameters = ['Model::{Entity}MyBar::@Stock']\n",
    "simulator.get_outputs(list_of_output_parameters)"
   ]
  },
  {
   "cell_type": "markdown",
   "id": "2173508e",
   "metadata": {},
   "source": [
    "## Getting the simulation's consumers\n",
    "As we set the argument `temporary_consumers` to True when we created the CosmoInterface, we can get the simulation's consumers. This simulation (i.e 'BreweryTutorialSimulation') contains two consumers: one CSV file for the probe on the Stock and one CSV file for the probe on customer Satisfaction. To get the consumers we use the `get_consumers()` method. It returns a list of pandas dataframes corresponding to each file generated by a CSVFileGenericConsumer during the simulation. Note that this method requires a valid installation of pandas."
   ]
  },
  {
   "cell_type": "code",
   "execution_count": 11,
   "id": "4b9d4d7b",
   "metadata": {},
   "outputs": [
    {
     "data": {
      "text/html": [
       "<div>\n",
       "<style scoped>\n",
       "    .dataframe tbody tr th:only-of-type {\n",
       "        vertical-align: middle;\n",
       "    }\n",
       "\n",
       "    .dataframe tbody tr th {\n",
       "        vertical-align: top;\n",
       "    }\n",
       "\n",
       "    .dataframe thead th {\n",
       "        text-align: right;\n",
       "    }\n",
       "</style>\n",
       "<table border=\"1\" class=\"dataframe\">\n",
       "  <thead>\n",
       "    <tr style=\"text-align: right;\">\n",
       "      <th></th>\n",
       "      <th>iteration</th>\n",
       "      <th>Entity name</th>\n",
       "      <th>Attribute name</th>\n",
       "      <th>Attribute value</th>\n",
       "    </tr>\n",
       "  </thead>\n",
       "  <tbody>\n",
       "    <tr>\n",
       "      <th>0</th>\n",
       "      <td>0</td>\n",
       "      <td>MyBar</td>\n",
       "      <td>Stock</td>\n",
       "      <td>10</td>\n",
       "    </tr>\n",
       "    <tr>\n",
       "      <th>1</th>\n",
       "      <td>1</td>\n",
       "      <td>MyBar</td>\n",
       "      <td>Stock</td>\n",
       "      <td>8</td>\n",
       "    </tr>\n",
       "    <tr>\n",
       "      <th>2</th>\n",
       "      <td>2</td>\n",
       "      <td>MyBar</td>\n",
       "      <td>Stock</td>\n",
       "      <td>6</td>\n",
       "    </tr>\n",
       "    <tr>\n",
       "      <th>3</th>\n",
       "      <td>3</td>\n",
       "      <td>MyBar</td>\n",
       "      <td>Stock</td>\n",
       "      <td>15</td>\n",
       "    </tr>\n",
       "    <tr>\n",
       "      <th>4</th>\n",
       "      <td>4</td>\n",
       "      <td>MyBar</td>\n",
       "      <td>Stock</td>\n",
       "      <td>12</td>\n",
       "    </tr>\n",
       "  </tbody>\n",
       "</table>\n",
       "</div>"
      ],
      "text/plain": [
       "   iteration Entity name Attribute name  Attribute value\n",
       "0          0       MyBar          Stock               10\n",
       "1          1       MyBar          Stock                8\n",
       "2          2       MyBar          Stock                6\n",
       "3          3       MyBar          Stock               15\n",
       "4          4       MyBar          Stock               12"
      ]
     },
     "metadata": {},
     "output_type": "display_data"
    },
    {
     "data": {
      "text/html": [
       "<div>\n",
       "<style scoped>\n",
       "    .dataframe tbody tr th:only-of-type {\n",
       "        vertical-align: middle;\n",
       "    }\n",
       "\n",
       "    .dataframe tbody tr th {\n",
       "        vertical-align: top;\n",
       "    }\n",
       "\n",
       "    .dataframe thead th {\n",
       "        text-align: right;\n",
       "    }\n",
       "</style>\n",
       "<table border=\"1\" class=\"dataframe\">\n",
       "  <thead>\n",
       "    <tr style=\"text-align: right;\">\n",
       "      <th></th>\n",
       "      <th>iteration</th>\n",
       "      <th>Entity name</th>\n",
       "      <th>Attribute name</th>\n",
       "      <th>Attribute value</th>\n",
       "    </tr>\n",
       "  </thead>\n",
       "  <tbody>\n",
       "    <tr>\n",
       "      <th>0</th>\n",
       "      <td>0</td>\n",
       "      <td>Customer1</td>\n",
       "      <td>Satisfaction</td>\n",
       "      <td>0</td>\n",
       "    </tr>\n",
       "    <tr>\n",
       "      <th>1</th>\n",
       "      <td>1</td>\n",
       "      <td>Customer1</td>\n",
       "      <td>Satisfaction</td>\n",
       "      <td>1</td>\n",
       "    </tr>\n",
       "    <tr>\n",
       "      <th>2</th>\n",
       "      <td>2</td>\n",
       "      <td>Customer1</td>\n",
       "      <td>Satisfaction</td>\n",
       "      <td>1</td>\n",
       "    </tr>\n",
       "    <tr>\n",
       "      <th>3</th>\n",
       "      <td>3</td>\n",
       "      <td>Customer1</td>\n",
       "      <td>Satisfaction</td>\n",
       "      <td>1</td>\n",
       "    </tr>\n",
       "    <tr>\n",
       "      <th>4</th>\n",
       "      <td>4</td>\n",
       "      <td>Customer1</td>\n",
       "      <td>Satisfaction</td>\n",
       "      <td>1</td>\n",
       "    </tr>\n",
       "  </tbody>\n",
       "</table>\n",
       "</div>"
      ],
      "text/plain": [
       "   iteration Entity name Attribute name  Attribute value\n",
       "0          0   Customer1   Satisfaction                0\n",
       "1          1   Customer1   Satisfaction                1\n",
       "2          2   Customer1   Satisfaction                1\n",
       "3          3   Customer1   Satisfaction                1\n",
       "4          4   Customer1   Satisfaction                1"
      ]
     },
     "metadata": {},
     "output_type": "display_data"
    }
   ],
   "source": [
    "for dataframes in simulator.get_consumers():\n",
    "    display (dataframes.head())"
   ]
  },
  {
   "cell_type": "markdown",
   "id": "b8d7a749",
   "metadata": {},
   "source": [
    "## Getting the simulation's results with the consumers\n",
    "In this simulation, we consider that the stock at the end of the simulation is an output. To retrieve it, we previously used the `get_outputs()` method. However, this information is also available in the consumer that stored the StockProbe result in a CSV file. More precisely, as we want the stock value at the end of the simulation, this corresponds to the last probe result: the last row of the CSV file. We can get it with the following command: "
   ]
  },
  {
   "cell_type": "code",
   "execution_count": 12,
   "id": "8b5c286e",
   "metadata": {},
   "outputs": [
    {
     "data": {
      "text/plain": [
       "iteration             53\n",
       "Entity name        MyBar\n",
       "Attribute name     Stock\n",
       "Attribute value       17\n",
       "Name: 53, dtype: object"
      ]
     },
     "execution_count": 12,
     "metadata": {},
     "output_type": "execute_result"
    }
   ],
   "source": [
    "simulator.get_consumers()[0].iloc[-1]"
   ]
  },
  {
   "cell_type": "markdown",
   "id": "23fd4c86",
   "metadata": {},
   "source": [
    "## Destroying the simulator\n",
    "Once we have finished to use the CosmoInterface and manipulate the simulator, we can terminate it, which will also clean up the temporary directory where consumers are written (note that you can get the path of this directory using `simulator.get_consumers_directory()`)."
   ]
  },
  {
   "cell_type": "code",
   "execution_count": 13,
   "id": "2a5eb683",
   "metadata": {},
   "outputs": [],
   "source": [
    "simulator.terminate()"
   ]
  },
  {
   "cell_type": "markdown",
   "id": "be10d127",
   "metadata": {},
   "source": [
    "Now that you know how to use CoMETS to manipulate simulators, you will see in the next tutorial how use the CosmoInterface to create a Task."
   ]
  }
 ],
 "metadata": {
  "kernelspec": {
   "display_name": "env",
   "language": "python",
   "name": "env"
  },
  "language_info": {
   "codemirror_mode": {
    "name": "ipython",
    "version": 3
   },
   "file_extension": ".py",
   "mimetype": "text/x-python",
   "name": "python",
   "nbconvert_exporter": "python",
   "pygments_lexer": "ipython3",
   "version": "3.9.2"
  }
 },
 "nbformat": 4,
 "nbformat_minor": 5
}
