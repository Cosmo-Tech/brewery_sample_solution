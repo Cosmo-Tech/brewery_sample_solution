{
 "cells": [
  {
   "cell_type": "code",
   "execution_count": 1,
   "id": "84b1c59b",
   "metadata": {
    "jupyter": {
     "source_hidden": true
    },
    "tags": [
     "hide"
    ]
   },
   "outputs": [],
   "source": [
    "\n",
    "from grading_tools import *"
   ]
  },
  {
   "cell_type": "markdown",
   "id": "8db5f30f",
   "metadata": {},
   "source": [
    "\n",
    "# How to run a simulation with CoMETS\n",
    "\n",
    "CoMETS offers a specific interface to manipulate Cosmo Tech's simulators: the `CosmoInterface`. We will see in this tutorial how to use it and perform basic operations like running a simulation, setting specific inputs or getting the simulation results. \n",
    "\n",
    "This tutorial assumes you already have some level of familiarity with Cosmo models."
   ]
  },
  {
   "cell_type": "markdown",
   "id": "26c38a02",
   "metadata": {},
   "source": [
    "## The Brewery model\n",
    "\n",
    "We are working with a drink consumption model including stock level management and customer satisfaction dynamics. The parameters we will use to change the model's behavior are: \n",
    "\n",
    "- `NbWaiters`: number of waiters in the bar\n",
    "- `RestockQty`: a fixed quantity of drinks added to the current stock of the bar once it reaches a threshold value.\n",
    "\n",
    "The model contains two probes:\n",
    "\n",
    "- `Stock`: stock of the bar at each time step\n",
    "- `Satisfaction`: satisfaction of each client at each time step\n",
    "\n",
    "The model also has two consumers (one for each probe), storing the result of each probe in a CSV file (CSVFileGenericConsumer). "
   ]
  },
  {
   "cell_type": "markdown",
   "id": "f73a258b",
   "metadata": {},
   "source": [
    "## Importing the library\n",
    "In order to use the CosmoInterface to manipulate our simulator we first need to import CoMETS"
   ]
  },
  {
   "cell_type": "code",
   "execution_count": 2,
   "id": "f480fbe4",
   "metadata": {},
   "outputs": [],
   "source": [
    "import comets"
   ]
  },
  {
   "cell_type": "markdown",
   "id": "dfa55afa",
   "metadata": {},
   "source": [
    "## Creating the `CosmoInterface`\n",
    "We can now create our `CosmoInterface`. It will be declared with three arguments:\n",
    "\n",
    " - `simulator_path` (mandatory): path to the simulation file, usually inside the project folder 'Simulation'\n",
    " \n",
    " - `project_path` (optional): path to the project containing the model. This should be an **absolute path**. If not specified, assumes we are running from inside the project folder    \n",
    "    \n",
    " - `temporary_consumers` (optional): boolean to specify if the CSVFileGenericConsumers are written in a temporary folder accessible by the CosmoInterface. By default is equal to False, so the consumers are written in their original location (in the folder 'Simulation/Output/') and the CosmoInterface has no access to the consumers."
   ]
  },
  {
   "cell_type": "code",
   "execution_count": 3,
   "id": "90a4b9bc",
   "metadata": {
    "tags": [
     "raises-exception"
    ]
   },
   "outputs": [],
   "source": [
    "#This example assumes that this notebook is in the folder containing the Brewery project\n",
    "#and that the model has been compiled with the python wrappers activated.\n",
    "\n",
    "from pathlib import Path\n",
    "cwd = Path().resolve()\n",
    "\n",
    "simulator = comets.CosmoInterface(\n",
    "   simulator_path = 'BreweryTutorialSimulation',\n",
    "   project_path = cwd,\n",
    "   temporary_consumers = True\n",
    ")"
   ]
  },
  {
   "cell_type": "markdown",
   "id": "cdac13d5",
   "metadata": {},
   "source": [
    "Now that the `CosmoInterface` is created, we can start to manipulate the simulator. "
   ]
  },
  {
   "cell_type": "markdown",
   "id": "cca45ca8",
   "metadata": {},
   "source": [
    "## Initializing the simulator\n",
    "To interact with the Cosmo Tech simulator we first need to initialize it:"
   ]
  },
  {
   "cell_type": "code",
   "execution_count": 4,
   "id": "dc4ee719",
   "metadata": {},
   "outputs": [],
   "source": [
    "simulator.initialize()"
   ]
  },
  {
   "cell_type": "markdown",
   "id": "6dd424f1",
   "metadata": {},
   "source": [
    "## Question 1\n",
    "\n",
    " <span style=\"font-size: larger;\"> What is the purpose of initialize() method ? </div>\n",
    " \n",
    "\n",
    "\n",
    "**1** - Create the CosmoInterface object.\n",
    "\n",
    "**2** - Reset all data on my computer.\n",
    "\n",
    "**3** - Load simulator instance and its associated data.\n",
    "\n",
    "**4** - Make it seem like I produce a lot of code during my day. "
   ]
  },
  {
   "cell_type": "code",
   "execution_count": 5,
   "id": "91a8acd2",
   "metadata": {
    "jupyter": {
     "source_hidden": true
    }
   },
   "outputs": [
    {
     "data": {
      "application/vnd.jupyter.widget-view+json": {
       "model_id": "abe74f200da4401b92bf82c45a09dce9",
       "version_major": 2,
       "version_minor": 0
      },
      "text/plain": [
       "VBox(children=(VBox(children=(Label(value='Enter the number corresponding to your answer:'), Text(value='0', l…"
      ]
     },
     "execution_count": 5,
     "metadata": {},
     "output_type": "execute_result"
    }
   ],
   "source": [
    "#\n",
    "question(T1Q1)"
   ]
  },
  {
   "cell_type": "markdown",
   "id": "640f3c7d",
   "metadata": {},
   "source": [
    "## Setting parameters\n",
    "Now that the simulator is loaded, we have the possibility to change the value of an attribute in the model. For that we use the `set_inputs()` method of `CosmoInterface` class, which takes as argument a `ParameterSet`: a set of parameters, stored as a dictionary containing names of parameters and their values. For a Cosmo Tech model, the name of a parameter corresponds to it localization in the model, given as a datapath. For instance NBWaiters and RestockQty datapath are:\n",
    " - `Model::{Entity}MyBar::@NbWaiters`\n",
    " - `Model::{Entity}MyBar::@RestockQty`\n",
    "\n",
    "We want to set the value of `NbWaiters` to 10 and `RestockQty` to 12."
   ]
  },
  {
   "cell_type": "markdown",
   "id": "b0e0cb79-ca05-4491-8269-74fd2ad407b6",
   "metadata": {},
   "source": [
    "## Exercise 1\n",
    "\n",
    "Fill in the cell below to reproduce the behavior as described above. You need to define the ParameterSet as `parameter` variable. Then you have set its values into the simulator.\n",
    "\n",
    "After writing your code, execute the cell. \n",
    "\n",
    "You can then execute the grading cell to check if your code is correct. \n",
    "\n",
    "If the execution of your code throws an error, you can still execute the grading cell below and you will be provided with some hints.\n"
   ]
  },
  {
   "cell_type": "code",
   "execution_count": 6,
   "id": "7409ddd4",
   "metadata": {},
   "outputs": [],
   "source": [
    "# Replace the comments below with your code:\n",
    "parameter = {\n",
    "    # --------------\n",
    "    # YOUR CODE HERE\n",
    "    # --------------\n",
    "}\n",
    "\n",
    "# Now set the parameters into the simulator\n",
    "# --------------\n",
    "# YOUR CODE HERE\n",
    "# --------------"
   ]
  },
  {
   "cell_type": "markdown",
   "id": "09fe415f-8297-40a2-943c-bafbac98116d",
   "metadata": {},
   "source": [
    "<details>\n",
    "<summary>Hint</summary>\n",
    "<br>\n",
    "Use the `set_inputs` method of the `simulator` variable.\n",
    "</details>"
   ]
  },
  {
   "cell_type": "markdown",
   "id": "6fd1e3ec-ce18-42b4-8da2-7cd5eb7fcf76",
   "metadata": {},
   "source": [
    "### Grading cell"
   ]
  },
  {
   "cell_type": "code",
   "execution_count": 7,
   "id": "5c287dfe-e144-4497-a1fe-df26848b03cd",
   "metadata": {
    "jupyter": {
     "source_hidden": true
    }
   },
   "outputs": [
    {
     "name": "stdout",
     "output_type": "stream",
     "text": [
      "Fill in the 'parameter' variable.\n"
     ]
    },
    {
     "data": {
      "text/html": [
       "\n",
       "    <div style=\"width: 0.0%; height: 20px; background-color: #4CAF50; float: left;\"></div>\n",
       "    <div style=\"width: 100.0%; height: 20px; background-color: #f44336; float: left;\"></div>\n",
       "    <p style=\"clear: both; margin-top: 5px;\">Correct Points: 0 / 2</p>\n",
       "    "
      ],
      "text/plain": [
       "<IPython.core.display.HTML object>"
      ]
     },
     "metadata": {},
     "output_type": "display_data"
    }
   ],
   "source": [
    "#\n",
    "grade_tuto1_ex1(parameter, simulator)"
   ]
  },
  {
   "cell_type": "markdown",
   "id": "b30511a8",
   "metadata": {},
   "source": [
    "## Running the simulation\n",
    "To run the simulation, we simply use the `run()` method."
   ]
  },
  {
   "cell_type": "code",
   "execution_count": 8,
   "id": "6a217cf1",
   "metadata": {},
   "outputs": [],
   "source": [
    "# Uncomment the line below and execute the cell to run the simulator\n",
    "# simulator.run()"
   ]
  },
  {
   "cell_type": "markdown",
   "id": "a526ba86",
   "metadata": {},
   "source": [
    "## Getting the simulation's results\n",
    "Now that the simulation is run, we can use the `get_outputs()` method of `CosmoInterface` class to get the final value of specific attributes in the model. This method takes a list of the output parameters' name as an argument. Remember, in a Cosmo Tech model, the name of a parameter corresponds to its datapath. For instance, the Stock datapath is: `Model::{Entity}MyBar::@Stock`\n",
    "\n",
    "Note that the output format of the `get_outputs()` method is a `ParameterSet`."
   ]
  },
  {
   "cell_type": "markdown",
   "id": "e4bac077-9d58-4e06-9666-9f49a0f2274e",
   "metadata": {},
   "source": [
    "## Exercise 2\n",
    "\n",
    "Fill in the cell below to recover the stock of entity `MyBar`, as described above. You need to define the correct `list_of_output_parameters` and get the value from the simulator. \n",
    "\n",
    "After writing your code, execute the cell. \n",
    "\n",
    "You can then execute the grading cell to check if your code is correct. \n",
    "\n",
    "If the execution of your code throws an error, you can still execute the grading cell below and you will be provided with some hints."
   ]
  },
  {
   "cell_type": "code",
   "execution_count": 9,
   "id": "bfded4c7",
   "metadata": {},
   "outputs": [
    {
     "name": "stdout",
     "output_type": "stream",
     "text": [
      "None\n"
     ]
    }
   ],
   "source": [
    "list_of_output_parameters = [\n",
    "    # --------------\n",
    "    # YOUR CODE HERE\n",
    "    # --------------\n",
    "]\n",
    "\n",
    "# Now get the stock Parameterset from the simulator, replacing \"None\" with your code.\n",
    "\n",
    "# -----------------------------\n",
    "# COMPLETE THE STATEMENT BELOW\n",
    "# -----------------------------\n",
    "stock = None\n",
    "\n",
    "print(stock)"
   ]
  },
  {
   "cell_type": "markdown",
   "id": "7f2c29a0-9ea3-4f73-95e5-9ed5328b933b",
   "metadata": {},
   "source": [
    "### Grading cell"
   ]
  },
  {
   "cell_type": "code",
   "execution_count": 10,
   "id": "22ce4ca9-f220-482d-bb96-af7075a5cbe2",
   "metadata": {
    "jupyter": {
     "source_hidden": true
    }
   },
   "outputs": [
    {
     "name": "stdout",
     "output_type": "stream",
     "text": [
      "Fill in the 'list_of_output_parameters' variable.\n",
      "Fill in the 'stock' variable.\n"
     ]
    },
    {
     "data": {
      "text/html": [
       "\n",
       "    <div style=\"width: 0.0%; height: 20px; background-color: #4CAF50; float: left;\"></div>\n",
       "    <div style=\"width: 100.0%; height: 20px; background-color: #f44336; float: left;\"></div>\n",
       "    <p style=\"clear: both; margin-top: 5px;\">Correct Points: 0 / 2</p>\n",
       "    "
      ],
      "text/plain": [
       "<IPython.core.display.HTML object>"
      ]
     },
     "metadata": {},
     "output_type": "display_data"
    }
   ],
   "source": [
    "#\n",
    "grade_tuto1_ex2(list_of_output_parameters, stock, simulator)"
   ]
  },
  {
   "cell_type": "markdown",
   "id": "85770e67",
   "metadata": {},
   "source": [
    "## Getting the simulation's consumers\n",
    "As we set the argument `temporary_consumers` to True when we created the CosmoInterface, we can get the simulation's consumers. This simulation (i.e 'BreweryTutorialSimulation') contains two consumers: one CSV file for the probe on the Stock and one CSV file for the probe on customer Satisfaction. To get the consumers we use the `get_consumers()` method. It returns a list of pandas dataframes corresponding to each file generated by a CSVFileGenericConsumer during the simulation. Note that this method requires a valid installation of pandas."
   ]
  },
  {
   "cell_type": "code",
   "execution_count": 11,
   "id": "ea3f54b9",
   "metadata": {},
   "outputs": [],
   "source": [
    "for dataframes in simulator.get_consumers():\n",
    "    display (dataframes.head())"
   ]
  },
  {
   "cell_type": "markdown",
   "id": "0da3cee5",
   "metadata": {},
   "source": [
    "## Getting the simulation's results with the consumers\n",
    "In this simulation, we consider that the stock at the end of the simulation is an output. To retrieve it, we previously used the `get_outputs()` method. However, this information is also available in the consumer that stored the StockProbe result in a CSV file. More precisely, as we want the stock value at the end of the simulation, this corresponds to the last probe result: the last row of the CSV file. We can get it with the following command: "
   ]
  },
  {
   "cell_type": "code",
   "execution_count": 12,
   "id": "08fdfcb3",
   "metadata": {},
   "outputs": [],
   "source": [
    "# Uncomment the line below and execute the cell to visualize the consumers\n",
    "# simulator.get_consumers()[0].iloc[-1]"
   ]
  },
  {
   "cell_type": "markdown",
   "id": "7794a91b",
   "metadata": {},
   "source": [
    "## Destroying the simulator\n",
    "Once we have finished to use the CosmoInterface and manipulate the simulator, we can terminate it, which will also clean up the temporary directory where consumers are written (note that you can get the path of this directory using `simulator.get_consumers_directory()`)."
   ]
  },
  {
   "cell_type": "code",
   "execution_count": 13,
   "id": "80f4dd2c",
   "metadata": {},
   "outputs": [],
   "source": [
    "# Uncomment the line below and execute the cell to destroy the simulator\n",
    "# simulator.terminate()"
   ]
  },
  {
   "cell_type": "markdown",
   "id": "e7edfc12",
   "metadata": {},
   "source": [
    "Now that you know how to use CoMETS to manipulate simulators, you will see in the next tutorial how use the CosmoInterface to create a Task."
   ]
  },
  {
   "cell_type": "markdown",
   "id": "ccac47bf-ac13-40c1-8823-f36e1c4e0c47",
   "metadata": {},
   "source": [
    "## Question 2\n",
    "\n",
    " <span style=\"font-size: larger;\"> Which of the following list contains the correct methods of the CosmoInterface ? </div>\n",
    "\n",
    "**1** - initialize(), set_inputs(), get_outputs(), terminate()\n",
    "\n",
    "**2** - initiate(), set_incomes(), get_outcomes(), exterminate()\n",
    "\n",
    "**3** - initialize(), set_input(), get_output(), terminate()\n",
    "\n",
    "**4** - initiator(), settle_down(), get_away(), terminator()"
   ]
  },
  {
   "cell_type": "code",
   "execution_count": 14,
   "id": "3b67c3ff-0600-428b-99ab-6ff5633cb893",
   "metadata": {
    "jupyter": {
     "source_hidden": true
    }
   },
   "outputs": [
    {
     "data": {
      "application/vnd.jupyter.widget-view+json": {
       "model_id": "55f64bc14bf8450d9d5336e60b5247a6",
       "version_major": 2,
       "version_minor": 0
      },
      "text/plain": [
       "VBox(children=(VBox(children=(Label(value='Enter the number corresponding to your answer:'), Text(value='0', l…"
      ]
     },
     "execution_count": 14,
     "metadata": {},
     "output_type": "execute_result"
    }
   ],
   "source": [
    "#\n",
    "question(T1Q2)"
   ]
  },
  {
   "cell_type": "code",
   "execution_count": null,
   "id": "5940d711-cb15-45b8-ba6d-f6700e0fa573",
   "metadata": {},
   "outputs": [],
   "source": []
  }
 ],
 "metadata": {
  "celltoolbar": "Edit Metadata",
  "kernelspec": {
   "display_name": "env",
   "language": "python",
   "name": "env"
  },
  "language_info": {
   "codemirror_mode": {
    "name": "ipython",
    "version": 3
   },
   "file_extension": ".py",
   "mimetype": "text/x-python",
   "name": "python",
   "nbconvert_exporter": "python",
   "pygments_lexer": "ipython3",
   "version": "3.9.2"
  }
 },
 "nbformat": 4,
 "nbformat_minor": 5
}
