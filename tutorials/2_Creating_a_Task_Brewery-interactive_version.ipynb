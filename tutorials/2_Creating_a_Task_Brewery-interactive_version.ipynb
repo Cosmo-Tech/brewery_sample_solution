{
 "cells": [
  {
   "cell_type": "code",
   "execution_count": 1,
   "id": "f5f0ad7a-5c6e-49b5-88cb-ce9e483e7511",
   "metadata": {},
   "outputs": [],
   "source": [
    "\n",
    "from grading_tools import *\n",
    "import ipywidgets as widgets\n",
    "import os\n",
    "from IPython.display import display\n",
    "%matplotlib widget"
   ]
  },
  {
   "cell_type": "markdown",
   "id": "4dedabcc",
   "metadata": {},
   "source": [
    "# Creating a task with the Brewery model\n",
    "\n",
    "This chapter is dedicated to tutorials on how to create a Task in the library. This step is essential as all the experiments in the library are performed on Tasks. A Task behaves as a function: it takes inputs, performs an evaluation and outputs the results. A Task defines a specific computation using a simulator. For example if we have a supply chain simulator, one task may be to compute the profit given some input demand, and another task may be to compute the service level given some inventory policy input. The tasks are different but rely on the same simulator. The task therefore allows to specify which inputs we want to experiment with, to pre-process these inputs, to evaluate a simulator and to post-process the outputs of the simulation. \n",
    "\n",
    "Suppose we want to perform an experimentation on the Brewery model (e.g an optimization). For this we have to specify which KPI we want to optimize and with respect to which input parameters. A Task allows this specification in a way such that the experiment is able to run the task automatically. This tutorial explains how to define such a task."
   ]
  },
  {
   "cell_type": "code",
   "execution_count": 2,
   "id": "2a2981f4",
   "metadata": {
    "jupyter": {
     "source_hidden": true
    },
    "tags": []
   },
   "outputs": [
    {
     "data": {
      "text/html": [
       "<img src=\"Comets_Workflow.png\" width=\"800\"/>"
      ],
      "text/plain": [
       "<IPython.core.display.Image object>"
      ]
     },
     "execution_count": 2,
     "metadata": {},
     "output_type": "execute_result"
    }
   ],
   "source": [
    "# code to display the diagram below\n",
    "from IPython.display import Image\n",
    "Image(url= \"Comets_Workflow.png\", width=800)"
   ]
  },
  {
   "cell_type": "markdown",
   "id": "574030ad",
   "metadata": {},
   "source": [
    "## The Brewery model\n",
    "\n",
    "We are working with a drink consumption model including stock level management and customer satisfaction dynamics. The model input parameters\n",
    "that we will deal with are: \n",
    "\n",
    "- `NBWaiters`: the number of waiters in the bar\n",
    "- `RestockQty`: a fix quantity of drinks added to the current stock of the bar once it reaches a threshold value.\n",
    "\n",
    "The Brewery model has no default outputs as the value of all attributes at the end of a simulation can be considered as an output. In our case we will use the following attributes:\n",
    "\n",
    " - `AverageSatisfaction`: the average customer satisfaction\n",
    " - `Stock`: the stock of the bar."
   ]
  },
  {
   "cell_type": "markdown",
   "id": "40d8cc11",
   "metadata": {},
   "source": [
    "## Importing the library\n",
    "\n",
    "For this tutorial we only need to import CoMETS:"
   ]
  },
  {
   "cell_type": "code",
   "execution_count": 3,
   "id": "77d4119e",
   "metadata": {},
   "outputs": [],
   "source": [
    "import comets "
   ]
  },
  {
   "cell_type": "markdown",
   "id": "d1a34639",
   "metadata": {},
   "source": [
    "## Creating a task with a Cosmo model\n",
    "\n",
    "CoMETS always works with the same method: **it performs analyses on Tasks**. A Task behaves as a function that takes as input a ParameterSet, performs an evaluation and outputs another ParameterSet. A ParameterSet consists of parameters stored as a dictionary containing their names and their values. \n",
    "\n",
    "The Task has a method `evaluate()`, in charge of performing the evaluation and returning the outputs.\n",
    "During the task evaluation, the simulation is run. When creating the task, we can also allow for some additional pre-processing of the input parameters or post-processing of the outputs. Note that it is possible to create different Tasks with the same model by using different pre-processing and/or post-processing.\n",
    "\n",
    "The task we will define here uses the Brewery model via a model interface, and can additionally perform some encoding on the inputs and some post-processing on the outputs of the model. It allows the experimenter, for example, to perform an experiment on a KPI that is not computed within the model but depends on the model outputs.\n",
    "\n",
    "In order to create our Task, we first we need to create a model interface that allows the library to manipulate the Brewery model. This is done with a CosmoInterface object. It will be declared with two arguments:\n",
    "\n",
    "- `simulator_path` (mandatory): path to the simulation file inside the folder Simulation of the project.  \n",
    "- `project_path` (optional): path to the project containing the model. This should be an absolute path. If not specified, the CosmoInterface assumes we are running from inside the project folder.  \n",
    "  \n",
    "  \n",
    "Another possible argument is `cold_input_parameter_set`. It enables you to fix a parameter’s value at the beginning of the experiment. This parameter’s value will not change during the entire experiment. "
   ]
  },
  {
   "cell_type": "code",
   "execution_count": 4,
   "id": "00971f28",
   "metadata": {},
   "outputs": [],
   "source": [
    "#This example assumes that this notebook is in the folder containing the Brewery project\n",
    "#and that the model has been compiled with the python wrappers activated.\n",
    "\n",
    "from pathlib import Path\n",
    "cwd = Path().resolve()\n",
    "\n",
    "simulator = comets.CosmoInterface(\n",
    "    simulator_path = 'BreweryTutorialSimulation',\n",
    "    project_path = cwd,\n",
    ")"
   ]
  },
  {
   "cell_type": "markdown",
   "id": "11a4c508",
   "metadata": {},
   "source": [
    "Now that the model interface is created, we can declare a task that uses this CosmoInterface.\n",
    "This is called a `ModelTask`. It will specify the CosmoInterface we are using, which encoding should be performed on the input parameters (optional) and the outcomes of interest of the task (optional).\n",
    "\n",
    "A `ModelTask` can take the following input arguments:\n",
    "\n",
    "- `modelinterface` (mandatory): ModelInterface used by the task to communicate with a model. In particular, for a Cosmo Tech model, it will be a CosmoInterface.\n",
    "- `encode` (callable, optional): An encoding function taking as argument a ParameterSet and returning a ParameterSet,\n",
    "            is applied to every ParameterSet given to the `ModelTask`. This encoding is performed before setting the input parameters of the model with the              ModelInterface.\n",
    "- `get_outcomes`  (callable, optional): A function taking as argument a ModelInterface and returning a ParameterSet, used to specify which outputs of the model are of interest to the experiment and to post-process them. If no function is provided, the default behavior is to return all default output parameters of the model.\n",
    "\n",
    "Since the Brewery model has no default output parameters, we will specify at least the following arguments:\n",
    "\n",
    "- `modelinterface`\n",
    "- `get_outcomes`\n",
    "\n",
    "Our `get_outcomes()` function will take as input the CosmoInterface defined above, and return a ParameterSet. It can use the methods of the CosmoInterface to access the model, in particular the `get_outputs()` method allows to access the attributes of the model.\n",
    "\n",
    "Once defined, we will execute the Task using its method `evaluate`. It takes a ParameterSet as only input argument. The internal steps performed by the Task are schematically represented as follows:"
   ]
  },
  {
   "cell_type": "code",
   "execution_count": 5,
   "id": "3ec81ada",
   "metadata": {
    "jupyter": {
     "source_hidden": true
    },
    "tags": []
   },
   "outputs": [
    {
     "data": {
      "text/html": [
       "<img src=\"Comets_ModelTask.png\" width=\"1100\"/>"
      ],
      "text/plain": [
       "<IPython.core.display.Image object>"
      ]
     },
     "execution_count": 5,
     "metadata": {},
     "output_type": "execute_result"
    }
   ],
   "source": [
    "# code to display the diagram below\n",
    "from IPython.display import Image\n",
    "Image(url= \"Comets_ModelTask.png\", width=1100)"
   ]
  },
  {
   "cell_type": "code",
   "execution_count": 6,
   "id": "5716f6b8",
   "metadata": {},
   "outputs": [],
   "source": [
    "def get_outcomes(simulator):\n",
    "    outputs = simulator.get_outputs(\n",
    "        ['Model::{Entity}MyBar::@AverageSatisfaction', 'Model::{Entity}MyBar::@Stock'])\n",
    "    AverageSatisfaction = outputs['Model::{Entity}MyBar::@AverageSatisfaction']\n",
    "    stock = outputs['Model::{Entity}MyBar::@Stock']\n",
    "    return {'AverageSatisfaction' : AverageSatisfaction, 'Stock' : stock}\n",
    "\n",
    "mytask = comets.ModelTask(modelinterface=simulator, get_outcomes=get_outcomes)"
   ]
  },
  {
   "cell_type": "markdown",
   "id": "126ff5c7",
   "metadata": {},
   "source": [
    "Note that we could also have used the `get_consumers()` method  instead of the `get_outputs()` to get the Stock's value. "
   ]
  },
  {
   "cell_type": "markdown",
   "id": "dc6fe8b9",
   "metadata": {},
   "source": [
    "Now that the task is defined, the library will be able to execute it.\n",
    "If we want to evaluate the task ourselves with specific inputs, we need to declare them in the format expected by the Cosmo model interface (since there is no encoding), which is a ParameterSet containing as keys the datapath to some attribute, and as value the value of the attribute at the beginning of the simulation:\n",
    "\n",
    "$$\n",
    "\\text{parameter set} = \\text{ {datapath1: value1, datapath2: value1} }\n",
    "$$"
   ]
  },
  {
   "cell_type": "code",
   "execution_count": 7,
   "id": "7964ceb3",
   "metadata": {},
   "outputs": [],
   "source": [
    "parameter_set = {'Model::{Entity}MyBar::@NbWaiters': 4,\n",
    "                 'Model::{Entity}MyBar::@RestockQty': 12}\n",
    "\n",
    "output = mytask.evaluate(parameter_set)"
   ]
  },
  {
   "cell_type": "markdown",
   "id": "99c80f4e",
   "metadata": {},
   "source": [
    "`output` is a dictionary containing the results of the task evaluation:"
   ]
  },
  {
   "cell_type": "code",
   "execution_count": 8,
   "id": "570f9e7f",
   "metadata": {},
   "outputs": [
    {
     "name": "stdout",
     "output_type": "stream",
     "text": [
      "{'AverageSatisfaction': 2, 'Stock': 15}\n"
     ]
    }
   ],
   "source": [
    "print(output)"
   ]
  },
  {
   "cell_type": "markdown",
   "id": "3714ae05-db26-4b1a-8bbc-8e445c407ff7",
   "metadata": {},
   "source": [
    "## Question 1\n",
    "\n",
    "<span style=\"font-size: larger;\"> Which one of these assertions is **false** ? </div>\n",
    "\n",
    "\n",
    "**1** - `get_outcomes` is a function taking a CosmoInterface object as input argument.\n",
    "\n",
    "**2** - A ModelTask is a kind of Task that can contain a Cosmo Tech simulator.\n",
    "\n",
    "**3** - The output of a Task is a ParameterSet. \n",
    "\n",
    "**4** - `get_outcomes` and `get_outputs` are different names for representing the same thing.\n",
    "\n",
    "**5** - In `get_outcomes`, I can access probes using the simulator `get_consumers()` method.\n",
    "\n",
    "**6** - In `get_outcomes`, I can access the simulator attributes using the simulator `get_outputs()` method."
   ]
  },
  {
   "cell_type": "code",
   "execution_count": 9,
   "id": "65945c8f-8c9d-4fb7-ac91-05162e161a3a",
   "metadata": {},
   "outputs": [
    {
     "data": {
      "application/vnd.jupyter.widget-view+json": {
       "model_id": "5bed41cf1cb841ab925f5aad239d9fe7",
       "version_major": 2,
       "version_minor": 0
      },
      "text/plain": [
       "VBox(children=(VBox(children=(Label(value='Enter the number corresponding to your answer:'), Text(value='0', l…"
      ]
     },
     "execution_count": 9,
     "metadata": {},
     "output_type": "execute_result"
    }
   ],
   "source": [
    "#\n",
    "question(T2Q1)"
   ]
  },
  {
   "cell_type": "markdown",
   "id": "5b174e5e",
   "metadata": {},
   "source": [
    "### The `encode` function\n",
    "\n",
    "So far, we have used \"raw\" input data. Sometimes, however, it is necessary or it may make sense to have the inputs in a different format. \n",
    "Using an encoder allows to do transformations on the input parameters of the model task before they are passed on to the model. The input parameters of the\n",
    "task no longer have to be in the format expected by the model -- as long as the encoder encodes the information correctly. Note that the input of the encoder should be in the `ParameterSet` format.\n",
    "\n",
    "For instance, instead of using the datapaths in the input ParameterSet like above, we can create an encoder that maps the names of the input parameters to their datapaths: \n"
   ]
  },
  {
   "cell_type": "code",
   "execution_count": 10,
   "id": "139b618a",
   "metadata": {},
   "outputs": [],
   "source": [
    "def encoder(parameters):\n",
    "    return {'Model::{Entity}MyBar::@NbWaiters': parameters['NbWaiters'],\n",
    "            'Model::{Entity}MyBar::@RestockQty': parameters['RestockQty']}\n"
   ]
  },
  {
   "cell_type": "markdown",
   "id": "542afc67-6ce3-4fc1-b80e-e22bb6ad1629",
   "metadata": {},
   "source": [
    "In this case, we will use a new `ParameterSet` format, that will be taken as an input argment of `encode` function, such as the following example:"
   ]
  },
  {
   "cell_type": "code",
   "execution_count": 11,
   "id": "0f600013-bb97-466c-b2e0-25209ed5105b",
   "metadata": {},
   "outputs": [],
   "source": [
    "parameter_set = {'NbWaiters': 4,\n",
    "                 'RestockQty': 12}"
   ]
  },
  {
   "cell_type": "markdown",
   "id": "5c3b3d6f-0d1a-4035-b894-eb42ae8a14e0",
   "metadata": {},
   "source": [
    "We also have to create the model interface that will be used by the `ModelTask`:"
   ]
  },
  {
   "cell_type": "code",
   "execution_count": 12,
   "id": "6d389837-190c-4ccd-813a-ffa254b4fa4c",
   "metadata": {},
   "outputs": [],
   "source": [
    "simulator = comets.CosmoInterface(\n",
    "    simulator_path = 'BreweryTutorialSimulation',\n",
    "    project_path = cwd,\n",
    ")"
   ]
  },
  {
   "cell_type": "markdown",
   "id": "af492672-6fd2-4a90-89b1-3525e4cc67e4",
   "metadata": {},
   "source": [
    "# Exercise 1\n",
    "\n",
    "Fill in the cells below to create a task using the `encode` function defined above and evaluate the task on `parameter_set` variable.\n",
    "\n",
    "After writing your code, execute the cell. \n",
    "\n",
    "You can then execute the grading cell to check if your code is correct. \n",
    "\n",
    "If the execution of your code throws an error, you can still execute the grading cell below and you will be provided with some hints."
   ]
  },
  {
   "cell_type": "markdown",
   "id": "82b860b0-502c-424d-b0cb-c9a5f18a89a8",
   "metadata": {},
   "source": [
    "In this first cell, you have to provide the two optional arguments (encode, get_outcomes) to the `ModelTask`."
   ]
  },
  {
   "cell_type": "code",
   "execution_count": 13,
   "id": "897882eb",
   "metadata": {},
   "outputs": [],
   "source": [
    "mytask2 = comets.ModelTask(\n",
    "    modelinterface = simulator,\n",
    "    # --------------\n",
    "    # YOUR CODE HERE\n",
    "    # --------------\n",
    ")"
   ]
  },
  {
   "cell_type": "markdown",
   "id": "13468234",
   "metadata": {},
   "source": [
    "Now, you have to evaluate the Task on the new parameter set (variable `parameter_set`). \n",
    "\n",
    "`output2` is a dictionary containing the results of the task evaluation. As the model is stochastic, the results of `mytask2` evaluation can be different from the results of `mytask`. "
   ]
  },
  {
   "cell_type": "code",
   "execution_count": 14,
   "id": "9a62499a",
   "metadata": {},
   "outputs": [
    {
     "name": "stdout",
     "output_type": "stream",
     "text": [
      "None\n"
     ]
    }
   ],
   "source": [
    "# -----------------------------\n",
    "# COMPLETE THE STATEMENT BELOW\n",
    "# -----------------------------\n",
    "output2 = None\n",
    "\n",
    "print(output2)"
   ]
  },
  {
   "cell_type": "markdown",
   "id": "e05dece9",
   "metadata": {},
   "source": [
    "### Grading cell"
   ]
  },
  {
   "cell_type": "code",
   "execution_count": 15,
   "id": "638166d6",
   "metadata": {},
   "outputs": [
    {
     "name": "stdout",
     "output_type": "stream",
     "text": [
      "Fill in the CosmoInterface arguments.\n",
      "Fill in the 'output2' variable.\n"
     ]
    },
    {
     "data": {
      "text/html": [
       "\n",
       "    <div style=\"width: 0.0%; height: 20px; background-color: #4CAF50; float: left;\"></div>\n",
       "    <div style=\"width: 100.0%; height: 20px; background-color: #f44336; float: left;\"></div>\n",
       "    <p style=\"clear: both; margin-top: 5px;\">Correct Points: 0 / 2</p>\n",
       "    "
      ],
      "text/plain": [
       "<IPython.core.display.HTML object>"
      ]
     },
     "metadata": {},
     "output_type": "display_data"
    }
   ],
   "source": [
    "#\n",
    "grade_tuto2_ex1(mytask2, output2)"
   ]
  },
  {
   "cell_type": "markdown",
   "id": "c63a642b",
   "metadata": {},
   "source": [
    "### The `get_outcomes` function\n",
    "\n",
    "In addition to selecting the model outputs, the `get_outcomes` function offers the possibility to compute other quantities that depend on\n",
    "the model outputs, such as KPIs that are of interest to the experiment.\n",
    "\n",
    "Imagine for example that the maximum stock capacity of the bar is 50 drinks. We want to return a percentage of this maximum capacity instead of the actual stock.  This quantity can be computed as follows: \n",
    "\n",
    "$$\n",
    "\\text{maximum capacity percentage} = \\frac{\\text{Stock}}{50}\n",
    "$$\n",
    "\n",
    "We are going to use a `get_outcomes` function to compute this quantity."
   ]
  },
  {
   "cell_type": "markdown",
   "id": "ae31b6f6-805c-426a-997c-098744ce3c95",
   "metadata": {},
   "source": [
    "# Exercise 2\n",
    "\n",
    "Fill in the cell below to define the `get_outcomes2` method. You can access the actual stock value using its datapath `Model::{Entity}MyBar::@Stock`. Then, you can compute the maximum capacity percentage using the formula above.\n",
    "\n",
    "After writing your code, execute the cell. \n",
    "\n",
    "You can then execute the grading cell to check if your code is correct. \n",
    "\n",
    "If the execution of your code throws an error, you can still execute the grading cell below and you will be provided with some hints."
   ]
  },
  {
   "cell_type": "code",
   "execution_count": 16,
   "id": "569b736f",
   "metadata": {},
   "outputs": [],
   "source": [
    "def get_outcomes2(simulator):\n",
    "    maximum_capacity_percentage = None\n",
    "    # --------------\n",
    "    # YOUR CODE HERE\n",
    "    # --------------\n",
    "    return { 'maximum capacity percentage' : 0.2}"
   ]
  },
  {
   "cell_type": "markdown",
   "id": "8aa9b49e-8789-4d59-907d-fae271c36f6a",
   "metadata": {},
   "source": [
    "### Grading cell"
   ]
  },
  {
   "cell_type": "code",
   "execution_count": 17,
   "id": "1a8db837-149c-42de-92a8-5c7fced35ae2",
   "metadata": {},
   "outputs": [
    {
     "data": {
      "text/html": [
       "\n",
       "    <div style=\"width: 100.0%; height: 20px; background-color: #4CAF50; float: left;\"></div>\n",
       "    <div style=\"width: 0.0%; height: 20px; background-color: #f44336; float: left;\"></div>\n",
       "    <p style=\"clear: both; margin-top: 5px;\">Correct Points: 1 / 1</p>\n",
       "    "
      ],
      "text/plain": [
       "<IPython.core.display.HTML object>"
      ]
     },
     "metadata": {},
     "output_type": "display_data"
    }
   ],
   "source": [
    "#\n",
    "grade_tuto2_ex2(get_outcomes2)"
   ]
  },
  {
   "cell_type": "markdown",
   "id": "b1636286",
   "metadata": {},
   "source": [
    "Now we can create the model interface, the task and declare the `get_outcomes` function to use:"
   ]
  },
  {
   "cell_type": "code",
   "execution_count": 18,
   "id": "71e51bdb-5e44-458c-9d7d-e5ab838b3cdc",
   "metadata": {},
   "outputs": [],
   "source": [
    "simulator = comets.CosmoInterface(\n",
    "    simulator_path = 'BreweryTutorialSimulation',\n",
    "    project_path = cwd,\n",
    ")\n",
    "\n",
    "\n",
    "mytask3 = comets.ModelTask(\n",
    "    modelinterface = simulator,\n",
    "    encode = encoder,\n",
    "    get_outcomes = get_outcomes2)"
   ]
  },
  {
   "cell_type": "markdown",
   "id": "ba688564",
   "metadata": {},
   "source": [
    "The task can now be evaluated:"
   ]
  },
  {
   "cell_type": "code",
   "execution_count": 19,
   "id": "3a3d6a5c",
   "metadata": {},
   "outputs": [],
   "source": [
    "parameter_set = {'NbWaiters': 4,\n",
    "                 'RestockQty': 12}\n",
    "\n",
    "output3 = mytask3.evaluate(parameter_set)"
   ]
  },
  {
   "cell_type": "markdown",
   "id": "ae2be3ca",
   "metadata": {},
   "source": [
    "`outputs3` is a dictionary containing the results of the task evaluation:"
   ]
  },
  {
   "cell_type": "code",
   "execution_count": 20,
   "id": "a00c1f92",
   "metadata": {},
   "outputs": [
    {
     "name": "stdout",
     "output_type": "stream",
     "text": [
      "{'maximum capacity percentage': 0.2}\n"
     ]
    }
   ],
   "source": [
    "print(output3)"
   ]
  },
  {
   "cell_type": "markdown",
   "id": "5570be1d",
   "metadata": {},
   "source": [
    "## Conclusion\n",
    "\n",
    "You are now able to connect the Brewery model to the library via a task. The task plays a key role in all the experiments,\n",
    "so now that you know how to declare and use it, you can start experimenting!"
   ]
  },
  {
   "cell_type": "markdown",
   "id": "d7fe2962-9a22-4a5a-a2a7-9f22ae2e57e9",
   "metadata": {},
   "source": [
    "## Question 2\n",
    "\n",
    " <span style=\"font-size: larger;\"> What are the key components of a ModelTask ? </div>\n",
    "\n",
    "**1** - The encoder, the simulator and the get_outcomes function.\n",
    "\n",
    "**2** - It contains a list of ParameterSets.\n",
    "\n",
    "**3** - The Stock quantity and average client satisfaction.\n",
    "\n",
    "**4** - "
   ]
  },
  {
   "cell_type": "code",
   "execution_count": 21,
   "id": "cf3bfed3-6e93-410c-9755-65b11a54beaf",
   "metadata": {},
   "outputs": [
    {
     "data": {
      "application/vnd.jupyter.widget-view+json": {
       "model_id": "d30f1af6c0164b1888328d577298582d",
       "version_major": 2,
       "version_minor": 0
      },
      "text/plain": [
       "VBox(children=(VBox(children=(Label(value='Enter the number corresponding to your answer:'), Text(value='0', l…"
      ]
     },
     "execution_count": 21,
     "metadata": {},
     "output_type": "execute_result"
    }
   ],
   "source": [
    "#\n",
    "question(T2Q2)"
   ]
  },
  {
   "cell_type": "code",
   "execution_count": null,
   "id": "9608bc7e-daba-4e83-ba33-3bb13b59fb93",
   "metadata": {},
   "outputs": [],
   "source": []
  }
 ],
 "metadata": {
  "kernelspec": {
   "display_name": "env",
   "language": "python",
   "name": "env"
  },
  "language_info": {
   "codemirror_mode": {
    "name": "ipython",
    "version": 3
   },
   "file_extension": ".py",
   "mimetype": "text/x-python",
   "name": "python",
   "nbconvert_exporter": "python",
   "pygments_lexer": "ipython3",
   "version": "3.9.2"
  }
 },
 "nbformat": 4,
 "nbformat_minor": 5
}
