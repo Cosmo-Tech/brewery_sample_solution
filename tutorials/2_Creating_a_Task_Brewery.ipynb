{
 "cells": [
  {
   "cell_type": "markdown",
   "id": "b481413f",
   "metadata": {},
   "source": [
    "# Creating a task with the Brewery model\n",
    "\n",
    "This chapter is dedicated to tutorials on how to create a Task in the library. This step is essential as all the experiments in the library are performed on Tasks. A Task behaves as a function: it takes inputs, performs an evaluation and outputs the results. A Task defines a specific computation using a simulator. For example if we have a supply chain simulator one task may compute the profit given some input demand, and another task may compute the service level given some inventory policy input. The tasks are different but rely on the same simulator. The task therefore allows to specify which inputs we want to experiment with, to pre-process these inputs, to evaluate a simulator and to post-process the outputs of the simulation. \n",
    "\n",
    "Suppose we want to perform an experimentation on the Brewery model (e.g an optimization). For this we have to specify which KPI we want to optimize and with respect to which input parameters. A Task allows this specification in a way such that the experiment is able to run the task automatically. This tutorial explains how to define such a task."
   ]
  },
  {
   "cell_type": "code",
   "execution_count": 1,
   "id": "438122e3",
   "metadata": {
    "jupyter": {
     "source_hidden": true
    }
   },
   "outputs": [
    {
     "data": {
      "text/html": [
       "<img src=\"Comets_Workflow.png\" width=\"800\"/>"
      ],
      "text/plain": [
       "<IPython.core.display.Image object>"
      ]
     },
     "execution_count": 1,
     "metadata": {},
     "output_type": "execute_result"
    }
   ],
   "source": [
    "# code to display the diagram below\n",
    "from IPython.display import Image\n",
    "Image(url= \"Comets_Workflow.png\", width=800)"
   ]
  },
  {
   "cell_type": "markdown",
   "id": "95d5a807",
   "metadata": {},
   "source": [
    "## The Brewery model\n",
    "\n",
    "We are working with a drink consumption model including stock level management and customer satisfaction dynamics. The model input parameters\n",
    "that we will deal with are: \n",
    "\n",
    "- NBWaiters: the number of waiters in the bar\n",
    "- RestockQty: a fix quantity of drinks added to the current stock of the bar once it reaches a threshold value.\n",
    "\n",
    "The Brewery model has no default outputs as the value of all attributes at the end of a simulation can be considered as an output. In our case we will use the following attributes:\n",
    "\n",
    " - AverageSatisfaction: the average customer satisfaction\n",
    " - Stock: the stock of the bar."
   ]
  },
  {
   "cell_type": "markdown",
   "id": "c48d3abc",
   "metadata": {},
   "source": [
    "## Importing the library\n",
    "\n",
    "For this tutorial we only need to import comets:"
   ]
  },
  {
   "cell_type": "code",
   "execution_count": 2,
   "id": "4a3eeaea",
   "metadata": {},
   "outputs": [],
   "source": [
    "import comets "
   ]
  },
  {
   "cell_type": "markdown",
   "id": "56cc76b1",
   "metadata": {},
   "source": [
    "## Creating a task with a Cosmo model\n",
    "\n",
    "Comets always works with the same method: **it performs analyses on Tasks**. A Task behaves as a function that takes as input a ParameterSet, performs an evaluation and outputs another ParameterSet. A ParameterSet consists of parameters stored as a dictionary containing their names and their values. \n",
    "\n",
    "The Task has a method *evaluate*, in charge of performing the evaluation and returning the outputs.\n",
    "During the task evaluation, the simulation is run. When creating the task, we can also allow for some additional pre-processing of the input parameters or post-processing of the outputs. Note that it is possible to create different Tasks with the same model by using different pre-processing and/or post-processing.\n",
    "\n",
    "The task we will define here uses the Brewery model via a model interface, and can additionally perform some encoding on the inputs and some post-processing on the outputs of the model. It allows the experimenter, for example, to perform an experiment on a KPI that is not computed within the model but depends on the model outputs.\n",
    "\n",
    "In order to create our Task, we first we need to create a model interface that allows the library to manipulate the Brewery model. This is done with a CosmoInterface object. It will be declared with two arguments:\n",
    "\n",
    "- **simulator_path** (mandatory): path to the simulation file inside the folder Simulation of the project.  \n",
    "- **project_path** (optional): path to the project containing the model. This should be an absolute path. If not specified, the CosmoInterface assumes we are running from inside the project folder.  \n",
    "  \n",
    "  \n",
    "Another possible argument is cold_input_parameter_set. It enables you to fix a parameter’s value at the beginning of the experiment. This parameter’s value will not change during the entire experiment. "
   ]
  },
  {
   "cell_type": "code",
   "execution_count": 3,
   "id": "eeb4daeb",
   "metadata": {},
   "outputs": [],
   "source": [
    "#This example assumes that this notebook is in the folder containing the Brewery project\n",
    "#and that the model has been compiled with the python wrappers activated.\n",
    "\n",
    "from pathlib import Path\n",
    "cwd = Path().resolve()\n",
    "\n",
    "simulator = comets.CosmoInterface(\n",
    "    simulator_path = 'BreweryTutorialSimulation',\n",
    "    project_path = cwd,\n",
    ")"
   ]
  },
  {
   "cell_type": "markdown",
   "id": "4912fb99",
   "metadata": {},
   "source": [
    "Now that the model interface is created, we can declare a task that uses this CosmoInterface.\n",
    "This is called a `ModelTask`. It will specify the CosmoInterface we are using, which encoding should be performed on the input parameters (optional) and the outcomes of interest of the task (optional).\n",
    "\n",
    "A `ModelTask` can take the following input arguments:\n",
    "\n",
    "- `modelinterface` (mandatory): ModelInterface used by the task to communicate with a model. In particular, for a Cosmo Tech model, it will be a CosmoInterface.\n",
    "- `encode` (callable, optional): An encoding function taking as argument a ParameterSet and returning a ParameterSet,\n",
    "            is applied to every ParameterSet given to the `ModelTask`. This encoding is performed before setting the input parameters of the model with the              ModelInterface.\n",
    "- `get_outcomes`  (callable, optional): A function taking as argument a ModelInterface and returning a ParameterSet, used to specify which outputs of the model are of interest to the experiment and to post-process them. If no function is provided, the default behavior is to return all default output parameters of the model.\n",
    "\n",
    "Since the Brewery model has no default output parameters, we will specify at least the following arguments:\n",
    "\n",
    "- `modelinterface`\n",
    "- `get_outcomes`\n",
    "\n",
    "Our `get_outcomes()` function will take as input the CosmoInterface defined above, and return a ParameterSet. It can use the methods of the CosmoInterface to access the model, in particular the `get_outputs()` method allows to access the attributes of the model.\n",
    "\n",
    "Once defined, we will execute the Task using its method `evaluate`. It takes a ParameterSet as only input argument. The internal steps performed by the Task are schematically represented as follows:"
   ]
  },
  {
   "cell_type": "code",
   "execution_count": 4,
   "id": "4e4336c2",
   "metadata": {
    "jupyter": {
     "source_hidden": true
    }
   },
   "outputs": [
    {
     "data": {
      "text/html": [
       "<img src=\"Comets_ModelTask.png\" width=\"1100\"/>"
      ],
      "text/plain": [
       "<IPython.core.display.Image object>"
      ]
     },
     "execution_count": 4,
     "metadata": {},
     "output_type": "execute_result"
    }
   ],
   "source": [
    "# code to display the diagram below\n",
    "from IPython.display import Image\n",
    "Image(url= \"Comets_ModelTask.png\", width=1100)"
   ]
  },
  {
   "cell_type": "code",
   "execution_count": 5,
   "id": "c82de7c6",
   "metadata": {},
   "outputs": [],
   "source": [
    "def get_outcomes(simulator):\n",
    "    outputs = simulator.get_outputs(['Model::{Entity}MyBar::@AverageSatisfaction', 'Model::{Entity}MyBar::@Stock'])\n",
    "    AverageSatisfaction = outputs['Model::{Entity}MyBar::@AverageSatisfaction']\n",
    "    stock = outputs['Model::{Entity}MyBar::@Stock']\n",
    "    return {'AverageSatisfaction' : AverageSatisfaction, 'Stock' : stock}\n",
    "\n",
    "mytask = comets.ModelTask(modelinterface=simulator, get_outcomes=get_outcomes)"
   ]
  },
  {
   "cell_type": "markdown",
   "id": "c5311a52",
   "metadata": {},
   "source": [
    "Note that we could also have used the get_consumers() method  instead of the get_outputs() to get the Stock's value. "
   ]
  },
  {
   "cell_type": "markdown",
   "id": "eb5824d2",
   "metadata": {},
   "source": [
    "Now that the task is defined, the library will be able to execute it.\n",
    "If we want to evaluate the task ourselves with specific inputs, we need to declare them in the format expected by the Cosmo model interface (since there is no encoding), which is a ParameterSet containing as keys the datapath to some attribute, and as value the value of the attribute at the beginning of the simulation:\n",
    "\n",
    "$$\n",
    "\\text{parameter set} = \\text{ {datapath1: value1, datapath2: value1} }\n",
    "$$"
   ]
  },
  {
   "cell_type": "code",
   "execution_count": 6,
   "id": "9abc3063",
   "metadata": {},
   "outputs": [],
   "source": [
    "parameter_set = {'Model::{Entity}MyBar::@NbWaiters': 4,\n",
    "                 'Model::{Entity}MyBar::@RestockQty': 12}\n",
    "\n",
    "output = mytask.evaluate(parameter_set)"
   ]
  },
  {
   "cell_type": "markdown",
   "id": "999fcca6",
   "metadata": {},
   "source": [
    "output is a dictionary containing the results of the task evaluation:"
   ]
  },
  {
   "cell_type": "code",
   "execution_count": 7,
   "id": "7269f803",
   "metadata": {},
   "outputs": [
    {
     "name": "stdout",
     "output_type": "stream",
     "text": [
      "{'AverageSatisfaction': 1, 'Stock': 16}\n"
     ]
    }
   ],
   "source": [
    "print(output)"
   ]
  },
  {
   "cell_type": "markdown",
   "id": "85b7c5e8",
   "metadata": {},
   "source": [
    "### Encode function\n",
    "\n",
    "Using an encoder allows to do transformations on the input parameters of the model task before they are passed on to the model. The input parameters of the\n",
    "task no longer have to be in the format expected by the model as long as the encoder encodes the information correctly. Note that the input of the encoder should be in the ParameterSet's format.\n",
    "\n",
    "For instance, instead of using the datapaths in the input ParameterSet like above, we can create an encoder that maps the names of the input parameters to their datapaths: \n"
   ]
  },
  {
   "cell_type": "code",
   "execution_count": 8,
   "id": "4fcb2c27",
   "metadata": {},
   "outputs": [],
   "source": [
    "def encoder(parameters):\n",
    "    return {'Model::{Entity}MyBar::@NbWaiters': parameters['NbWaiters'],\n",
    "            'Model::{Entity}MyBar::@RestockQty': parameters['RestockQty']}\n"
   ]
  },
  {
   "cell_type": "markdown",
   "id": "0097de59-ca95-48b5-a51e-f4e172562946",
   "metadata": {},
   "source": [
    "In this case, we will use a new `ParameterSet` format, that will be taken as an input argment of `encode` function, such as the following example:"
   ]
  },
  {
   "cell_type": "code",
   "execution_count": null,
   "id": "69efca3a-9c7c-48f0-9957-54334484e87e",
   "metadata": {},
   "outputs": [],
   "source": [
    "parameter_set = {'NbWaiters': 4,\n",
    "                 'RestockQty': 12}"
   ]
  },
  {
   "cell_type": "markdown",
   "id": "3a26bcde-61fb-4fb3-b619-d74717957e9c",
   "metadata": {},
   "source": [
    "We also have to create the model interface that will be used by the `ModelTask`:"
   ]
  },
  {
   "cell_type": "code",
   "execution_count": null,
   "id": "c333077f-294c-4392-b49b-b097e50d1f80",
   "metadata": {},
   "outputs": [],
   "source": [
    "simulator = comets.CosmoInterface(\n",
    "    simulator_path = 'BreweryTutorialSimulation',\n",
    "    project_path = cwd,\n",
    ")"
   ]
  },
  {
   "cell_type": "markdown",
   "id": "6f5ee797",
   "metadata": {},
   "source": [
    "We create the task and declare the encoder to use:"
   ]
  },
  {
   "cell_type": "code",
   "execution_count": 1,
   "id": "897882eb",
   "metadata": {},
   "outputs": [
    {
     "ename": "NameError",
     "evalue": "name 'comets' is not defined",
     "output_type": "error",
     "traceback": [
      "\u001b[0;31m---------------------------------------------------------------------------\u001b[0m",
      "\u001b[0;31mNameError\u001b[0m                                 Traceback (most recent call last)",
      "Cell \u001b[0;32mIn[1], line 1\u001b[0m\n\u001b[0;32m----> 1\u001b[0m mytask2 \u001b[38;5;241m=\u001b[39m \u001b[43mcomets\u001b[49m\u001b[38;5;241m.\u001b[39mModelTask(\n\u001b[1;32m      2\u001b[0m     modelinterface \u001b[38;5;241m=\u001b[39m simulator,\n\u001b[1;32m      3\u001b[0m     encode \u001b[38;5;241m=\u001b[39m encoder,\n\u001b[1;32m      4\u001b[0m     get_outcomes \u001b[38;5;241m=\u001b[39m get_outcomes)\n",
      "\u001b[0;31mNameError\u001b[0m: name 'comets' is not defined"
     ]
    }
   ],
   "source": [
    "mytask2 = comets.ModelTask(\n",
    "    modelinterface = simulator,\n",
    "    encode = encoder,\n",
    "    get_outcomes = get_outcomes)"
   ]
  },
  {
   "cell_type": "markdown",
   "id": "cf7232b8",
   "metadata": {},
   "source": [
    "The task can now be evaluated with the new parameter set:"
   ]
  },
  {
   "cell_type": "code",
   "execution_count": 10,
   "id": "142660bc",
   "metadata": {},
   "outputs": [],
   "source": [
    "output2 = mytask2.evaluate(parameter_set)"
   ]
  },
  {
   "cell_type": "markdown",
   "id": "12871364",
   "metadata": {},
   "source": [
    "output2 is a dictionary containing the results of the task evaluation. As the model is stochastic, mytask2’s results can be different from mytask’s results. "
   ]
  },
  {
   "cell_type": "code",
   "execution_count": 11,
   "id": "9f52889d",
   "metadata": {},
   "outputs": [
    {
     "name": "stdout",
     "output_type": "stream",
     "text": [
      "{'AverageSatisfaction': 1, 'Stock': 17}\n"
     ]
    }
   ],
   "source": [
    "print(output2)"
   ]
  },
  {
   "cell_type": "markdown",
   "id": "8e6de25f",
   "metadata": {},
   "source": [
    "### get_outcomes function\n",
    "\n",
    "In addition to selecting the model outputs, the get_outcomes function offers the possibility to compute other quantities that depend on\n",
    "the model outputs, such as KPIs that are of interest to the experiment.\n",
    "\n",
    "Imagine for example that the maximum stock capacity of the bar is 50 drinks. We want to return a percentage of this maximum capacity instead of the actual stock.  This quantity can be computed as follows: \n",
    "\n",
    "$$\n",
    "\\text{maximum capacity percentage} = \\frac{\\text{Stock}}{50}\n",
    "$$\n",
    "\n",
    "We are going to use a get_outcomes function to compute this quantity:"
   ]
  },
  {
   "cell_type": "code",
   "execution_count": 12,
   "id": "81f15d7d",
   "metadata": {},
   "outputs": [],
   "source": [
    "def get_outcomes2(simulator):\n",
    "    output = simulator.get_outputs(['Model::{Entity}MyBar::@Stock'])\n",
    "    stock = output['Model::{Entity}MyBar::@Stock']\n",
    "    maximum_capacity_percentage = stock/50\n",
    "    return { 'maximum capacity percentage' : maximum_capacity_percentage}"
   ]
  },
  {
   "cell_type": "markdown",
   "id": "f2245e7e",
   "metadata": {},
   "source": [
    "Now we can create the model interface, the task and declare the get_outcomes function to use:"
   ]
  },
  {
   "cell_type": "code",
   "execution_count": 13,
   "id": "a300c842",
   "metadata": {},
   "outputs": [],
   "source": [
    "simulator = comets.CosmoInterface(\n",
    "    simulator_path = 'BreweryTutorialSimulation',\n",
    "    project_path = cwd,\n",
    ")\n",
    "\n",
    "\n",
    "mytask3 = comets.ModelTask(\n",
    "    modelinterface = simulator,\n",
    "    encode = encoder,\n",
    "    get_outcomes = get_outcomes2)"
   ]
  },
  {
   "cell_type": "markdown",
   "id": "de805237",
   "metadata": {},
   "source": [
    "The task can now be evaluated:"
   ]
  },
  {
   "cell_type": "code",
   "execution_count": 14,
   "id": "ec0641b5",
   "metadata": {},
   "outputs": [],
   "source": [
    "parameter_set = {'NbWaiters': 4,\n",
    "                 'RestockQty': 12}\n",
    "\n",
    "output3 = mytask3.evaluate(parameter_set)"
   ]
  },
  {
   "cell_type": "markdown",
   "id": "5af1d983",
   "metadata": {},
   "source": [
    "outputs is a dictionary containing the results of the task evaluation:"
   ]
  },
  {
   "cell_type": "code",
   "execution_count": 15,
   "id": "2f29650d",
   "metadata": {},
   "outputs": [
    {
     "name": "stdout",
     "output_type": "stream",
     "text": [
      "{'maximum capacity percentage': 0.32}\n"
     ]
    }
   ],
   "source": [
    "print(output3)"
   ]
  },
  {
   "cell_type": "markdown",
   "id": "29dfee8d",
   "metadata": {},
   "source": [
    "## Conclusion\n",
    "\n",
    "You are now able to connect the Brewery model to the library via a task. The task plays a key role in all the experiments,\n",
    "now that you know how to declare and use it, you can start experimenting!"
   ]
  }
 ],
 "metadata": {
  "kernelspec": {
   "display_name": "env",
   "language": "python",
   "name": "env"
  },
  "language_info": {
   "codemirror_mode": {
    "name": "ipython",
    "version": 3
   },
   "file_extension": ".py",
   "mimetype": "text/x-python",
   "name": "python",
   "nbconvert_exporter": "python",
   "pygments_lexer": "ipython3",
   "version": "3.7.3"
  }
 },
 "nbformat": 4,
 "nbformat_minor": 5
}
