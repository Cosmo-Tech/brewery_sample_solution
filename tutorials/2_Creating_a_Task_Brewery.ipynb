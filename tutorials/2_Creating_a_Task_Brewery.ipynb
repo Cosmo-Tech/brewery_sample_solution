{
 "cells": [
  {
   "cell_type": "markdown",
   "id": "4dedabcc",
   "metadata": {},
   "source": [
    "# Creating a task with the Brewery model\n",
    "\n",
    "This chapter is dedicated to tutorials on how to create a Task in the library. This step is essential as all the experiments in the library are performed on Tasks. A Task behaves as a function: it takes inputs, performs an evaluation and outputs the results. A Task defines a specific computation using a simulator. For example if we have a supply chain simulator, one task may be to compute the profit given some input demand, and another task may be to compute the service level given some inventory policy input. The tasks are different but rely on the same simulator. The task therefore allows to specify which inputs we want to experiment with, to pre-process these inputs, to evaluate a simulator and to post-process the outputs of the simulation. \n",
    "\n",
    "Suppose we want to perform an experimentation on the Brewery model (e.g an optimization). For this we have to specify which KPI we want to optimize and with respect to which input parameters. A Task allows this specification in a way such that the experiment is able to run the task automatically. This tutorial explains how to define such a task."
   ]
  },
  {
   "cell_type": "code",
   "execution_count": 1,
   "id": "2a2981f4",
   "metadata": {
    "jupyter": {
     "source_hidden": true
    },
    "tags": []
   },
   "outputs": [
    {
     "data": {
      "text/html": [
       "<img src=\"Comets_Workflow.png\" width=\"800\"/>"
      ],
      "text/plain": [
       "<IPython.core.display.Image object>"
      ]
     },
     "execution_count": 1,
     "metadata": {},
     "output_type": "execute_result"
    }
   ],
   "source": [
    "# code to display the diagram below\n",
    "from IPython.display import Image\n",
    "Image(url= \"Comets_Workflow.png\", width=800)"
   ]
  },
  {
   "cell_type": "markdown",
   "id": "574030ad",
   "metadata": {},
   "source": [
    "## The Brewery model\n",
    "\n",
    "We are working with a drink consumption model including stock level management and customer satisfaction dynamics. The model input parameters\n",
    "that we will deal with are: \n",
    "\n",
    "- `NBWaiters`: the number of waiters in the bar\n",
    "- `RestockQty`: a fix quantity of drinks added to the current stock of the bar once it reaches a threshold value.\n",
    "\n",
    "The Brewery model has no default outputs as the value of all attributes at the end of a simulation can be considered as an output. In our case we will use the following attributes:\n",
    "\n",
    " - `AverageSatisfaction`: the average customer satisfaction\n",
    " - `Stock`: the stock of the bar."
   ]
  },
  {
   "cell_type": "markdown",
   "id": "40d8cc11",
   "metadata": {},
   "source": [
    "## Importing the library\n",
    "\n",
    "For this tutorial we only need to import CoMETS:"
   ]
  },
  {
   "cell_type": "code",
   "execution_count": 2,
   "id": "77d4119e",
   "metadata": {},
   "outputs": [],
   "source": [
    "import comets "
   ]
  },
  {
   "cell_type": "markdown",
   "id": "d1a34639",
   "metadata": {},
   "source": [
    "## Creating a task with a Cosmo model\n",
    "\n",
    "CoMETS always works with the same method: **it performs analyses on Tasks**. A Task behaves as a function that takes as input a ParameterSet, performs an evaluation and outputs another ParameterSet. A ParameterSet consists of parameters stored as a dictionary containing their names and their values. \n",
    "\n",
    "The Task has a method `evaluate()`, in charge of performing the evaluation and returning the outputs.\n",
    "During the task evaluation, the simulation is run. When creating the task, we can also allow for some additional pre-processing of the input parameters or post-processing of the outputs. Note that it is possible to create different Tasks with the same model by using different pre-processing and/or post-processing.\n",
    "\n",
    "The task we will define here uses the Brewery model via a model interface, and can additionally perform some encoding on the inputs and some post-processing on the outputs of the model. It allows the experimenter, for example, to perform an experiment on a KPI that is not computed within the model but depends on the model outputs.\n",
    "\n",
    "In order to create our Task, we first we need to create a model interface that allows the library to manipulate the Brewery model. This is done with a CosmoInterface object. It will be declared with two arguments:\n",
    "\n",
    "- `simulator_path` (mandatory): path to the simulation file inside the folder Simulation of the project.  \n",
    "- `project_path` (optional): path to the project containing the model. This should be an absolute path. If not specified, the CosmoInterface assumes we are running from inside the project folder.  \n",
    "  \n",
    "  \n",
    "Another possible argument is `cold_input_parameter_set`. It enables you to fix a parameter’s value at the beginning of the experiment. This parameter’s value will not change during the entire experiment. "
   ]
  },
  {
   "cell_type": "code",
   "execution_count": 3,
   "id": "00971f28",
   "metadata": {},
   "outputs": [],
   "source": [
    "#This example assumes that this notebook is in the folder containing the Brewery project\n",
    "#and that the model has been compiled with the python wrappers activated.\n",
    "\n",
    "from pathlib import Path\n",
    "cwd = Path().resolve()\n",
    "\n",
    "simulator = comets.CosmoInterface(\n",
    "    simulator_path = 'BreweryTutorialSimulation',\n",
    "    project_path = cwd,\n",
    ")"
   ]
  },
  {
   "cell_type": "markdown",
   "id": "11a4c508",
   "metadata": {},
   "source": [
    "Now that the model interface is created, we can declare a task that uses this CosmoInterface.\n",
    "This is called a `ModelTask`. It will specify the CosmoInterface we are using, which encoding should be performed on the input parameters (optional) and the outcomes of interest of the task (optional).\n",
    "Since the Brewery model has no default output parameters, we will specify at least the following arguments:\n",
    "\n",
    "- `modelinterface` (mandatory): ModelInterface used by the task to communicate with a model.  \n",
    "- `get_outcomes` (callable, optional): function taking as argument the modelinterface and returning a ParameterSet\n",
    "  containing the outputs of the model.  \n",
    "\n",
    "\n",
    "\n",
    "A `get_outcomes()` function should take as input the CosmoInterface, and return a ParameterSet. It can use the methods of the CosmoInterface to access the model, in particular the `get_outputs()` method allows to access the attributes of the model."
   ]
  },
  {
   "cell_type": "code",
   "execution_count": 4,
   "id": "3ec81ada",
   "metadata": {
    "jupyter": {
     "source_hidden": true
    },
    "tags": []
   },
   "outputs": [
    {
     "data": {
      "text/html": [
       "<img src=\"Comets_ModelTask.png\" width=\"1100\"/>"
      ],
      "text/plain": [
       "<IPython.core.display.Image object>"
      ]
     },
     "execution_count": 4,
     "metadata": {},
     "output_type": "execute_result"
    }
   ],
   "source": [
    "# code to display the diagram below\n",
    "from IPython.display import Image\n",
    "Image(url= \"Comets_ModelTask.png\", width=1100)"
   ]
  },
  {
   "cell_type": "code",
   "execution_count": 5,
   "id": "5716f6b8",
   "metadata": {},
   "outputs": [],
   "source": [
    "def get_outcomes(simulator):\n",
    "    outputs = simulator.get_outputs(\n",
    "        ['Model::{Entity}MyBar::@AverageSatisfaction', 'Model::{Entity}MyBar::@Stock'])\n",
    "    AverageSatisfaction = outputs['Model::{Entity}MyBar::@AverageSatisfaction']\n",
    "    stock = outputs['Model::{Entity}MyBar::@Stock']\n",
    "    return {'AverageSatisfaction' : AverageSatisfaction, 'Stock' : stock}\n",
    "\n",
    "mytask = comets.ModelTask(modelinterface=simulator, get_outcomes=get_outcomes)"
   ]
  },
  {
   "cell_type": "markdown",
   "id": "126ff5c7",
   "metadata": {},
   "source": [
    "Note that we could also have used the `get_consumers()` method  instead of the `get_outputs()` to get the Stock's value. "
   ]
  },
  {
   "cell_type": "markdown",
   "id": "dc6fe8b9",
   "metadata": {},
   "source": [
    "Now that the task is defined, the library will be able to execute it.\n",
    "If we want to evaluate the task ourselves with specific inputs, we need to declare them in the format expected by the Cosmo model interface (since there is no encoding), which is a ParameterSet containing as keys the datapath to some attribute, and as value the value of the attribute at the beginning of the simulation:\n",
    "\n",
    "$$\n",
    "\\text{parameter set} = \\text{ {datapath1: value1, datapath2: value1} }\n",
    "$$"
   ]
  },
  {
   "cell_type": "code",
   "execution_count": 7,
   "id": "7964ceb3",
   "metadata": {},
   "outputs": [],
   "source": [
    "parameter_set = {'Model::{Entity}MyBar::@NbWaiters': 4,\n",
    "                 'Model::{Entity}MyBar::@RestockQty': 12}\n",
    "\n",
    "output = mytask.evaluate(parameter_set)"
   ]
  },
  {
   "cell_type": "markdown",
   "id": "99c80f4e",
   "metadata": {},
   "source": [
    "`output` is a dictionary containing the results of the task evaluation:"
   ]
  },
  {
   "cell_type": "code",
   "execution_count": 8,
   "id": "570f9e7f",
   "metadata": {},
   "outputs": [
    {
     "name": "stdout",
     "output_type": "stream",
     "text": [
      "{'AverageSatisfaction': 1, 'Stock': 17}\n"
     ]
    }
   ],
   "source": [
    "print(output)"
   ]
  },
  {
   "cell_type": "markdown",
   "id": "5b174e5e",
   "metadata": {},
   "source": [
    "### The `encode` function\n",
    "\n",
    "So far, we have used \"raw\" input data. Sometimes, however, it is necessary or it may make sense to have the inputs in a different format. \n",
    "Using an encoder allows to do transformations on the input parameters of the model task before they are passed on to the model. The input parameters of the\n",
    "task no longer have to be in the format expected by the model -- as long as the encoder encodes the information correctly. Note that the input of the encoder should be in the `ParameterSet` format.\n",
    "\n",
    "For instance, instead of using the datapaths in the input ParameterSet like above, we can create an encoder that maps the names of the input parameters to their datapaths: \n"
   ]
  },
  {
   "cell_type": "code",
   "execution_count": 9,
   "id": "139b618a",
   "metadata": {},
   "outputs": [],
   "source": [
    "def encoder(parameters):\n",
    "    return {'Model::{Entity}MyBar::@NbWaiters': parameters['NbWaiters'],\n",
    "            'Model::{Entity}MyBar::@RestockQty': parameters['RestockQty']}\n",
    "    "
   ]
  },
  {
   "cell_type": "markdown",
   "id": "6f5ee797",
   "metadata": {},
   "source": [
    "Now we can create the model interface, the task and declare the encoder to use:"
   ]
  },
  {
   "cell_type": "code",
   "execution_count": 10,
   "id": "897882eb",
   "metadata": {},
   "outputs": [],
   "source": [
    "simulator = comets.CosmoInterface(\n",
    "    simulator_path = 'BreweryTutorialSimulation',\n",
    "    project_path = cwd,\n",
    ")\n",
    "\n",
    "\n",
    "mytask2 = comets.ModelTask(\n",
    "    modelinterface = simulator,\n",
    "    encode = encoder,\n",
    "    get_outcomes = get_outcomes)"
   ]
  },
  {
   "cell_type": "markdown",
   "id": "13468234",
   "metadata": {},
   "source": [
    "The task can now be evaluated with the new parameter set:"
   ]
  },
  {
   "cell_type": "code",
   "execution_count": 13,
   "id": "9a62499a",
   "metadata": {},
   "outputs": [],
   "source": [
    "parameter_set = {'NbWaiters': 4,\n",
    "                 'RestockQty': 12}\n",
    "\n",
    "output2 = mytask2.evaluate(parameter_set)"
   ]
  },
  {
   "cell_type": "markdown",
   "id": "e05dece9",
   "metadata": {},
   "source": [
    "`output2` is a dictionary containing the results of the task evaluation. As the model is stochastic, the results of `mytask2` can be different from the results of `mytask`. "
   ]
  },
  {
   "cell_type": "code",
   "execution_count": 14,
   "id": "638166d6",
   "metadata": {},
   "outputs": [
    {
     "name": "stdout",
     "output_type": "stream",
     "text": [
      "{'AverageSatisfaction': 1, 'Stock': 17}\n"
     ]
    }
   ],
   "source": [
    "print(output2)"
   ]
  },
  {
   "cell_type": "markdown",
   "id": "c63a642b",
   "metadata": {},
   "source": [
    "### The `get_outcomes` function\n",
    "\n",
    "In addition to selecting the model outputs, the `get_outcomes` function offers the possibility to compute other quantities that depend on\n",
    "the model outputs, such as KPIs that are of interest to the experiment.\n",
    "\n",
    "Imagine for example that the maximum stock capacity of the bar is 50 drinks. We want to return a percentage of this maximum capacity instead of the actual stock.  This quantity can be computed as follows: \n",
    "\n",
    "$$\n",
    "\\text{maximum capacity percentage} = \\frac{\\text{Stock}}{50}\n",
    "$$\n",
    "\n",
    "We are going to use a `get_outcomes` function to compute this quantity:"
   ]
  },
  {
   "cell_type": "code",
   "execution_count": 15,
   "id": "569b736f",
   "metadata": {},
   "outputs": [],
   "source": [
    "def get_outcomes2(simulator):\n",
    "    output = simulator.get_outputs(['Model::{Entity}MyBar::@Stock'])\n",
    "    stock = output['Model::{Entity}MyBar::@Stock']\n",
    "    maximum_capacity_percentage = stock/50\n",
    "    return { 'maximum capacity percentage' : maximum_capacity_percentage}"
   ]
  },
  {
   "cell_type": "markdown",
   "id": "b1636286",
   "metadata": {},
   "source": [
    "Now we can create the model interface, the task and declare the `get_outcomes` function to use:"
   ]
  },
  {
   "cell_type": "code",
   "execution_count": 16,
   "id": "323e45a7",
   "metadata": {},
   "outputs": [],
   "source": [
    "simulator = comets.CosmoInterface(\n",
    "    simulator_path = 'BreweryTutorialSimulation',\n",
    "    project_path = cwd,\n",
    ")\n",
    "\n",
    "\n",
    "mytask3 = comets.ModelTask(\n",
    "    modelinterface = simulator,\n",
    "    encode = encoder,\n",
    "    get_outcomes = get_outcomes2)"
   ]
  },
  {
   "cell_type": "markdown",
   "id": "ba688564",
   "metadata": {},
   "source": [
    "The task can now be evaluated:"
   ]
  },
  {
   "cell_type": "code",
   "execution_count": 17,
   "id": "3a3d6a5c",
   "metadata": {},
   "outputs": [],
   "source": [
    "parameter_set = {'NbWaiters': 4,\n",
    "                 'RestockQty': 12}\n",
    "\n",
    "output3 = mytask3.evaluate(parameter_set)"
   ]
  },
  {
   "cell_type": "markdown",
   "id": "ae2be3ca",
   "metadata": {},
   "source": [
    "`outputs3` is a dictionary containing the results of the task evaluation:"
   ]
  },
  {
   "cell_type": "code",
   "execution_count": 18,
   "id": "a00c1f92",
   "metadata": {},
   "outputs": [
    {
     "name": "stdout",
     "output_type": "stream",
     "text": [
      "{'maximum capacity percentage': 0.32}\n"
     ]
    }
   ],
   "source": [
    "print(output3)"
   ]
  },
  {
   "cell_type": "markdown",
   "id": "5570be1d",
   "metadata": {},
   "source": [
    "## Conclusion\n",
    "\n",
    "You are now able to connect the Brewery model to the library via a task. The task plays a key role in all the experiments,\n",
    "so now that you know how to declare and use it, you can start experimenting!"
   ]
  }
 ],
 "metadata": {
  "kernelspec": {
   "display_name": "env",
   "language": "python",
   "name": "env"
  },
  "language_info": {
   "codemirror_mode": {
    "name": "ipython",
    "version": 3
   },
   "file_extension": ".py",
   "mimetype": "text/x-python",
   "name": "python",
   "nbconvert_exporter": "python",
   "pygments_lexer": "ipython3",
   "version": "3.9.2"
  }
 },
 "nbformat": 4,
 "nbformat_minor": 5
}
