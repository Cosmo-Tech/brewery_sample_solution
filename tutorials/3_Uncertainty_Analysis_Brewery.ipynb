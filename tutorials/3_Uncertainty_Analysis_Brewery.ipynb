{
 "cells": [
  {
   "cell_type": "markdown",
   "id": "babad9fa",
   "metadata": {},
   "source": [
    "# Uncertainty Analysis\n",
    "This tutorial shows how to use CoMETS to perform an uncertainty analysis with the Brewery model. This type of experimentation aims at studying and quantifying how the uncertainty on inputs of a model propagates through the model and leads to variability in the outputs of this model."
   ]
  },
  {
   "cell_type": "markdown",
   "id": "fe320c46",
   "metadata": {},
   "source": [
    "## The Brewery model\n",
    "\n",
    "Like in the previous tutorial, we are working with the Brewery model. It is a drink consumption model including stock level management and customer satisfaction dynamics. The model input parameters that we will deal with are: \n",
    "\n",
    "- `NbWaiters`: number of waiters in the bar\n",
    "- `RestockQty`: a fix quantity of drinks added to the current stock of the bar once it reaches a threshold value.\n",
    "\n",
    "The Brewery model has no default outputs as the value of all attributes at the end of a simulation can be considered as an output. In our case we will use the following attributes:\n",
    "\n",
    " - `AverageSatisfaction`: average customer satisfaction\n",
    " - `Stock`: stock of the bar.\n",
    "\n",
    "\n",
    "For this tutorial, we suppose that the model's inputs (i.e `NbWaiters` and `RestockQty`) are uncertain. The model remains deterministic. We want to answer the following question: **How are the average customer satisfaction and the stock affected by the uncertainty on the model's inputs?** "
   ]
  },
  {
   "cell_type": "markdown",
   "id": "21989955",
   "metadata": {},
   "source": [
    "## The approach\n",
    "An uncertainty analysis requires to specify precisely what is the task we are experimenting with: what are its inputs and ouputs? In our case the inputs are `NbWaiters` and `RestockQty`, while the outputs are the `AverageSatisfaction` and `Stock`. Along with that we need to precisely specify the uncertainty on the input variables. In this study, we will model the uncertainty on the inputs with two **uniform discrete distributions**. The uncertainty analysis will then return the default statistics for the variability of the `AverageSatisfaction` and the `Stock`: mean, standard deviation, standard error of the mean, 95% confidence interval of the estimated mean. These results will be used to answer the question raised in the problem statement."
   ]
  },
  {
   "cell_type": "markdown",
   "id": "a13a2550",
   "metadata": {},
   "source": [
    "## 1. Define the task on which to experiment\n",
    "CoMETS always works with the same method: it performs analyses on tasks. Before defining any experiment we need to define the task on which it will be performed. A task behaves as a function that takes as input a ParameterSet and outputs another ParameterSet. It has a method `evaluate()` that is in charge of performing the evaluation and returning the outputs.\n",
    "During the task evaluation, the model is run. When creating the task, we also allow for some additional pre-processing (i.e encoding) of the input parameters or post-processing of the outputs of the model.\n",
    "\n"
   ]
  },
  {
   "cell_type": "code",
   "execution_count": 1,
   "id": "23bd7206",
   "metadata": {
    "jupyter": {
     "source_hidden": true
    },
    "tags": []
   },
   "outputs": [
    {
     "data": {
      "text/html": [
       "<img src=\"Comets_ModelTask.png\" width=\"1000\" height=\"1600\"/>"
      ],
      "text/plain": [
       "<IPython.core.display.Image object>"
      ]
     },
     "execution_count": 1,
     "metadata": {},
     "output_type": "execute_result"
    }
   ],
   "source": [
    "# code to display the diagram below\n",
    "from IPython.display import Image\n",
    "Image(url= \"Comets_ModelTask.png\", width=1000, height=1600)"
   ]
  },
  {
   "cell_type": "markdown",
   "id": "42f767d0",
   "metadata": {},
   "source": [
    "To run the analysis we first need to import comets:"
   ]
  },
  {
   "cell_type": "code",
   "execution_count": 2,
   "id": "a53eebf8",
   "metadata": {},
   "outputs": [],
   "source": [
    "import comets "
   ]
  },
  {
   "cell_type": "markdown",
   "id": "74a696fd",
   "metadata": {},
   "source": [
    "In order to import the Brewery model, we then need to specify the path to the project containing it."
   ]
  },
  {
   "cell_type": "code",
   "execution_count": 3,
   "id": "6e9f87b0",
   "metadata": {},
   "outputs": [],
   "source": [
    "#This example assumes that this notebook is in the folder containing the Brewery project\n",
    "#and that the model has been compiled with the python wrappers activated.\n",
    "\n",
    "from pathlib import Path\n",
    "cwd = Path().resolve()"
   ]
  },
  {
   "cell_type": "markdown",
   "id": "8599deee",
   "metadata": {},
   "source": [
    "### Import the simulator\n",
    "We need to import the simulator in order to allow CoMETS to interact with it. In this example, we work with the Brewery simulator, which we can instantiate using a `CosmoInterface` as follows:"
   ]
  },
  {
   "cell_type": "code",
   "execution_count": 4,
   "id": "918fc35c",
   "metadata": {},
   "outputs": [],
   "source": [
    "simulator = comets.CosmoInterface(\n",
    "    simulator_path = 'BreweryTutorialSimulation',\n",
    "    project_path = cwd,\n",
    ")"
   ]
  },
  {
   "cell_type": "markdown",
   "id": "e1720e44",
   "metadata": {},
   "source": [
    "For more details on how to instantiate the Brewery model, please see the tutorial \"Running simulations with CoMETS\"."
   ]
  },
  {
   "cell_type": "markdown",
   "id": "647ab055",
   "metadata": {},
   "source": [
    "### Define the input parameters of the task and the encoding for working with the model\n",
    "The task should take as input a ParameterSet, which is a set of parameters, stored as a dictionary containing names of parameters and their values. In our case the input parameters are the NbWaiters and the RestockQty, which would take the form \n",
    "`{'NbWaiters': NbWaiters, 'RestockQty': RestockQty}`.\n",
    "\n",
    "\n",
    "\n",
    "In order for the model to recognize input parameters, we need to encode them to a ParameterSet where the keys are the datapaths of the corresponding attributes in the model. For NbWaiters and RestockQty it corresponds to: \n",
    "\n",
    "- `Model::{Entity}MyBar::@NbWaiters`\n",
    "- `Model::{Entity}MyBar::@RestockQty`\n",
    "\n",
    "The encoding function takes the ParameterSet:\n",
    "\n",
    "`{'NbWaiters': NbWaiters, 'RestockQty': RestockQty}`\n",
    "\n",
    "and returns the ParameterSet:\n",
    "\n",
    "`{'Model::{Entity}MyBar::@NbWaiters': NbWaiters, 'Model::{Entity}MyBar::@RestockQty': RestockQty}`."
   ]
  },
  {
   "cell_type": "code",
   "execution_count": 6,
   "id": "d76b4284",
   "metadata": {},
   "outputs": [],
   "source": [
    "def encoder(parameters):\n",
    "    return {'Model::{Entity}MyBar::@NbWaiters': parameters['NbWaiters'],\n",
    "            'Model::{Entity}MyBar::@RestockQty': parameters['RestockQty']}\n",
    "    "
   ]
  },
  {
   "cell_type": "markdown",
   "id": "61b0b3eb",
   "metadata": {},
   "source": [
    "### Define the quantities of interest for the experiment\n",
    "\n",
    "\n",
    "The quantities we are interested in are the AverageSatisfaction and the Stock, which are the outputs of the task. The task should return a ParameterSet with the values of these quantities. The AverageSatisfaction and the Stock are available in the model via their respective datapath :\n",
    "\n",
    "\n",
    "- `Model::{Entity}MyBar::@AverageSatisfaction`\n",
    "- `Model::{Entity}MyBar::@Stock`.\n",
    "\n",
    "The quantities of interest can be computed from the outputs of the model by creating a function that takes as input the CosmoInterface and returns a ParameterSet with the values of the quantities of interest."
   ]
  },
  {
   "cell_type": "code",
   "execution_count": 7,
   "id": "8bd6a002",
   "metadata": {},
   "outputs": [],
   "source": [
    "def get_outcomes(simulator):\n",
    "    outputs = simulator.get_outputs(\n",
    "        ['Model::{Entity}MyBar::@AverageSatisfaction', 'Model::{Entity}MyBar::@Stock'])\n",
    "    AverageSatisfaction = outputs['Model::{Entity}MyBar::@AverageSatisfaction']\n",
    "    stock = outputs['Model::{Entity}MyBar::@Stock']\n",
    "    return {'AverageSatisfaction' : AverageSatisfaction, 'Stock' : stock}"
   ]
  },
  {
   "cell_type": "markdown",
   "id": "4a8c7371",
   "metadata": {},
   "source": [
    "### Declaring the Task\n",
    "\n",
    "Once the inputs and outputs have been defined, the final step is to declare the task with its `CosmoInterface`, `encode` and `get_outcomes` method. Evaluating the task corresponds to encoding the inputs, running a simulation and then computing the quantity of interest with the `get_outcomes` function."
   ]
  },
  {
   "cell_type": "code",
   "execution_count": 8,
   "id": "ffd4bd11",
   "metadata": {},
   "outputs": [],
   "source": [
    "uncertaintytask = comets.ModelTask(\n",
    "    simulator, \n",
    "    get_outcomes = get_outcomes, \n",
    "    encode = encoder\n",
    ")"
   ]
  },
  {
   "cell_type": "markdown",
   "id": "6c31d253",
   "metadata": {},
   "source": [
    "## 2. Model the uncertainty on the inputs\n",
    "\n",
    "Once the task has been defined, we need to choose how to represent the uncertainty on its inputs. This can be done either by declaring a generator or declaring a distribution. In this tutorial, we will only treat the case where the uncertainty is modeled by distributions. We define the function to generate samples with a list of dictionaries, one for each independent parameter. Each dictionary contains the following information:\n",
    "\n",
    "- `name` (str): name of the parameter, should correspond to the name of a task input parameter\n",
    "- `sampling` (str): name of the probability distribution for this parameter\n",
    "- `parameters` (dict): parameters of the distribution, in the form of a dictionary with named parameters and their values\n",
    "- `size` (optional, int): size of the list if the parameter corresponds to a list of independent and identically distributed (i.i.d.) random variables.\n",
    "\n",
    "The currently available distributions and their parameters are listed in the `DistributionRegistry`, accessible with: `print(comets.DistributionRegistry)`. Here is a non-exhaustive list of distributions we support: \n",
    "\n",
    "- `normal`: its parameters are {`loc`: mean of the distribution, `scale`: standard deviation}\n",
    "- `exponential`: its parameters are {`loc`: location of the lower bound, `scale`: scale parameter, }\n",
    "- `uniform`: its parameters are {`loc`: lower threshold of distribution, `scale`: upper threshold of distribution}\n",
    "- `discreteuniform`: its parameters are {`low`: lower threshold of distribution, `high`: upper threshold of distribution}\n",
    "\n",
    "In the Brewery model, the `NbWaiters` and the `RestockQty` are represented by integers. We will model them with two uniform discrete distributions. The NbWaiters' distribution will range from 1 to 4 (included) and the RestockQty's distribution will range from 5 to 15 (included). "
   ]
  },
  {
   "cell_type": "code",
   "execution_count": 9,
   "id": "c146cc57",
   "metadata": {},
   "outputs": [],
   "source": [
    "sampling = [\n",
    "    {\n",
    "        \"name\": 'NbWaiters',\n",
    "        \"sampling\": \"discreteuniform\",\n",
    "        \"parameters\": {'low': 1, 'high': 5},\n",
    "    },\n",
    "    {\n",
    "        \"name\": 'RestockQty',\n",
    "        \"sampling\": \"discreteuniform\",\n",
    "        \"parameters\": {'low': 5, 'high': 16},\n",
    "    }\n",
    "]"
   ]
  },
  {
   "cell_type": "markdown",
   "id": "883e4d39",
   "metadata": {},
   "source": [
    "## 3. Declaring the Experiment\n",
    "An uncertainty analysis is an experiment taking the following arguments: \n",
    "- `task`: task on which to perform the analysis\n",
    "- `sampling`: defines the function to generate samples on the input parameters. It consists in a list of distributions or generators.\n",
    "- `method` (optional, default to “random”): string, defines the sequence used to generate the samples. “random” defines pseudo-random number generation, resulting in a Monte Carlo integration method.\n",
    "- `analyzer` (optional, default to “standard”): string or list of strings, specifies the list of output statistics computed at the end of the experiment. For example, “standard” computes the mean, standard deviation, standard error of the mean, and 95% confidence interval of the mean.\n",
    "- `n_jobs`: number of processes used for parallel computing. Defaults to 1 (no parallelization).\n",
    "- `stop_criteria`: dictionary containing the stop criteria of the experiment. In our case we use ‘max_evaluations’, which corresponds to the number of task evaluations to perform. \n",
    "\n",
    "To know more about available distributions, methods, analyzers and stop criteria available, refer to CoMETS' documentation. \n"
   ]
  },
  {
   "cell_type": "code",
   "execution_count": 10,
   "id": "c8692fda",
   "metadata": {},
   "outputs": [],
   "source": [
    "ua = comets.UncertaintyAnalysis(\n",
    "        task = uncertaintytask,\n",
    "        sampling = sampling,\n",
    "        n_jobs = 6,\n",
    "        stop_criteria = {'max_evaluations' : 1000})"
   ]
  },
  {
   "cell_type": "markdown",
   "id": "8f49ceaf",
   "metadata": {},
   "source": [
    "## 4. Running the experiment"
   ]
  },
  {
   "cell_type": "code",
   "execution_count": 11,
   "id": "2bd9909e",
   "metadata": {},
   "outputs": [],
   "source": [
    "ua.run()"
   ]
  },
  {
   "cell_type": "markdown",
   "id": "001b03ea",
   "metadata": {},
   "source": [
    "## 5. Displaying the results of the Experiment\n",
    "The results of the analysis are stored in the attribute 'results', it contains default statistics on the quantity of interest (the service level)."
   ]
  },
  {
   "cell_type": "code",
   "execution_count": 12,
   "id": "a0cabcf0",
   "metadata": {},
   "outputs": [
    {
     "data": {
      "text/html": [
       "<div>\n",
       "<style scoped>\n",
       "    .dataframe tbody tr th:only-of-type {\n",
       "        vertical-align: middle;\n",
       "    }\n",
       "\n",
       "    .dataframe tbody tr th {\n",
       "        vertical-align: top;\n",
       "    }\n",
       "\n",
       "    .dataframe thead th {\n",
       "        text-align: right;\n",
       "    }\n",
       "</style>\n",
       "<table border=\"1\" class=\"dataframe\">\n",
       "  <thead>\n",
       "    <tr style=\"text-align: right;\">\n",
       "      <th></th>\n",
       "      <th>mean</th>\n",
       "      <th>std</th>\n",
       "      <th>sem</th>\n",
       "      <th>confidence interval of the mean at 95%</th>\n",
       "    </tr>\n",
       "  </thead>\n",
       "  <tbody>\n",
       "    <tr>\n",
       "      <th>AverageSatisfaction</th>\n",
       "      <td>0.873253</td>\n",
       "      <td>0.429789</td>\n",
       "      <td>0.013578</td>\n",
       "      <td>(0.8466097746704847, 0.8998972113574594)</td>\n",
       "    </tr>\n",
       "    <tr>\n",
       "      <th>Stock</th>\n",
       "      <td>14.184631</td>\n",
       "      <td>3.208201</td>\n",
       "      <td>0.101351</td>\n",
       "      <td>(13.98574612973689, 14.383515347309016)</td>\n",
       "    </tr>\n",
       "  </tbody>\n",
       "</table>\n",
       "</div>"
      ],
      "text/plain": [
       "                          mean       std       sem  \\\n",
       "AverageSatisfaction   0.873253  0.429789  0.013578   \n",
       "Stock                14.184631  3.208201  0.101351   \n",
       "\n",
       "                       confidence interval of the mean at 95%  \n",
       "AverageSatisfaction  (0.8466097746704847, 0.8998972113574594)  \n",
       "Stock                 (13.98574612973689, 14.383515347309016)  "
      ]
     },
     "execution_count": 12,
     "metadata": {},
     "output_type": "execute_result"
    }
   ],
   "source": [
    "ua.results[\"statistics\"]"
   ]
  },
  {
   "cell_type": "markdown",
   "id": "df51daff",
   "metadata": {},
   "source": [
    "It is also possible to access all the results of evaluations of the task in order to compute other statistics. Below we display the first five evaluation results."
   ]
  },
  {
   "cell_type": "code",
   "execution_count": 14,
   "id": "c9597098",
   "metadata": {},
   "outputs": [
    {
     "data": {
      "text/plain": [
       "[{'AverageSatisfaction': 1, 'Stock': 11},\n",
       " {'AverageSatisfaction': 1, 'Stock': 10},\n",
       " {'AverageSatisfaction': 1, 'Stock': 16},\n",
       " {'AverageSatisfaction': 0, 'Stock': 12},\n",
       " {'AverageSatisfaction': 1, 'Stock': 17}]"
      ]
     },
     "execution_count": 14,
     "metadata": {},
     "output_type": "execute_result"
    }
   ],
   "source": [
    "ua.list_of_results[:5]"
   ]
  },
  {
   "cell_type": "markdown",
   "id": "847b9d74-d3a2-49e2-bb80-d3963e20cf54",
   "metadata": {},
   "source": [
    " "
   ]
  }
 ],
 "metadata": {
  "kernelspec": {
   "display_name": "env",
   "language": "python",
   "name": "env"
  },
  "language_info": {
   "codemirror_mode": {
    "name": "ipython",
    "version": 3
   },
   "file_extension": ".py",
   "mimetype": "text/x-python",
   "name": "python",
   "nbconvert_exporter": "python",
   "pygments_lexer": "ipython3",
   "version": "3.9.2"
  }
 },
 "nbformat": 4,
 "nbformat_minor": 5
}
