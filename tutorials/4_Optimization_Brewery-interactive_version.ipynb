{
 "cells": [
  {
   "cell_type": "markdown",
   "id": "147e33f1-455c-4c0d-829a-1bce271afcdb",
   "metadata": {},
   "source": [
    "# Bug hunt exercize\n",
    "\n",
    "An intern introduced errors when copying the tutorial on your machine. Unfortunately, we did not have time to find and clean them.\n",
    "\n",
    "A correction needs to be made in each cell of the notebook containing code (except the two first cells with import statements).\n",
    "\n",
    "Once you have made all corrections, the last statement should return the results of the optimization, which looks similar to:\n",
    "\n",
    "`{'Optimal variables': {'NbWaiters': 12, 'RestockQty': 37},\n",
    " 'Optimal values': {'ObjectiveFunction': 1}}`\n",
    "\n",
    "In case you are not able to find the errors, you can refer to CoMETS documentation where a correct version of the tutorial is to be found under Onboarding > Optimization.\n"
   ]
  },
  {
   "cell_type": "markdown",
   "id": "3132bb62",
   "metadata": {},
   "source": [
    "# Optimization\n",
    "This tutorial shows how to use CoMETS to perform an optimization."
   ]
  },
  {
   "cell_type": "code",
   "execution_count": 1,
   "id": "49c61eb5",
   "metadata": {
    "jupyter": {
     "source_hidden": true
    },
    "tags": []
   },
   "outputs": [
    {
     "data": {
      "text/html": [
       "<img src=\"Comets_Workflow.png\" width=\"800\"/>"
      ],
      "text/plain": [
       "<IPython.core.display.Image object>"
      ]
     },
     "execution_count": 1,
     "metadata": {},
     "output_type": "execute_result"
    }
   ],
   "source": [
    "# code to display the diagram below\n",
    "from IPython.display import Image\n",
    "Image(url= \"Comets_Workflow.png\", width=800)"
   ]
  },
  {
   "cell_type": "markdown",
   "id": "a200bc4b",
   "metadata": {},
   "source": [
    "## The Brewery model\n",
    "\n",
    "Like in the previous tutorial, we are working with the Brewery model. It is a drink consumption model including stock level management and customer satisfaction dynamics. The model input parameters that we will deal with are: \n",
    "\n",
    "- `NbWaiters`: number of waiters in the bar\n",
    "- `RestockQty`: a fix quantity of drinks added to the current stock of the bar once it reaches a threshold value.\n",
    "\n",
    "The quantity of interest for this experiment is the `Stock`. More precisely, we want to maintain the final stock level to 40 drinks. We want to answer the following question: \n",
    "\n",
    " **How to maintain the final stock as close as possible to 40 drinks, with respect to the number of waiters and the restock quantity?**"
   ]
  },
  {
   "cell_type": "markdown",
   "id": "a637576d",
   "metadata": {},
   "source": [
    "## The approach\n",
    "An optimization requires a precise specification of the **decision variables** and the **objective function**. The objective function is the quantity we want to minimize (or maximize) and the decision variables are the levers we can change to reach this objective.  \n",
    "In this study the decision variables are `NbWaiters` and `RestockQty`, while the objective function is defined as:\n",
    "$$\n",
    "f(Stock) = (40 - Stock)^2\n",
    "$$\n",
    "The optimization is performed on an explicitly defined task with inputs and outputs. Here the inputs of the task are NbWaiters, RestockQty (the decision variables of the optimization) and the output is $ (40 - Stock)^2 $ (the objective function of the optimization). "
   ]
  },
  {
   "cell_type": "markdown",
   "id": "1bf9b75d",
   "metadata": {},
   "source": [
    "## 1. Define the task on which to experiment\n",
    "CoMETS always works with the same method: it performs analyses on tasks. Before defining any experiment, we need to define the task on which it will be performed. A task behaves as a function that takes as input a ParameterSet and outputs another ParameterSet. It has a method `evaluate` that is in charge of performing the evaluation and returning the outputs.\n",
    "During the task evaluation, the model is run. When creating the task, we also allow for some additional pre-processing (i.e encoding) of the input parameters or post-processing of the outputs of the model."
   ]
  },
  {
   "cell_type": "code",
   "execution_count": 2,
   "id": "8071b0f2",
   "metadata": {
    "jupyter": {
     "source_hidden": true
    },
    "tags": []
   },
   "outputs": [
    {
     "data": {
      "text/html": [
       "<img src=\"Comets_ModelTask.png\" width=\"1000\" height=\"1600\"/>"
      ],
      "text/plain": [
       "<IPython.core.display.Image object>"
      ]
     },
     "execution_count": 2,
     "metadata": {},
     "output_type": "execute_result"
    }
   ],
   "source": [
    "# code to display the diagram below\n",
    "from IPython.display import Image\n",
    "Image(url= \"Comets_ModelTask.png\", width=1000, height=1600)"
   ]
  },
  {
   "cell_type": "markdown",
   "id": "70357ca1",
   "metadata": {},
   "source": [
    "To run the analysis we first need to import CoMETS:"
   ]
  },
  {
   "cell_type": "code",
   "execution_count": 3,
   "id": "c0a0b0ff",
   "metadata": {},
   "outputs": [],
   "source": [
    "import comets"
   ]
  },
  {
   "cell_type": "markdown",
   "id": "2b786f78",
   "metadata": {},
   "source": [
    "In order to import the Brewery model, we then need to specify the path to the project containing it."
   ]
  },
  {
   "cell_type": "code",
   "execution_count": 4,
   "id": "47d28d16",
   "metadata": {},
   "outputs": [],
   "source": [
    "#This example assumes that this notebook is in the folder containing the Brewery project\n",
    "#and that the model has been compiled with the python wrappers activated.\n",
    "\n",
    "from pathlib import Path\n",
    "cwd = Path().resolve()"
   ]
  },
  {
   "cell_type": "markdown",
   "id": "9d1514d3",
   "metadata": {},
   "source": [
    "### Import the simulator\n",
    "We need to import the simulator in order to allow CoMETS to interact with it. In this example, we work with the Brewery simulator, which we can instantiate using a CosmoInterface as follows:"
   ]
  },
  {
   "cell_type": "code",
   "execution_count": 5,
   "id": "3ea98005",
   "metadata": {},
   "outputs": [],
   "source": [
    "simulator = comets.CosmoInterface(\n",
    "    simulator_path = '/home/user/bin/BreweryTutorialSimulation',\n",
    "    project_path = cwd,\n",
    ")"
   ]
  },
  {
   "cell_type": "markdown",
   "id": "6e0ccb57",
   "metadata": {},
   "source": [
    "For more details on how to instantiate the Brewery model, please see the tutorial \"Running simulations with CoMETS\"."
   ]
  },
  {
   "cell_type": "markdown",
   "id": "bb8ab88a",
   "metadata": {},
   "source": [
    "### Define the input parameters of the task and the encoding for working with the model\n",
    "The task should take as input a `ParameterSet`, which is a set of parameters, stored as a dictionary containing names of parameters and their values. In our case the input parameters are the NbWaiters and the RestockQty, which would take the form: \n",
    "`{'NbWaiters': NbWaiters, 'RestockQty': RestockQty}` \n",
    "\n",
    "\n",
    "\n",
    "In order for the model to recognize input parameters, we need to encode them to a ParameterSet where the keys are the datapaths of the corresponding attributes in the model. For NbWaiters and RestockQty it corresponds to: \n",
    "\n",
    "- `Model::{Entity}MyBar::@NbWaiters`\n",
    "- `Model::{Entity}MyBar::@RestockQty`\n",
    "\n",
    "The encoding function takes the ParameterSet:\n",
    "\n",
    "`{'NbWaiters': NbWaiters, 'RestockQty': RestockQty}`\n",
    "\n",
    "and returns the ParameterSet:\n",
    "\n",
    "`{'Model::{Entity}MyBar::@NbWaiters': NbWaiters, 'Model::{Entity}MyBar::@RestockQty': RestockQty}`."
   ]
  },
  {
   "cell_type": "code",
   "execution_count": 6,
   "id": "14fcbb14",
   "metadata": {},
   "outputs": [],
   "source": [
    "def encoder(parameters):\n",
    "    return {'Model::{Entity}MyBar::@NbWaiters': 'NbWaiters',\n",
    "            'Model::{Entity}MyBar::@RestockQty': 'RestockQty'}"
   ]
  },
  {
   "cell_type": "markdown",
   "id": "6a513611",
   "metadata": {},
   "source": [
    "### Define the quantity of interest for the experiment, which is the output of the task\n",
    "The quantity we are interested in is the square difference between the target stock and the actual stock. This quantity is not computed directly in the model, but can be computed from the model output. It is defined as:\n",
    "$$\n",
    "\\text{quantity of interest} = (40 - Stock)^2\n",
    "$$\n",
    "The Stock is available in the model via its datapath: `Model::{Entity}MyBar::@Stock`\n",
    "\n",
    "A quantity of interest can be computed from the output of the model by creating a function that takes as input the CosmoInterface and returns a ParameterSet with the values of the quantity of interest."
   ]
  },
  {
   "cell_type": "code",
   "execution_count": 7,
   "id": "fddf16ab",
   "metadata": {},
   "outputs": [],
   "source": [
    "def get_outcomes(simulator):\n",
    "    stock = simulator.get_outputs(['Model::{Entity}MyBar::@Stock'])\n",
    "    return {'ObjectiveFunction' : (stock-40)**2}"
   ]
  },
  {
   "cell_type": "markdown",
   "id": "b329f864",
   "metadata": {},
   "source": [
    "### Declaring the Task\n",
    "\n",
    "Once the inputs and outputs have been defined, the final step is to declare the task with its `CosmoInterface`, `encode` and `get_outcomes` method. Evaluating the task corresponds to encoding the inputs, running a simulation and then computing the quantity of interest with the `get_outcomes()` function."
   ]
  },
  {
   "cell_type": "code",
   "execution_count": 8,
   "id": "a7e5d2df",
   "metadata": {},
   "outputs": [],
   "source": [
    "optimtask = comets.ModelTask(simulator, encode = encoder)"
   ]
  },
  {
   "cell_type": "markdown",
   "id": "868f263a",
   "metadata": {},
   "source": [
    "## 2. Defining the decision variable space\n",
    "Once the task has been defined, we need to specify the decision variable space. This is done by declaring the decision variables in the format described below. The space is a **list of dictionaries** with each of the dictionaries containing the following information: \n",
    "\n",
    "- `name` (str): name of the decision variable\n",
    "- `type` (str): data type of the decision variable (float, int or categorical)\n",
    "- `bounds` (list): bounds inside which the decision variable belongs\n",
    "- `size` (optional, integer): length of the list when the decision variable is a list of variables.\n",
    "\n",
    "The currently available types are: `float`, `int` and `categorical`.\n",
    "\n",
    "\n",
    "In the Brewery model, `NbWaiters` and `RestockQty` are two integers. We will set the former to range from 1 to 12 and the latter to range 1 to 50."
   ]
  },
  {
   "cell_type": "code",
   "execution_count": 9,
   "id": "f9433f5a",
   "metadata": {},
   "outputs": [],
   "source": [
    "space = [\n",
    "    {\n",
    "        \"name\": \"Model::{Entity}MyBar::NbWaiters\",\n",
    "        \"type\": \"int\",\n",
    "        \"bounds\": [1, 12],\n",
    "    },\n",
    "    {\n",
    "        \"name\": \"Model::{Entity}MyBar::RestockQty\",\n",
    "        \"type\": \"int\",\n",
    "        \"bounds\": [1, 50],\n",
    "    },\n",
    "]"
   ]
  },
  {
   "cell_type": "markdown",
   "id": "aec2bda6",
   "metadata": {},
   "source": [
    "## 3. Declaring the Experiment\n",
    "An optimization is an experiment taking the following arguments:\n",
    "\n",
    "- `space`: decision variables space\n",
    "- `task`: task on which to perform the optimization\n",
    "- `algorithm`: optimization algorithm used (`CMA`, `TwoPointsDE`, `NelderMead` ...)\n",
    "- `stop_criteria`: dictionary containing the stop criteria of the experiment. In our case we use `max_evaluations`, which corresponds to the number of task evaluations to perform. Other criteria are available, more information on them can be found in the CoMETS documentation. \n",
    "- `n_jobs`: number of processes used for parallel computing. Defaults to 1 (no parallelization)\n",
    "- `maximize`: whether the optimization is seeking for a maximum (in opposition to a minimum). Defaults to False."
   ]
  },
  {
   "cell_type": "code",
   "execution_count": 14,
   "id": "e90485a0",
   "metadata": {},
   "outputs": [
    {
     "name": "stdout",
     "output_type": "stream",
     "text": [
      "(4_w,8)-aCMA-ES (mu_w=2.6,w_1=52%) in dimension 2 (seed=880484, Tue Sep 26 09:41:11 2023)\n"
     ]
    }
   ],
   "source": [
    "opt = comets.Optimization(\n",
    "    space = space,\n",
    "    task = optimtask,\n",
    "    algorithm = 'CMAES',\n",
    "    stop_criteria = {'max_evaluations': 0},\n",
    "    n_jobs = 8,\n",
    "    maximize = False,\n",
    ")"
   ]
  },
  {
   "cell_type": "markdown",
   "id": "dcca394f",
   "metadata": {},
   "source": [
    "## 4. Running the experiment"
   ]
  },
  {
   "cell_type": "code",
   "execution_count": 15,
   "id": "9a0703f1",
   "metadata": {},
   "outputs": [
    {
     "ename": "RuntimeError",
     "evalue": "csm::ResourceNotFoundException: Could not find Simulation resource '/home/user/bin/BreweryTutorialSimulation'",
     "output_type": "error",
     "traceback": [
      "\u001b[0;31m---------------------------------------------------------------------------\u001b[0m",
      "\u001b[0;31m_RemoteTraceback\u001b[0m                          Traceback (most recent call last)",
      "\u001b[0;31m_RemoteTraceback\u001b[0m: \n\"\"\"\nTraceback (most recent call last):\n  File \"/home/nhedjazian/Cosmotech/next/comets/env/lib/python3.9/site-packages/joblib/externals/loky/process_executor.py\", line 463, in _process_worker\n    r = call_item()\n  File \"/home/nhedjazian/Cosmotech/next/comets/env/lib/python3.9/site-packages/joblib/externals/loky/process_executor.py\", line 291, in __call__\n    return self.fn(*self.args, **self.kwargs)\n  File \"/home/nhedjazian/Cosmotech/next/comets/env/lib/python3.9/site-packages/joblib/parallel.py\", line 589, in __call__\n    return [func(*args, **kwargs)\n  File \"/home/nhedjazian/Cosmotech/next/comets/env/lib/python3.9/site-packages/joblib/parallel.py\", line 589, in <listcomp>\n    return [func(*args, **kwargs)\n  File \"/home/nhedjazian/Cosmotech/next/comets/comets/core/parallelmanager.py\", line 39, in evaluate_task\n    output_parameter_set = task.evaluate(input_parameter_set)\n  File \"/home/nhedjazian/Cosmotech/next/comets/comets/core/modeltask.py\", line 51, in evaluate\n    self.modelinterface.initialize()\n  File \"/home/nhedjazian/Cosmotech/next/comets/comets/modelinterfaces/cosmointerface.py\", line 238, in initialize\n    self.sim = self.CosmoEngine.LoadSimulator(self.simulator_path)\n  File \"/home/nhedjazian/Cosmotech/next/brewery_sample_solution/Generated/Build/Wrapping/csmGeneratedEnginePython.py\", line 134, in LoadSimulator\n    return _csmGeneratedEnginePython.LoadSimulator(*args)\nRuntimeError: csm::ResourceNotFoundException: Could not find Simulation resource '/home/user/bin/BreweryTutorialSimulation'\n\"\"\"",
      "\nThe above exception was the direct cause of the following exception:\n",
      "\u001b[0;31mRuntimeError\u001b[0m                              Traceback (most recent call last)",
      "Cell \u001b[0;32mIn[15], line 1\u001b[0m\n\u001b[0;32m----> 1\u001b[0m \u001b[43mopt\u001b[49m\u001b[38;5;241;43m.\u001b[39;49m\u001b[43mrun\u001b[49m\u001b[43m(\u001b[49m\u001b[43m)\u001b[49m\n",
      "File \u001b[0;32m~/Cosmotech/next/comets/comets/core/experiment.py:145\u001b[0m, in \u001b[0;36mExperiment.run\u001b[0;34m(self)\u001b[0m\n\u001b[1;32m    143\u001b[0m \u001b[38;5;28mself\u001b[39m\u001b[38;5;241m.\u001b[39mstop_command \u001b[38;5;241m=\u001b[39m \u001b[38;5;28;01mFalse\u001b[39;00m\n\u001b[1;32m    144\u001b[0m \u001b[38;5;28;01mif\u001b[39;00m \u001b[38;5;28mself\u001b[39m\u001b[38;5;241m.\u001b[39mblocking:\n\u001b[0;32m--> 145\u001b[0m     \u001b[38;5;28;43mself\u001b[39;49m\u001b[38;5;241;43m.\u001b[39;49m\u001b[43m_run\u001b[49m\u001b[43m(\u001b[49m\u001b[43m)\u001b[49m\n\u001b[1;32m    146\u001b[0m \u001b[38;5;28;01melse\u001b[39;00m:\n\u001b[1;32m    147\u001b[0m     \u001b[38;5;28mself\u001b[39m\u001b[38;5;241m.\u001b[39mthread \u001b[38;5;241m=\u001b[39m threading\u001b[38;5;241m.\u001b[39mThread(target\u001b[38;5;241m=\u001b[39m\u001b[38;5;28mself\u001b[39m\u001b[38;5;241m.\u001b[39m_run, args\u001b[38;5;241m=\u001b[39m())\n",
      "File \u001b[0;32m~/Cosmotech/next/comets/comets/core/experiment.py:189\u001b[0m, in \u001b[0;36mExperiment._run\u001b[0;34m(self)\u001b[0m\n\u001b[1;32m    181\u001b[0m     \u001b[38;5;28;01mbreak\u001b[39;00m\n\u001b[1;32m    183\u001b[0m logger\u001b[38;5;241m.\u001b[39minfo(\n\u001b[1;32m    184\u001b[0m     \u001b[38;5;124m\"\u001b[39m\u001b[38;5;124mIteration number \u001b[39m\u001b[38;5;132;01m%s\u001b[39;00m\u001b[38;5;124m of the \u001b[39m\u001b[38;5;132;01m%s\u001b[39;00m\u001b[38;5;124m loop\u001b[39m\u001b[38;5;124m\"\u001b[39m,\n\u001b[1;32m    185\u001b[0m     \u001b[38;5;28mself\u001b[39m\u001b[38;5;241m.\u001b[39mnumber_of_iterations,\n\u001b[1;32m    186\u001b[0m     \u001b[38;5;28mtype\u001b[39m(\u001b[38;5;28mself\u001b[39m)\u001b[38;5;241m.\u001b[39m\u001b[38;5;18m__name__\u001b[39m,\n\u001b[1;32m    187\u001b[0m )\n\u001b[0;32m--> 189\u001b[0m \u001b[38;5;28;43mself\u001b[39;49m\u001b[38;5;241;43m.\u001b[39;49m\u001b[43m_execute\u001b[49m\u001b[43m(\u001b[49m\u001b[43m)\u001b[49m\n\u001b[1;32m    191\u001b[0m \u001b[38;5;28mself\u001b[39m\u001b[38;5;241m.\u001b[39mnumber_of_iterations \u001b[38;5;241m+\u001b[39m\u001b[38;5;241m=\u001b[39m \u001b[38;5;241m1\u001b[39m\n\u001b[1;32m    193\u001b[0m \u001b[38;5;66;03m# Monitoring callbacks\u001b[39;00m\n",
      "File \u001b[0;32m~/Cosmotech/next/comets/comets/experiments/optimization/optimization.py:237\u001b[0m, in \u001b[0;36mOptimization._execute\u001b[0;34m(self)\u001b[0m\n\u001b[1;32m    234\u001b[0m list_of_samples \u001b[38;5;241m=\u001b[39m \u001b[38;5;28mself\u001b[39m\u001b[38;5;241m.\u001b[39moptimizationalgorithm\u001b[38;5;241m.\u001b[39mask()\n\u001b[1;32m    236\u001b[0m \u001b[38;5;66;03m# Evaluation of the task on the samples\u001b[39;00m\n\u001b[0;32m--> 237\u001b[0m list_of_task_outputs \u001b[38;5;241m=\u001b[39m \u001b[38;5;28;43mself\u001b[39;49m\u001b[38;5;241;43m.\u001b[39;49m\u001b[43m_evaluate_tasks\u001b[49m\u001b[43m(\u001b[49m\u001b[38;5;28;43mself\u001b[39;49m\u001b[38;5;241;43m.\u001b[39;49m\u001b[43mtask\u001b[49m\u001b[43m,\u001b[49m\u001b[43m \u001b[49m\u001b[43mlist_of_samples\u001b[49m\u001b[43m)\u001b[49m\n\u001b[1;32m    239\u001b[0m \u001b[38;5;28;01mif\u001b[39;00m (\u001b[38;5;28mself\u001b[39m\u001b[38;5;241m.\u001b[39mobjective \u001b[38;5;129;01mis\u001b[39;00m \u001b[38;5;28;01mNone\u001b[39;00m) \u001b[38;5;129;01mand\u001b[39;00m \u001b[38;5;28mlen\u001b[39m(list_of_task_outputs[\u001b[38;5;241m0\u001b[39m]) \u001b[38;5;241m==\u001b[39m \u001b[38;5;241m1\u001b[39m:\n\u001b[1;32m    240\u001b[0m     list_of_loss \u001b[38;5;241m=\u001b[39m [\n\u001b[1;32m    241\u001b[0m         \u001b[38;5;28mnext\u001b[39m(\u001b[38;5;28miter\u001b[39m(task_output\u001b[38;5;241m.\u001b[39mvalues())) \u001b[38;5;28;01mfor\u001b[39;00m task_output \u001b[38;5;129;01min\u001b[39;00m list_of_task_outputs\n\u001b[1;32m    242\u001b[0m     ]\n",
      "File \u001b[0;32m~/Cosmotech/next/comets/comets/core/experiment.py:223\u001b[0m, in \u001b[0;36mExperiment._evaluate_tasks\u001b[0;34m(self, task, input_parameter_sets)\u001b[0m\n\u001b[1;32m    213\u001b[0m \u001b[38;5;250m\u001b[39m\u001b[38;5;124;03m\"\"\"\u001b[39;00m\n\u001b[1;32m    214\u001b[0m \u001b[38;5;124;03mDelegate tasks evaluation to the parallel manager. Increment evaluations counter\u001b[39;00m\n\u001b[1;32m    215\u001b[0m \n\u001b[0;32m   (...)\u001b[0m\n\u001b[1;32m    220\u001b[0m \u001b[38;5;124;03m    output_parameter_sets (ParameterSet): A list of ParameterSet\u001b[39;00m\n\u001b[1;32m    221\u001b[0m \u001b[38;5;124;03m\"\"\"\u001b[39;00m\n\u001b[1;32m    222\u001b[0m \u001b[38;5;66;03m# Compute tasks\u001b[39;00m\n\u001b[0;32m--> 223\u001b[0m output_parameter_sets \u001b[38;5;241m=\u001b[39m \u001b[38;5;28;43mself\u001b[39;49m\u001b[38;5;241;43m.\u001b[39;49m\u001b[43mparallelmanager\u001b[49m\u001b[38;5;241;43m.\u001b[39;49m\u001b[43mevaluate_tasks\u001b[49m\u001b[43m(\u001b[49m\n\u001b[1;32m    224\u001b[0m \u001b[43m    \u001b[49m\u001b[43mtask\u001b[49m\u001b[43m,\u001b[49m\u001b[43m \u001b[49m\u001b[43minput_parameter_sets\u001b[49m\u001b[43m,\u001b[49m\u001b[43m \u001b[49m\u001b[43mn_jobs\u001b[49m\u001b[38;5;241;43m=\u001b[39;49m\u001b[38;5;28;43mself\u001b[39;49m\u001b[38;5;241;43m.\u001b[39;49m\u001b[43mn_jobs\u001b[49m\n\u001b[1;32m    225\u001b[0m \u001b[43m\u001b[49m\u001b[43m)\u001b[49m\n\u001b[1;32m    226\u001b[0m \u001b[38;5;66;03m# Increment number_of_evaluations counter\u001b[39;00m\n\u001b[1;32m    227\u001b[0m \u001b[38;5;28mself\u001b[39m\u001b[38;5;241m.\u001b[39mnumber_of_evaluations \u001b[38;5;241m+\u001b[39m\u001b[38;5;241m=\u001b[39m \u001b[38;5;28mlen\u001b[39m(output_parameter_sets)\n",
      "File \u001b[0;32m~/Cosmotech/next/comets/comets/core/parallelmanager.py:77\u001b[0m, in \u001b[0;36mParallelManager.evaluate_tasks\u001b[0;34m(self, tasks, input_parameter_sets, n_jobs)\u001b[0m\n\u001b[1;32m     69\u001b[0m     output_parameter_sets \u001b[38;5;241m=\u001b[39m Parallel(n_jobs\u001b[38;5;241m=\u001b[39mn_jobs, backend\u001b[38;5;241m=\u001b[39m\u001b[38;5;124m\"\u001b[39m\u001b[38;5;124mloky\u001b[39m\u001b[38;5;124m\"\u001b[39m)(\n\u001b[1;32m     70\u001b[0m         delayed(\u001b[38;5;28mself\u001b[39m\u001b[38;5;241m.\u001b[39mevaluate_task)(\n\u001b[1;32m     71\u001b[0m             task, input_parameter_set, os\u001b[38;5;241m.\u001b[39menviron[\u001b[38;5;124m'\u001b[39m\u001b[38;5;124mCOMETSLOGLEVEL\u001b[39m\u001b[38;5;124m'\u001b[39m]\n\u001b[1;32m     72\u001b[0m         )\n\u001b[1;32m     73\u001b[0m         \u001b[38;5;28;01mfor\u001b[39;00m task, input_parameter_set \u001b[38;5;129;01min\u001b[39;00m \u001b[38;5;28mzip\u001b[39m(tasks, input_parameter_sets)\n\u001b[1;32m     74\u001b[0m     )\n\u001b[1;32m     75\u001b[0m \u001b[38;5;28;01melse\u001b[39;00m:\n\u001b[1;32m     76\u001b[0m     \u001b[38;5;66;03m# tasks is a task\u001b[39;00m\n\u001b[0;32m---> 77\u001b[0m     output_parameter_sets \u001b[38;5;241m=\u001b[39m \u001b[43mParallel\u001b[49m\u001b[43m(\u001b[49m\u001b[43mn_jobs\u001b[49m\u001b[38;5;241;43m=\u001b[39;49m\u001b[43mn_jobs\u001b[49m\u001b[43m,\u001b[49m\u001b[43m \u001b[49m\u001b[43mbackend\u001b[49m\u001b[38;5;241;43m=\u001b[39;49m\u001b[38;5;124;43m\"\u001b[39;49m\u001b[38;5;124;43mloky\u001b[39;49m\u001b[38;5;124;43m\"\u001b[39;49m\u001b[43m)\u001b[49m\u001b[43m(\u001b[49m\n\u001b[1;32m     78\u001b[0m \u001b[43m        \u001b[49m\u001b[43mdelayed\u001b[49m\u001b[43m(\u001b[49m\u001b[38;5;28;43mself\u001b[39;49m\u001b[38;5;241;43m.\u001b[39;49m\u001b[43mevaluate_task\u001b[49m\u001b[43m)\u001b[49m\u001b[43m(\u001b[49m\n\u001b[1;32m     79\u001b[0m \u001b[43m            \u001b[49m\u001b[43mtasks\u001b[49m\u001b[43m,\u001b[49m\u001b[43m \u001b[49m\u001b[43minput_parameter_set\u001b[49m\u001b[43m,\u001b[49m\u001b[43m \u001b[49m\u001b[43mos\u001b[49m\u001b[38;5;241;43m.\u001b[39;49m\u001b[43menviron\u001b[49m\u001b[43m[\u001b[49m\u001b[38;5;124;43m'\u001b[39;49m\u001b[38;5;124;43mCOMETSLOGLEVEL\u001b[39;49m\u001b[38;5;124;43m'\u001b[39;49m\u001b[43m]\u001b[49m\n\u001b[1;32m     80\u001b[0m \u001b[43m        \u001b[49m\u001b[43m)\u001b[49m\n\u001b[1;32m     81\u001b[0m \u001b[43m        \u001b[49m\u001b[38;5;28;43;01mfor\u001b[39;49;00m\u001b[43m \u001b[49m\u001b[43minput_parameter_set\u001b[49m\u001b[43m \u001b[49m\u001b[38;5;129;43;01min\u001b[39;49;00m\u001b[43m \u001b[49m\u001b[43minput_parameter_sets\u001b[49m\n\u001b[1;32m     82\u001b[0m \u001b[43m    \u001b[49m\u001b[43m)\u001b[49m\n\u001b[1;32m     84\u001b[0m \u001b[38;5;28;01mreturn\u001b[39;00m output_parameter_sets\n",
      "File \u001b[0;32m~/Cosmotech/next/comets/env/lib/python3.9/site-packages/joblib/parallel.py:1952\u001b[0m, in \u001b[0;36mParallel.__call__\u001b[0;34m(self, iterable)\u001b[0m\n\u001b[1;32m   1946\u001b[0m \u001b[38;5;66;03m# The first item from the output is blank, but it makes the interpreter\u001b[39;00m\n\u001b[1;32m   1947\u001b[0m \u001b[38;5;66;03m# progress until it enters the Try/Except block of the generator and\u001b[39;00m\n\u001b[1;32m   1948\u001b[0m \u001b[38;5;66;03m# reach the first `yield` statement. This starts the aynchronous\u001b[39;00m\n\u001b[1;32m   1949\u001b[0m \u001b[38;5;66;03m# dispatch of the tasks to the workers.\u001b[39;00m\n\u001b[1;32m   1950\u001b[0m \u001b[38;5;28mnext\u001b[39m(output)\n\u001b[0;32m-> 1952\u001b[0m \u001b[38;5;28;01mreturn\u001b[39;00m output \u001b[38;5;28;01mif\u001b[39;00m \u001b[38;5;28mself\u001b[39m\u001b[38;5;241m.\u001b[39mreturn_generator \u001b[38;5;28;01melse\u001b[39;00m \u001b[38;5;28;43mlist\u001b[39;49m\u001b[43m(\u001b[49m\u001b[43moutput\u001b[49m\u001b[43m)\u001b[49m\n",
      "File \u001b[0;32m~/Cosmotech/next/comets/env/lib/python3.9/site-packages/joblib/parallel.py:1595\u001b[0m, in \u001b[0;36mParallel._get_outputs\u001b[0;34m(self, iterator, pre_dispatch)\u001b[0m\n\u001b[1;32m   1592\u001b[0m     \u001b[38;5;28;01myield\u001b[39;00m\n\u001b[1;32m   1594\u001b[0m     \u001b[38;5;28;01mwith\u001b[39;00m \u001b[38;5;28mself\u001b[39m\u001b[38;5;241m.\u001b[39m_backend\u001b[38;5;241m.\u001b[39mretrieval_context():\n\u001b[0;32m-> 1595\u001b[0m         \u001b[38;5;28;01myield from\u001b[39;00m \u001b[38;5;28mself\u001b[39m\u001b[38;5;241m.\u001b[39m_retrieve()\n\u001b[1;32m   1597\u001b[0m \u001b[38;5;28;01mexcept\u001b[39;00m \u001b[38;5;167;01mGeneratorExit\u001b[39;00m:\n\u001b[1;32m   1598\u001b[0m     \u001b[38;5;66;03m# The generator has been garbage collected before being fully\u001b[39;00m\n\u001b[1;32m   1599\u001b[0m     \u001b[38;5;66;03m# consumed. This aborts the remaining tasks if possible and warn\u001b[39;00m\n\u001b[1;32m   1600\u001b[0m     \u001b[38;5;66;03m# the user if necessary.\u001b[39;00m\n\u001b[1;32m   1601\u001b[0m     \u001b[38;5;28mself\u001b[39m\u001b[38;5;241m.\u001b[39m_exception \u001b[38;5;241m=\u001b[39m \u001b[38;5;28;01mTrue\u001b[39;00m\n",
      "File \u001b[0;32m~/Cosmotech/next/comets/env/lib/python3.9/site-packages/joblib/parallel.py:1699\u001b[0m, in \u001b[0;36mParallel._retrieve\u001b[0;34m(self)\u001b[0m\n\u001b[1;32m   1692\u001b[0m \u001b[38;5;28;01mwhile\u001b[39;00m \u001b[38;5;28mself\u001b[39m\u001b[38;5;241m.\u001b[39m_wait_retrieval():\n\u001b[1;32m   1693\u001b[0m \n\u001b[1;32m   1694\u001b[0m     \u001b[38;5;66;03m# If the callback thread of a worker has signaled that its task\u001b[39;00m\n\u001b[1;32m   1695\u001b[0m     \u001b[38;5;66;03m# triggered an exception, or if the retrieval loop has raised an\u001b[39;00m\n\u001b[1;32m   1696\u001b[0m     \u001b[38;5;66;03m# exception (e.g. `GeneratorExit`), exit the loop and surface the\u001b[39;00m\n\u001b[1;32m   1697\u001b[0m     \u001b[38;5;66;03m# worker traceback.\u001b[39;00m\n\u001b[1;32m   1698\u001b[0m     \u001b[38;5;28;01mif\u001b[39;00m \u001b[38;5;28mself\u001b[39m\u001b[38;5;241m.\u001b[39m_aborting:\n\u001b[0;32m-> 1699\u001b[0m         \u001b[38;5;28;43mself\u001b[39;49m\u001b[38;5;241;43m.\u001b[39;49m\u001b[43m_raise_error_fast\u001b[49m\u001b[43m(\u001b[49m\u001b[43m)\u001b[49m\n\u001b[1;32m   1700\u001b[0m         \u001b[38;5;28;01mbreak\u001b[39;00m\n\u001b[1;32m   1702\u001b[0m     \u001b[38;5;66;03m# If the next job is not ready for retrieval yet, we just wait for\u001b[39;00m\n\u001b[1;32m   1703\u001b[0m     \u001b[38;5;66;03m# async callbacks to progress.\u001b[39;00m\n",
      "File \u001b[0;32m~/Cosmotech/next/comets/env/lib/python3.9/site-packages/joblib/parallel.py:1734\u001b[0m, in \u001b[0;36mParallel._raise_error_fast\u001b[0;34m(self)\u001b[0m\n\u001b[1;32m   1730\u001b[0m \u001b[38;5;66;03m# If this error job exists, immediatly raise the error by\u001b[39;00m\n\u001b[1;32m   1731\u001b[0m \u001b[38;5;66;03m# calling get_result. This job might not exists if abort has been\u001b[39;00m\n\u001b[1;32m   1732\u001b[0m \u001b[38;5;66;03m# called directly or if the generator is gc'ed.\u001b[39;00m\n\u001b[1;32m   1733\u001b[0m \u001b[38;5;28;01mif\u001b[39;00m error_job \u001b[38;5;129;01mis\u001b[39;00m \u001b[38;5;129;01mnot\u001b[39;00m \u001b[38;5;28;01mNone\u001b[39;00m:\n\u001b[0;32m-> 1734\u001b[0m     \u001b[43merror_job\u001b[49m\u001b[38;5;241;43m.\u001b[39;49m\u001b[43mget_result\u001b[49m\u001b[43m(\u001b[49m\u001b[38;5;28;43mself\u001b[39;49m\u001b[38;5;241;43m.\u001b[39;49m\u001b[43mtimeout\u001b[49m\u001b[43m)\u001b[49m\n",
      "File \u001b[0;32m~/Cosmotech/next/comets/env/lib/python3.9/site-packages/joblib/parallel.py:736\u001b[0m, in \u001b[0;36mBatchCompletionCallBack.get_result\u001b[0;34m(self, timeout)\u001b[0m\n\u001b[1;32m    730\u001b[0m backend \u001b[38;5;241m=\u001b[39m \u001b[38;5;28mself\u001b[39m\u001b[38;5;241m.\u001b[39mparallel\u001b[38;5;241m.\u001b[39m_backend\n\u001b[1;32m    732\u001b[0m \u001b[38;5;28;01mif\u001b[39;00m backend\u001b[38;5;241m.\u001b[39msupports_retrieve_callback:\n\u001b[1;32m    733\u001b[0m     \u001b[38;5;66;03m# We assume that the result has already been retrieved by the\u001b[39;00m\n\u001b[1;32m    734\u001b[0m     \u001b[38;5;66;03m# callback thread, and is stored internally. It's just waiting to\u001b[39;00m\n\u001b[1;32m    735\u001b[0m     \u001b[38;5;66;03m# be returned.\u001b[39;00m\n\u001b[0;32m--> 736\u001b[0m     \u001b[38;5;28;01mreturn\u001b[39;00m \u001b[38;5;28;43mself\u001b[39;49m\u001b[38;5;241;43m.\u001b[39;49m\u001b[43m_return_or_raise\u001b[49m\u001b[43m(\u001b[49m\u001b[43m)\u001b[49m\n\u001b[1;32m    738\u001b[0m \u001b[38;5;66;03m# For other backends, the main thread needs to run the retrieval step.\u001b[39;00m\n\u001b[1;32m    739\u001b[0m \u001b[38;5;28;01mtry\u001b[39;00m:\n",
      "File \u001b[0;32m~/Cosmotech/next/comets/env/lib/python3.9/site-packages/joblib/parallel.py:754\u001b[0m, in \u001b[0;36mBatchCompletionCallBack._return_or_raise\u001b[0;34m(self)\u001b[0m\n\u001b[1;32m    752\u001b[0m \u001b[38;5;28;01mtry\u001b[39;00m:\n\u001b[1;32m    753\u001b[0m     \u001b[38;5;28;01mif\u001b[39;00m \u001b[38;5;28mself\u001b[39m\u001b[38;5;241m.\u001b[39mstatus \u001b[38;5;241m==\u001b[39m TASK_ERROR:\n\u001b[0;32m--> 754\u001b[0m         \u001b[38;5;28;01mraise\u001b[39;00m \u001b[38;5;28mself\u001b[39m\u001b[38;5;241m.\u001b[39m_result\n\u001b[1;32m    755\u001b[0m     \u001b[38;5;28;01mreturn\u001b[39;00m \u001b[38;5;28mself\u001b[39m\u001b[38;5;241m.\u001b[39m_result\n\u001b[1;32m    756\u001b[0m \u001b[38;5;28;01mfinally\u001b[39;00m:\n",
      "\u001b[0;31mRuntimeError\u001b[0m: csm::ResourceNotFoundException: Could not find Simulation resource '/home/user/bin/BreweryTutorialSimulation'"
     ]
    }
   ],
   "source": [
    "opt.run"
   ]
  },
  {
   "cell_type": "markdown",
   "id": "e01d19b4",
   "metadata": {},
   "source": [
    "## 5. Displaying the results of the Experiment\n",
    "The results of the analysis are stored in the attribute 'results', it contains the optimal decision variables and the optimal value of the objective function."
   ]
  },
  {
   "cell_type": "code",
   "execution_count": 16,
   "id": "3e10c7b4",
   "metadata": {},
   "outputs": [
    {
     "data": {
      "text/plain": [
       "{}"
      ]
     },
     "execution_count": 16,
     "metadata": {},
     "output_type": "execute_result"
    }
   ],
   "source": [
    "opt.result"
   ]
  },
  {
   "cell_type": "markdown",
   "id": "b33f213d-6b7a-4129-90d0-fca2de0b4b39",
   "metadata": {},
   "source": [
    " "
   ]
  },
  {
   "cell_type": "code",
   "execution_count": null,
   "id": "1fc4f5a0-0123-4c47-970a-0dd96ace64e0",
   "metadata": {},
   "outputs": [],
   "source": []
  }
 ],
 "metadata": {
  "kernelspec": {
   "display_name": "env",
   "language": "python",
   "name": "env"
  },
  "language_info": {
   "codemirror_mode": {
    "name": "ipython",
    "version": 3
   },
   "file_extension": ".py",
   "mimetype": "text/x-python",
   "name": "python",
   "nbconvert_exporter": "python",
   "pygments_lexer": "ipython3",
   "version": "3.9.2"
  }
 },
 "nbformat": 4,
 "nbformat_minor": 5
}
