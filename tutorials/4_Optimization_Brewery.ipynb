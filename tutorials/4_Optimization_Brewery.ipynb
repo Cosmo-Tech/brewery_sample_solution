{
 "cells": [
  {
   "cell_type": "markdown",
   "id": "ad566a7f",
   "metadata": {},
   "source": [
    "# Optimization\n",
    "This tutorial shows how to use Comets to perform an optimization."
   ]
  },
  {
   "cell_type": "code",
   "execution_count": 1,
   "id": "f0f5ba0e",
   "metadata": {
    "jupyter": {
     "source_hidden": true
    }
   },
   "outputs": [
    {
     "data": {
      "text/html": [
       "<img src=\"Comets_Workflow.png\" width=\"800\"/>"
      ],
      "text/plain": [
       "<IPython.core.display.Image object>"
      ]
     },
     "execution_count": 1,
     "metadata": {},
     "output_type": "execute_result"
    }
   ],
   "source": [
    "# code to display the diagram below\n",
    "from IPython.display import Image\n",
    "Image(url= \"Comets_Workflow.png\", width=800)"
   ]
  },
  {
   "cell_type": "markdown",
   "id": "a8787a16",
   "metadata": {},
   "source": [
    "## The Brewery model\n",
    "\n",
    "Like in the previous tutorial, we are working with the Brewery model. It is a drink consumption model including stock level management and customer satisfaction dynamics. The model input parameters that we will deal with are: \n",
    "\n",
    "- NbWaiters: number of waiters in the bar\n",
    "- RestockQty: a fix quantity of drinks added to the current stock of the bar once it reaches a threshold value.\n",
    "\n",
    "The quantity of interest for this experiment is the Stock. More precisely, we want to maintain the final stock level to 40 drinks. We want to answer the following question: **How to maintain the final stock as close as possible to 40 drinks, with respect to the number of waiters and the restock quantity?**"
   ]
  },
  {
   "cell_type": "markdown",
   "id": "7476fa19",
   "metadata": {},
   "source": [
    "## The approach\n",
    "An optimization requires to specify precisely the decision variables and the objective function. The objective function is the quantity we want to minimize (or maximize) and the decision variables are the levers we can change to reach this objective.  \n",
    "In this study the decision variables are NbWaiters, RestockQty and the objective function is the following:\n",
    "$$\n",
    "f(Stock) = (40 - Stock)^2\n",
    "$$\n",
    "The optimization is performed on an explicitly defined task with inputs and outputs. Here the inputs of the task are NbWaiters, RestockQty (the decision variables of the optimization) and the output is $ (40 - Stock)^2 $ (the objective function of the optimization). "
   ]
  },
  {
   "cell_type": "markdown",
   "id": "3b089382",
   "metadata": {},
   "source": [
    "## 1. Define the task on which to experiment\n",
    "Comets always works with the same method: it performs analyses on tasks. Before defining any experiment, we need to define the task on which it will be performed. A task behaves as a function that takes as input a ParameterSet and outputs another ParameterSet. It has a method *evaluate* that is in charge of performing the evaluation and returning the outputs.\n",
    "During the task evaluation, the model is run. When creating the task, we also allow for some additional pre-processing (i.e encoding) of the input parameters or post-processing of the outputs of the model."
   ]
  },
  {
   "cell_type": "code",
   "execution_count": 1,
   "id": "d4a40149",
   "metadata": {},
   "outputs": [
    {
     "data": {
      "text/html": [
       "<img src=\"Comets_ModelTask.png\" width=\"1000\" height=\"1600\"/>"
      ],
      "text/plain": [
       "<IPython.core.display.Image object>"
      ]
     },
     "execution_count": 1,
     "metadata": {},
     "output_type": "execute_result"
    }
   ],
   "source": [
    "# code to display the diagram below\n",
    "from IPython.display import Image\n",
    "Image(url= \"Comets_ModelTask.png\", width=1000, height=1600)"
   ]
  },
  {
   "cell_type": "markdown",
   "id": "ccff5462",
   "metadata": {},
   "source": [
    "To run the analysis we first need to import comets:"
   ]
  },
  {
   "cell_type": "code",
   "execution_count": 2,
   "id": "1f09523d",
   "metadata": {},
   "outputs": [],
   "source": [
    "import comets"
   ]
  },
  {
   "cell_type": "markdown",
   "id": "205b417f",
   "metadata": {},
   "source": [
    "In order to import the Brewery model, we then need to specify the path to the project containing it."
   ]
  },
  {
   "cell_type": "code",
   "execution_count": 3,
   "id": "386ac3c3",
   "metadata": {},
   "outputs": [],
   "source": [
    "#This example assumes that this notebook is in the folder containing the Brewery project\n",
    "#and that the model has been compiled with the python wrappers activated.\n",
    "\n",
    "from pathlib import Path\n",
    "cwd = Path().resolve()"
   ]
  },
  {
   "cell_type": "markdown",
   "id": "cb97ad5b",
   "metadata": {},
   "source": [
    "### Import the simulator\n",
    "We need to import the simulator in order to allow comets to interact with it. In this example, we work with the Brewery simulator, which we can instantiate using a CosmoInterface as follows:"
   ]
  },
  {
   "cell_type": "code",
   "execution_count": 4,
   "id": "e198fce3",
   "metadata": {},
   "outputs": [],
   "source": [
    "simulator = comets.CosmoInterface(\n",
    "    simulator_path = 'BreweryTutorialSimulation',\n",
    "    project_path = cwd,\n",
    ")"
   ]
  },
  {
   "cell_type": "markdown",
   "id": "d554be57",
   "metadata": {},
   "source": [
    "For more details on how to instantiate the Brewery model, refer to the tutorial \"Running simulatons with Comets\"."
   ]
  },
  {
   "cell_type": "markdown",
   "id": "a9386d93",
   "metadata": {},
   "source": [
    "### Define the input parameters of the task and the encoding for working with the model\n",
    "The task should take as input a ParameterSet, which is a set of parameters, stored as a dictionary containing names of parameters and their values. In our case the input parameters are the NbWaiters and the RestockQty, which would take the form: \n",
    "{'NbWaiters': NbWaiters, 'RestockQty': RestockQty} \n",
    "\n",
    "\n",
    "\n",
    "In order for the model to recognize input parameters, we need to encode them to a ParameterSet where the keys are the datapaths of the corresponding attributes in the model. For NbWaiters and RestockQty it corresponds to: \n",
    "\n",
    "- 'Model::{Entity}MyBar::@NbWaiters'\n",
    "- 'Model::{Entity}MyBar::@RestockQty'\n",
    "\n",
    "The encoding function takes the ParameterSet:\n",
    "\n",
    "{'NbWaiters': NbWaiters, 'RestockQty': RestockQty} \n",
    "\n",
    "and returns the ParameterSet:\n",
    "\n",
    "{'Model::{Entity}MyBar::@NbWaiters': NbWaiters, 'Model::{Entity}MyBar::@RestockQty': RestockQty}."
   ]
  },
  {
   "cell_type": "code",
   "execution_count": 5,
   "id": "fb8b1968",
   "metadata": {},
   "outputs": [],
   "source": [
    "def encoder(parameters):\n",
    "    return {'Model::{Entity}MyBar::@NbWaiters': parameters['NbWaiters'],\n",
    "            'Model::{Entity}MyBar::@RestockQty': parameters['RestockQty']}"
   ]
  },
  {
   "cell_type": "markdown",
   "id": "2d78dd0a",
   "metadata": {},
   "source": [
    "### Define the quantity of interest for the experiment, which is the output of the task\n",
    "The quantity we are interested in is the square difference between the target stock and the actual stock. This quantity is not computed directly in the model, but can be computed from the model output. It is defined as:\n",
    "$$\n",
    "\\text{quantity of interest} = (40 - Stock)^2\n",
    "$$\n",
    "The Stock is available in the model via its datapath: 'Model::{Entity}MyBar::@Stock'\n",
    "\n",
    "A quantity of interest can be computed from the output of the model by creating a function that takes as input the CosmoInterface and returns a ParameterSet with the values of the quantity of interest."
   ]
  },
  {
   "cell_type": "code",
   "execution_count": 6,
   "id": "e02fbed6",
   "metadata": {},
   "outputs": [],
   "source": [
    "def get_outcomes(simulator):\n",
    "    outputs = simulator.get_outputs(['Model::{Entity}MyBar::@Stock'])\n",
    "    stock = outputs['Model::{Entity}MyBar::@Stock']\n",
    "    return {'ObjectiveFunction' : (stock-40)**2}"
   ]
  },
  {
   "cell_type": "markdown",
   "id": "d46ab76a",
   "metadata": {},
   "source": [
    "### Declaring the Task\n",
    "\n",
    "Once the inputs and outputs have been defined, the final step is to declare the task with its CosmoInterface, encode and get_outcomes method. Evaluating the task corresponds to encoding the inputs, running a simulation and then computing the quantity of interest with the get_outcomes function."
   ]
  },
  {
   "cell_type": "code",
   "execution_count": 7,
   "id": "6dd99b67",
   "metadata": {},
   "outputs": [],
   "source": [
    "optimtask = comets.ModelTask(simulator, get_outcomes = get_outcomes, encode = encoder)"
   ]
  },
  {
   "cell_type": "markdown",
   "id": "ccbcf5ae",
   "metadata": {},
   "source": [
    "## 2. Defining the decision variables space\n",
    "Once the task has been defined, we need to specify the decision variables space. This is done by declaring the decision variables in the format described below. The space is a list of dictionaries with each of the dictionaries containing the following information: \n",
    "\n",
    "- **name** (str): name of the decision variable\n",
    "- **type** (str): data type of the decision variable (float, int or categorical)\n",
    "- **bounds** (list): bounds inside which the decision variable belongs\n",
    "- **size** (optional, integer): length of the list when the decision variable is a list of variables.\n",
    "\n",
    "The currently available types are: **\"float\"**, **\"int\"** and **\"categorical\"**.\n",
    "\n",
    "\n",
    "In the Brewery model, NbWaiters and RestockQty are two integers. The former ranges from 1 to 12 and the latter from 1 to 50."
   ]
  },
  {
   "cell_type": "code",
   "execution_count": 8,
   "id": "61af6757",
   "metadata": {},
   "outputs": [],
   "source": [
    "space = [\n",
    "    {\n",
    "        \"name\": \"NbWaiters\",\n",
    "        \"type\": \"int\",\n",
    "        \"bounds\": [1, 12],\n",
    "    },\n",
    "    {\n",
    "        \"name\": \"RestockQty\",\n",
    "        \"type\": \"int\",\n",
    "        \"bounds\": [1, 50],\n",
    "    },\n",
    "]"
   ]
  },
  {
   "cell_type": "markdown",
   "id": "f9296323",
   "metadata": {},
   "source": [
    "## 3. Declaring the Experiment\n",
    "An optimization is an experiment taking the following arguments:\n",
    "\n",
    "- **space**: decision variables space\n",
    "- **task**: task on which to perform the optimization\n",
    "- **algorithm**: optimization algorithm used ('CMA', 'TwoPointsDE', 'NelderMead' ...)\n",
    "- **stop_criteria**: dictionary containing the stop criteria of the experiment. In our case we use ‘max_evaluations’, which corresponds to the number of task evaluations to perform. Other criteria are available, more information on them can be found in Comets' documentation. \n",
    "- **n_jobs**: number of processes used for parallel computing. Defaults to 1 (no parallelization)\n",
    "- **maximize**: whether the optimization is seeking for a maximum (in opposition to a minimum). Defaults to False."
   ]
  },
  {
   "cell_type": "code",
   "execution_count": 9,
   "id": "afebeca6",
   "metadata": {},
   "outputs": [],
   "source": [
    "opt = comets.Optimization(\n",
    "    space = space,\n",
    "    task = optimtask,\n",
    "    algorithm = 'CMAES',\n",
    "    stop_criteria = {'max_evaluations': 150},\n",
    "    n_jobs = 8,\n",
    "    maximize = False,\n",
    ")"
   ]
  },
  {
   "cell_type": "markdown",
   "id": "7317b8ce",
   "metadata": {},
   "source": [
    "## 4. Running the experiment"
   ]
  },
  {
   "cell_type": "code",
   "execution_count": 10,
   "id": "9ed11676",
   "metadata": {},
   "outputs": [],
   "source": [
    "opt.run()"
   ]
  },
  {
   "cell_type": "markdown",
   "id": "7ffb4e32",
   "metadata": {},
   "source": [
    "## 5. Displaying the results of the Experiment\n",
    "The results of the analysis are stored in the attribute 'results', it contains the optimal decision variables and the optimal value of the objective function."
   ]
  },
  {
   "cell_type": "code",
   "execution_count": 11,
   "id": "d45379b0",
   "metadata": {},
   "outputs": [
    {
     "data": {
      "text/plain": [
       "{'Optimal variables': {'NbWaiters': 7, 'RestockQty': 35},\n",
       " 'Optimal values': {'ObjectiveFunction': 0}}"
      ]
     },
     "execution_count": 11,
     "metadata": {},
     "output_type": "execute_result"
    }
   ],
   "source": [
    "opt.results"
   ]
  }
 ],
 "metadata": {
  "kernelspec": {
   "display_name": "env",
   "language": "python",
   "name": "env"
  },
  "language_info": {
   "codemirror_mode": {
    "name": "ipython",
    "version": 3
   },
   "file_extension": ".py",
   "mimetype": "text/x-python",
   "name": "python",
   "nbconvert_exporter": "python",
   "pygments_lexer": "ipython3",
   "version": "3.7.3"
  }
 },
 "nbformat": 4,
 "nbformat_minor": 5
}
