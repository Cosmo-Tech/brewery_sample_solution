{
 "cells": [
  {
   "cell_type": "markdown",
   "id": "7c285df7",
   "metadata": {},
   "source": [
    "# Creating a task with the Brewery model\n",
    "\n",
    "This chapter is dedicated to tutorials on how to create a Task in the library. This step is essential as all the experiments in the library are performed on Tasks. A Task behaves as a function: it takes inputs, performs an evaluation and outputs the results. A Task defines a specific computation using a simulator. For example if we have a supply chain simulator one task may compute the profit given some input demand, and another task may compute the service level given some inventory policy input. The tasks are different but rely on the same simulator. The task therefore allows to specify which inputs we want to experiment with, to pre-process these inputs, to evaluate a simulator and to post-process the outputs of the simulation. \n",
    "\n",
    "Suppose we want to perform an experimentation on the Brewery model (e.g an optimization). For this we have to specify which KPI we want to optimize and with respect to which input parameters. A Task allows this specification in a way such that the experiment is able to run the task automatically. This tutorial explains how to define such a task."
   ]
  },
  {
   "cell_type": "code",
   "execution_count": 1,
   "id": "7a7bc2d6",
   "metadata": {
    "jupyter": {
     "source_hidden": true
    }
   },
   "outputs": [
    {
     "data": {
      "text/html": [
       "<img src=\"Comets_Workflow.png\" width=\"900\"/>"
      ],
      "text/plain": [
       "<IPython.core.display.Image object>"
      ]
     },
     "execution_count": 1,
     "metadata": {},
     "output_type": "execute_result"
    }
   ],
   "source": [
    "# code to display the diagram below\n",
    "from IPython.display import Image\n",
    "Image(url= \"Comets_Workflow.png\", width=900)"
   ]
  },
  {
   "cell_type": "markdown",
   "id": "dbf6f712",
   "metadata": {},
   "source": [
    "## The Brewery model\n",
    "\n",
    "We are working with a drink consumption model including stock level management and customer satisfaction dynamics. The model input parameters\n",
    "that we will deal with are: \n",
    "\n",
    "- NBWaiters: the number of waiters in the bar\n",
    "- RestockQty: a fix quantity of drinks added to the current stock of the bar once it reaches a threshold value.\n",
    "\n",
    "The Brewery model has no default outputs as the value of all attributes at the end of a simulation can be considered as an output. In our case we will use the following attributes:\n",
    "\n",
    " - AverageSatisfaction: the average customer satisfaction\n",
    " - Stock: the stock of the bar."
   ]
  },
  {
   "cell_type": "markdown",
   "id": "e19b1b98",
   "metadata": {},
   "source": [
    "## Importing the library\n",
    "\n",
    "For this tutorial we only need to import comets:"
   ]
  },
  {
   "cell_type": "code",
   "execution_count": 2,
   "id": "31214541",
   "metadata": {},
   "outputs": [],
   "source": [
    "import comets "
   ]
  },
  {
   "cell_type": "markdown",
   "id": "16aa4c66",
   "metadata": {},
   "source": [
    "## Creating a task with a Cosmo model\n",
    "\n",
    "Comets always works with the same method: **it performs analyses on Tasks**. A Task behaves as a function that takes as input a ParameterSet, perform an evaluation and outputs another ParameterSet. A ParameterSet consist of a set of parameters, stored as a dictionary containing names of parameters and their values. \n",
    "\n",
    "The Task has a method evaluate that is in charge of performing the evaluation and returning the outputs.\n",
    "During the task evaluation, the simulation is run, but when creating the task we also allow for some additional pre-processing of the input parameters or post-processing of the outputs. Note that it is possible to create different Tasks with the same model by using different pre-processing and/or post-processing.\n",
    "\n",
    "The task uses the Brewery model via a model interface and can additionally perform some encoding on the inputs and some posttreatment\n",
    "on the outputs of the model. It allows the experimenter, for example, to perform an experiment on a KPI that is not computed within the model\n",
    "but depends on the model outputs.\n",
    "\n",
    "In order to create our Task we first we need to create a model interface that allows the library to manipulate the Brewery model. For that we use a CosmoInterface. It will be declared\n",
    "with two arguments:\n",
    "\n",
    "- simulator_path (mandatory): path to the simulation file inside the folder Simulation of the project.  \n",
    "- project_path (optional): path to the project containing the model. This should be an absolute path. If not specified, assumes we are\n",
    "  running from inside the project folder.  \n",
    "  \n",
    "  \n",
    "Another possible argument is cold_input_parameter_set. It enables you to fix a parameter’s value at the beginning of the experiment. This parameter’s value will not change during the entire experiment. "
   ]
  },
  {
   "cell_type": "code",
   "execution_count": 3,
   "id": "46ccbf21",
   "metadata": {},
   "outputs": [],
   "source": [
    "#This example assumes that this notebook is in the folder containing the Brewery project\n",
    "#and that the model has been compiled with the python wrappers activated.\n",
    "\n",
    "from pathlib import Path\n",
    "cwd = Path().resolve()\n",
    "\n",
    "simulator = comets.CosmoInterface(\n",
    "    simulator_path = 'BreweryTutorialSimulation',\n",
    "    project_path = cwd,\n",
    ")"
   ]
  },
  {
   "cell_type": "markdown",
   "id": "0c135021",
   "metadata": {},
   "source": [
    "Now that the model interface is created we can declare a task that uses this CosmoInterface.\n",
    "This is called a ModelTask, it will specify what is the CosmoInterface we are using, which encoding on the input parameters should be performed (optional) and what are the outcomes of interest of the task (optional).\n",
    "Since the Brewery model has no default output parameters, we will specify at least the following arguments:\n",
    "\n",
    "- modelinterface (mandatory): ModelInterface used by the task to communicate with a model.  \n",
    "- get_outcomes (callable, optional): function taking as argument the modelinterface and returning a ParameterSet\n",
    "  containing the outputs of the model.  \n",
    "\n",
    "\n",
    "\n",
    "A get_outcomes function should take as input the CosmoInterface, and return a ParameterSet. It can use the methods of the CosmoInterface to access the model, in particular the get_outputs method allows to access the attributes of the model."
   ]
  },
  {
   "cell_type": "code",
   "execution_count": 4,
   "id": "31d7888b",
   "metadata": {
    "jupyter": {
     "source_hidden": true
    }
   },
   "outputs": [
    {
     "data": {
      "text/html": [
       "<img src=\"Comets_ModelTask.png\" width=\"1100\"/>"
      ],
      "text/plain": [
       "<IPython.core.display.Image object>"
      ]
     },
     "execution_count": 4,
     "metadata": {},
     "output_type": "execute_result"
    }
   ],
   "source": [
    "# code to display the diagram below\n",
    "from IPython.display import Image\n",
    "Image(url= \"Comets_ModelTask.png\", width=1100)"
   ]
  },
  {
   "cell_type": "code",
   "execution_count": 5,
   "id": "a53d3a65",
   "metadata": {},
   "outputs": [],
   "source": [
    "def get_outcomes(simulator):\n",
    "    outputs = simulator.get_outputs(['Model::{Entity}MyBar::@AverageSatisfaction', 'Model::{Entity}MyBar::@Stock'])\n",
    "    AverageSatisfaction = outputs['Model::{Entity}MyBar::@AverageSatisfaction']\n",
    "    stock = outputs['Model::{Entity}MyBar::@Stock']\n",
    "    return {'AverageSatisfaction' : AverageSatisfaction, 'Stock' : stock}\n",
    "\n",
    "mytask = comets.ModelTask(modelinterface=simulator, get_outcomes=get_outcomes)"
   ]
  },
  {
   "cell_type": "markdown",
   "id": "25acfcdc",
   "metadata": {},
   "source": [
    "Note that we could also have used the get_consumers() method  instead of the get_outputs() to get the Stock's value. "
   ]
  },
  {
   "cell_type": "markdown",
   "id": "4da45528",
   "metadata": {},
   "source": [
    "Now that the task is defined, the library will be able to execute it.\n",
    "If we want to evaluate the task ourselves with specific inputs, we need to declare them in the format expected by the Cosmo model interface (since there is no encoding), which is a ParameterSet containing as keys the datapath to some attribute, and as value the value of the attribute at the beginning of the simulation:\n",
    "\n",
    "$$\n",
    "\\text{parameter set} = \\text{ {datapath1: value1, datapath2: value1} }\n",
    "$$"
   ]
  },
  {
   "cell_type": "code",
   "execution_count": 6,
   "id": "867ba7cd",
   "metadata": {},
   "outputs": [],
   "source": [
    "parameter_set = {'Model::{Entity}MyBar::@NbWaiters': 4,\n",
    "                 'Model::{Entity}MyBar::@RestockQty': 12}\n",
    "\n",
    "output = mytask.evaluate(parameter_set)"
   ]
  },
  {
   "cell_type": "markdown",
   "id": "25f6adce",
   "metadata": {},
   "source": [
    "output is a dictionary containing the results of the task evaluation:"
   ]
  },
  {
   "cell_type": "code",
   "execution_count": 7,
   "id": "b368718e",
   "metadata": {},
   "outputs": [
    {
     "name": "stdout",
     "output_type": "stream",
     "text": [
      "{'AverageSatisfaction': 1, 'Stock': 17}\n"
     ]
    }
   ],
   "source": [
    "print(output)"
   ]
  },
  {
   "cell_type": "markdown",
   "id": "9e71dc4b",
   "metadata": {},
   "source": [
    "### Encode function\n",
    "\n",
    "Using an encoder allows to do transformations on the input parameters of the model task before they are passed on to the model. The input parameters of the\n",
    "task no longer have to be in the format expected by the model as long as the encoder encodes the information correctly. Note that the input of the encoder should be in the ParameterSet's format.\n",
    "\n",
    "For instance, instead of using the datapaths in the input ParameterSet like above, we can create an encoder that maps the names of the input parameters to their datapaths: \n"
   ]
  },
  {
   "cell_type": "code",
   "execution_count": 8,
   "id": "9ffacbf3",
   "metadata": {},
   "outputs": [],
   "source": [
    "def encoder(parameters):\n",
    "    return {'Model::{Entity}MyBar::@NbWaiters': parameters['NbWaiters'],\n",
    "            'Model::{Entity}MyBar::@RestockQty': parameters['RestockQty']}\n",
    "    "
   ]
  },
  {
   "cell_type": "markdown",
   "id": "ffdaaf82",
   "metadata": {},
   "source": [
    "Now we can create the model interface, the task and declare the encoder to use:"
   ]
  },
  {
   "cell_type": "code",
   "execution_count": 9,
   "id": "0811e679",
   "metadata": {},
   "outputs": [],
   "source": [
    "simulator = comets.CosmoInterface(\n",
    "    simulator_path = 'BreweryTutorialSimulation',\n",
    "    project_path = cwd,\n",
    ")\n",
    "\n",
    "\n",
    "mytask2 = comets.ModelTask(\n",
    "    modelinterface = simulator,\n",
    "    encode = encoder,\n",
    "    get_outcomes = get_outcomes)"
   ]
  },
  {
   "cell_type": "markdown",
   "id": "63d4974e",
   "metadata": {},
   "source": [
    "The task can now be evaluated with the new parameter set:"
   ]
  },
  {
   "cell_type": "code",
   "execution_count": 10,
   "id": "2c63aa7b",
   "metadata": {},
   "outputs": [],
   "source": [
    "parameter_set = {'NbWaiters': 4,\n",
    "                 'RestockQty': 12}\n",
    "\n",
    "output2 = mytask2.evaluate(parameter_set)"
   ]
  },
  {
   "cell_type": "markdown",
   "id": "0417585e",
   "metadata": {},
   "source": [
    "output2 is a dictionary containing the results of the task evaluation:"
   ]
  },
  {
   "cell_type": "code",
   "execution_count": 11,
   "id": "d33a9605",
   "metadata": {},
   "outputs": [
    {
     "name": "stdout",
     "output_type": "stream",
     "text": [
      "{'AverageSatisfaction': 1, 'Stock': 17}\n"
     ]
    }
   ],
   "source": [
    "print(output2)"
   ]
  },
  {
   "cell_type": "markdown",
   "id": "d99d7328",
   "metadata": {},
   "source": [
    "### get_outcomes function\n",
    "\n",
    "In addition to selecting the model outputs, the get_outcomes function offers the possibility to compute other quantities that depend on\n",
    "the model outputs, such as KPIs that are of interest to the experiment.\n",
    "\n",
    "Imagine for example that the maximum stock capacity of the bar is 50 drinks. We want to return a percentage of this maximum capacity instead of the actual stock.  This quantity can be computed as follows: \n",
    "\n",
    "$$\n",
    "\\text{maximum capacity percentage} = \\frac{\\text{Stock}}{50}\n",
    "$$\n",
    "\n",
    "We are going to use a get_outcomes function to compute this quantity:"
   ]
  },
  {
   "cell_type": "code",
   "execution_count": 12,
   "id": "4f2496db",
   "metadata": {},
   "outputs": [],
   "source": [
    "def get_outcomes2(simulator):\n",
    "    output = simulator.get_outputs(['Model::{Entity}MyBar::@Stock'])\n",
    "    stock = output['Model::{Entity}MyBar::@Stock']\n",
    "    maximum_capacity_percentage = stock/50\n",
    "    return { 'maximum capacity percentage' : maximum_capacity_percentage}"
   ]
  },
  {
   "cell_type": "markdown",
   "id": "8980b6be",
   "metadata": {},
   "source": [
    "Now we can create the model interface, the task and declare the get_outcomes function to use:"
   ]
  },
  {
   "cell_type": "code",
   "execution_count": 13,
   "id": "91378ca6",
   "metadata": {},
   "outputs": [],
   "source": [
    "simulator = comets.CosmoInterface(\n",
    "    simulator_path = 'BreweryTutorialSimulation',\n",
    "    project_path = cwd,\n",
    ")\n",
    "\n",
    "\n",
    "mytask3 = comets.ModelTask(\n",
    "    modelinterface = simulator,\n",
    "    encode = encoder,\n",
    "    get_outcomes = get_outcomes2)"
   ]
  },
  {
   "cell_type": "markdown",
   "id": "1d79fec8",
   "metadata": {},
   "source": [
    "The task can now be evaluated:"
   ]
  },
  {
   "cell_type": "code",
   "execution_count": 14,
   "id": "d63e4eae",
   "metadata": {},
   "outputs": [],
   "source": [
    "parameter_set = {'NbWaiters': 4,\n",
    "                 'RestockQty': 12}\n",
    "\n",
    "output3 = mytask3.evaluate(parameter_set)"
   ]
  },
  {
   "cell_type": "markdown",
   "id": "519c0f9b",
   "metadata": {},
   "source": [
    "outputs is a dictionary containing the results of the task evaluation:"
   ]
  },
  {
   "cell_type": "code",
   "execution_count": 15,
   "id": "e15f511c",
   "metadata": {},
   "outputs": [
    {
     "name": "stdout",
     "output_type": "stream",
     "text": [
      "{'maximum capacity percentage': 0.3}\n"
     ]
    }
   ],
   "source": [
    "print(output3)"
   ]
  },
  {
   "cell_type": "markdown",
   "id": "2796233b",
   "metadata": {},
   "source": [
    "## Conclusion\n",
    "\n",
    "You are now able to connect the Brewery model to the library via a task. The task plays a key role in all the experiments,\n",
    "now that you know how to declare and use it, you can start experimenting!"
   ]
  }
 ],
 "metadata": {
  "kernelspec": {
   "display_name": "env",
   "language": "python",
   "name": "env"
  },
  "language_info": {
   "codemirror_mode": {
    "name": "ipython",
    "version": 3
   },
   "file_extension": ".py",
   "mimetype": "text/x-python",
   "name": "python",
   "nbconvert_exporter": "python",
   "pygments_lexer": "ipython3",
   "version": "3.7.3"
  }
 },
 "nbformat": 4,
 "nbformat_minor": 5
}
