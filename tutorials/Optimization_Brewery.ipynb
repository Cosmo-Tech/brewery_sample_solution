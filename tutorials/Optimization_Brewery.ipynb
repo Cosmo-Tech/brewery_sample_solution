{
 "cells": [
  {
   "cell_type": "markdown",
   "id": "2ff8fdfc",
   "metadata": {},
   "source": [
    "# Optimization\n",
    "This tutorial shows how to use Comets to perform an optimization."
   ]
  },
  {
   "cell_type": "markdown",
   "id": "96f58692",
   "metadata": {},
   "source": [
    "## The Brewery model\n",
    "\n",
    "Like in the previous tutorial we are working with the Brewery model. It is a drink consumption model including stock level management and customer satisfaction dynamics. The model input parameters that we will deal with are: \n",
    "\n",
    "- NBWaiters: the number of waiters in the bar\n",
    "- RestockQty: a fix quantity of drinks added to the current stock of the bar once it reaches a threshold value.\n",
    "\n",
    "The quantity of interest for this experiment is the Stock. More precisely, we want to maintain the final stock level to 40 drinks. We want to answer the following question: **How to maintain the final stock as close as possible to 40 drinks, with respect to the number of waiters and the restock quantity?**"
   ]
  },
  {
   "cell_type": "markdown",
   "id": "225744d2",
   "metadata": {},
   "source": [
    "## The approach\n",
    "An optimization requires to specify precisely the decision variables and the objective function. The objective function is the quantity we want to minimize (or maximize) and the decision variables are the levers we can change to reach this objective.  \n",
    "In this study the decision variables are NbWaiters, RestockQty and the objective function is the following:\n",
    "$$\n",
    "f(Stock) = (40 - Stock)^2\n",
    "$$\n",
    "The optimization is performed on an explicitly defined task with inputs and outputs. Here the inputs of the task are NbWaiters, RestockQty (the decision variables of the optimization) and the output is $ (40 - Stock)^2 $ (the objective function of the optimization). "
   ]
  },
  {
   "cell_type": "markdown",
   "id": "ef23eab7",
   "metadata": {},
   "source": [
    "## 1. Define the task on which to experiment\n",
    "Comets always works with the same method: it performs analyses on tasks. Before defining any experiment we need to define the task on which it will be performed. A task behaves as a function that takes as input a ParameterSet and outputs another ParameterSet. It has a method evaluate that is in charge of performing the evaluation and returning the outputs.\n",
    "During the task evaluation, the model is run, but when creating the task we also allow for some additional pre-processing (i.e encoding) of the input parameters or post-processing of the outputs of the model."
   ]
  },
  {
   "cell_type": "code",
   "execution_count": 1,
   "id": "9fbab403",
   "metadata": {},
   "outputs": [
    {
     "data": {
      "text/html": [
       "<img src=\"Comets_ModelTask.png\" width=\"1000\" height=\"1600\"/>"
      ],
      "text/plain": [
       "<IPython.core.display.Image object>"
      ]
     },
     "execution_count": 1,
     "metadata": {},
     "output_type": "execute_result"
    }
   ],
   "source": [
    "# code to display the diagram below\n",
    "from IPython.display import Image\n",
    "Image(url= \"Comets_ModelTask.png\", width=1000, height=1600)"
   ]
  },
  {
   "cell_type": "markdown",
   "id": "ff5f865a",
   "metadata": {},
   "source": [
    "To run the analysis we first need to import comets"
   ]
  },
  {
   "cell_type": "code",
   "execution_count": 2,
   "id": "afb3878b",
   "metadata": {},
   "outputs": [],
   "source": [
    "import comets"
   ]
  },
  {
   "cell_type": "markdown",
   "id": "f0bff57f",
   "metadata": {},
   "source": [
    "In order to import the Brewery model we then need to specify the path to the project containing it."
   ]
  },
  {
   "cell_type": "code",
   "execution_count": 3,
   "id": "d7962632",
   "metadata": {},
   "outputs": [],
   "source": [
    "#This example assumes that this notebook is in the folder containing the Brewery project\n",
    "#and that the model has been compiled with the python wrappers activated.\n",
    "\n",
    "from pathlib import Path\n",
    "cwd = Path().resolve()"
   ]
  },
  {
   "cell_type": "markdown",
   "id": "175dd72d",
   "metadata": {},
   "source": [
    "### Import the simulator\n",
    "We need to import the simulator in order to allow comets to interact with it. In this example, we work with the Brewery simulator, which we can instantiate using a CosmoInterface as follows:"
   ]
  },
  {
   "cell_type": "code",
   "execution_count": 4,
   "id": "b067011b",
   "metadata": {},
   "outputs": [],
   "source": [
    "simulator = comets.CosmoInterface(\n",
    "    simulator_path = 'BreweryTutorialSimulation',\n",
    "    project_path = cwd,\n",
    ")"
   ]
  },
  {
   "cell_type": "markdown",
   "id": "5e623138",
   "metadata": {},
   "source": [
    "For more details on how to instantiate the Brewery model, refer to the tutorial \"Running simulatons with Comets\"."
   ]
  },
  {
   "cell_type": "markdown",
   "id": "19350025",
   "metadata": {},
   "source": [
    "### Define the input parameters of the task and the encoding for working with the model\n",
    "The task should take as input a ParameterSet, which is a set of parameters, stored as a dictionary containing names of parameters and their values. In our case the input parameters are the NBWaiters and the RestockQty, which would take the form: \n",
    "{'NBWaiters': NBWaiters, 'RestockQty': RestockQty} \n",
    "\n",
    "\n",
    "\n",
    "In order for the model to recognize input parameters, we need to encode them to a ParameterSet where the keys are the datapaths of the corresponding attributes in the model, which for NBWaiters and RestockQty corresponds to: \n",
    "\n",
    "- 'Model::{Entity}MyBar::@NbWaiters'\n",
    "- 'Model::{Entity}MyBar::@RestockQty'\n",
    "\n",
    "The encoding function takes the ParameterSet:\n",
    "\n",
    "{'NBWaiters': NBWaiters, 'RestockQty': RestockQty} \n",
    "\n",
    "and returns the ParameterSet:\n",
    "\n",
    "{'Model::{Entity}MyBar::@NbWaiters': NbWaiters, 'Model::{Entity}MyBar::@RestockQty': RestockQty}."
   ]
  },
  {
   "cell_type": "code",
   "execution_count": 5,
   "id": "1a7df0b3",
   "metadata": {},
   "outputs": [],
   "source": [
    "def encoder(parameters):\n",
    "    return {'Model::{Entity}MyBar::@NbWaiters': parameters['NbWaiters'],\n",
    "            'Model::{Entity}MyBar::@RestockQty': parameters['RestockQty']}"
   ]
  },
  {
   "cell_type": "markdown",
   "id": "23378601",
   "metadata": {},
   "source": [
    "### Define the quantity of interest for the experiment, which is the output of the task\n",
    "The quantity we are interested in is the the square difference between the aimed stock and the actual stock. This quantity is not computed directly in the model, but can be computed from the model output. It is defined as:\n",
    "$$\n",
    "\\text{quantity of interest} = (40 - Stock)^2\n",
    "$$\n",
    "The Stock is available in the model via its datapath: 'Model::{Entity}MyBar::@Stock'\n",
    "\n",
    "A quantity of interest can be computed from the output of the model by creating a function that takes as input the CosmoInterface and returns a ParameterSet with the values of the quantity of interest."
   ]
  },
  {
   "cell_type": "code",
   "execution_count": 6,
   "id": "264ebaa7",
   "metadata": {},
   "outputs": [],
   "source": [
    "def QuantityOfInterest(simulator):\n",
    "    outputs = simulator.get_outputs(['Model::{Entity}MyBar::@Stock'])\n",
    "    stock = outputs['Model::{Entity}MyBar::@Stock']\n",
    "    return {'ObjectiveFunction' : (stock-40)**2}"
   ]
  },
  {
   "cell_type": "markdown",
   "id": "fff948b4",
   "metadata": {},
   "source": [
    "### Declaring the Task\n",
    "\n",
    "Once the inputs and outputs have been defined, the final step is to declare the task with its CosmoInterface, encode and get_outcomes method. Evaluating the task corresponds to encoding the inputs, running a simulation and then computing the quantity of interest with the get_outcomes function."
   ]
  },
  {
   "cell_type": "code",
   "execution_count": 7,
   "id": "717698ea",
   "metadata": {},
   "outputs": [],
   "source": [
    "optimtask = comets.ModelTask(simulator, get_outcomes = QuantityOfInterest, encode = encoder)"
   ]
  },
  {
   "cell_type": "markdown",
   "id": "84b11c68",
   "metadata": {},
   "source": [
    "## 2. Defining the decision variables space\n",
    "Once the task has been defined, we need to specify the decision variables space. This is done by declaring the decision variables in the format described below. The space is a list of dictionaries with each of the dictionaries containing the following information: \n",
    "\n",
    "- **name** (str): the name of the decision variable\n",
    "- **type** (str): the data type of the decision variable (float or int)\n",
    "- **bounds** (list): the bounds inside which the decision variable belongs\n",
    "- **shape** (optional, integer): the length of the list when the decision variable is a list of variables.\n",
    "\n",
    "The currently available types are: **\"float\"**, **\"int\"**.\n",
    "\n",
    "\n",
    "\n",
    "In the Brewery model, NbWaiters and RestockQty are two integers. The former ranges from 1 to 12 and the latter from 1 to 50."
   ]
  },
  {
   "cell_type": "code",
   "execution_count": 8,
   "id": "d744062d",
   "metadata": {},
   "outputs": [],
   "source": [
    "space = [\n",
    "    {\n",
    "        \"name\": \"NbWaiters\",\n",
    "        \"type\": \"int\",\n",
    "        \"bounds\": [1, 12],\n",
    "    },\n",
    "    {\n",
    "        \"name\": \"RestockQty\",\n",
    "        \"type\": \"int\",\n",
    "        \"bounds\": [1, 50],\n",
    "    },\n",
    "]"
   ]
  },
  {
   "cell_type": "markdown",
   "id": "71d206b6",
   "metadata": {},
   "source": [
    "## 3. Declaring the Experiment\n",
    "An optimization is an experiment that can take the following arguments:\n",
    "\n",
    "- **space**: the decision variables space\n",
    "- **task**: the task on which to perform the optimization\n",
    "- **algorithm**: the optimization algorithm used ('CMA', 'TwoPointsDE', 'NelderMead' ...)\n",
    "- **stop_criteria**: dictionary containing the stop criteria of the experiment. In our case we use ‘max_evaluations’ which corresponds to the number of task evaluation to perform. Other criteria are available, more information on them can be found in Comets' documentation. \n",
    "- **n_jobs**: the number of tasks that are evaluated in parallel. Defaults to 1 (no parallelization)\n",
    "- **maximize**: whether the optimization is seeking for a maximum (in opposition to a minimum). Defaults to False."
   ]
  },
  {
   "cell_type": "code",
   "execution_count": 9,
   "id": "91074adb",
   "metadata": {},
   "outputs": [],
   "source": [
    "opt = comets.Optimization(\n",
    "    space = space,\n",
    "    task = optimtask,\n",
    "    algorithm = 'CMA',\n",
    "    stop_criteria = {'max_evaluations': 150},\n",
    "    n_jobs = 8,\n",
    "    maximize = False,\n",
    ")"
   ]
  },
  {
   "cell_type": "markdown",
   "id": "9a05b7b0",
   "metadata": {},
   "source": [
    "## 4. Running the experiment"
   ]
  },
  {
   "cell_type": "code",
   "execution_count": 10,
   "id": "2b99cc5d",
   "metadata": {},
   "outputs": [],
   "source": [
    "opt.run()"
   ]
  },
  {
   "cell_type": "markdown",
   "id": "8e4dd28c",
   "metadata": {},
   "source": [
    "## 5. Displaying the results of the Experiment\n",
    "The results of the analysis are stored in the attribute 'results', it contains the optimal decision variables and the optimal value of the objective function."
   ]
  },
  {
   "cell_type": "code",
   "execution_count": 11,
   "id": "b3b91ee1",
   "metadata": {},
   "outputs": [
    {
     "data": {
      "text/plain": [
       "{'Optimal variables': {'NbWaiters': 7, 'RestockQty': 35},\n",
       " 'Optimal values': {'ObjectiveFunction': 0}}"
      ]
     },
     "execution_count": 11,
     "metadata": {},
     "output_type": "execute_result"
    }
   ],
   "source": [
    "opt.results"
   ]
  }
 ],
 "metadata": {
  "kernelspec": {
   "display_name": "env",
   "language": "python",
   "name": "env"
  },
  "language_info": {
   "codemirror_mode": {
    "name": "ipython",
    "version": 3
   },
   "file_extension": ".py",
   "mimetype": "text/x-python",
   "name": "python",
   "nbconvert_exporter": "python",
   "pygments_lexer": "ipython3",
   "version": "3.7.3"
  }
 },
 "nbformat": 4,
 "nbformat_minor": 5
}
