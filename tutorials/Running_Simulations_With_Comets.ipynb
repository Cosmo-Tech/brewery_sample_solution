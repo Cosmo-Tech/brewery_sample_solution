{
 "cells": [
  {
   "cell_type": "markdown",
   "id": "d612f57d",
   "metadata": {},
   "source": [
    "# How to run a simulation with Comets\n",
    "\n",
    "Comets offers a specific interface to manipulate Cosmo Tech's simulators: the'CosmoInterface'. We will see in this tutorial how to use it and perform basic operations like running a simulation, setting specific inputs or getting the simulation results. "
   ]
  },
  {
   "cell_type": "markdown",
   "id": "b564bfa5",
   "metadata": {},
   "source": [
    "## The Brewery model\n",
    "\n",
    "We are working with a drink consumption model including stock level management and customer satisfaction dynamics. The parameters we will use to change the model's behavior are: \n",
    "\n",
    "- NBWaiters: the number of waiters in the bar\n",
    "- RestockQty: a fix quantity of drinks added to the current stock of the bar once it reaches a threshold value.\n",
    "\n",
    "The model contains two probes:\n",
    "\n",
    "- Stock: the stock of the bar at each time step\n",
    "- Satisfaction: the satisfaction of each client at each time step\n",
    "\n",
    "The model also has two consumers (one for each probe), storing the result of each probe in a CSV file (CSVFileGenericConsumer). "
   ]
  },
  {
   "cell_type": "markdown",
   "id": "1b31b15d",
   "metadata": {},
   "source": [
    "## Importing the library\n",
    "In order to use the CosmoInterface to manipulate our simulator we first need to import Comets"
   ]
  },
  {
   "cell_type": "code",
   "execution_count": 1,
   "id": "caa2e108",
   "metadata": {},
   "outputs": [],
   "source": [
    "import comets"
   ]
  },
  {
   "cell_type": "markdown",
   "id": "226c975b",
   "metadata": {},
   "source": [
    "## Creating the CosmoInterface\n",
    "We can now create our CosmoInterface. It will be declared with three arguments:\n",
    "\n",
    " - simulator_path(mandatory): path to the simulation file inside the folder Simulation of the project \n",
    " \n",
    " - project_path (optional): path to the project containing the model. This should be an absolute path. If not specified, assumes we are running from  \n",
    "    inside the project folder    \n",
    "    \n",
    " - temporary_consumers(optional): boolean to specify if the CSVFileGenericConsumers are written in a temporary folder accessible by the CosmoInterface. By default is equal to False, so the consumers are written in their original location (in the folder Simulation/Output/) and the CosmoInterface has no access to the consumers."
   ]
  },
  {
   "cell_type": "code",
   "execution_count": 2,
   "id": "ba4dc192",
   "metadata": {},
   "outputs": [],
   "source": [
    "#This example assumes that this notebook is in the folder containing the Brewery project\n",
    "#and that the model has been compiled with the python wrappers activated.\n",
    "\n",
    "from pathlib import Path\n",
    "cwd = Path().resolve()\n",
    "\n",
    "simulator = comets.CosmoInterface(\n",
    "    simulator_path = 'BreweryTutorialSimulation',\n",
    "    project_path = cwd,\n",
    "    temporary_consumers = True\n",
    ")"
   ]
  },
  {
   "cell_type": "markdown",
   "id": "b83608ad",
   "metadata": {},
   "source": [
    "Now that the CosmoInterface is created we can start to manipulate the simulator. "
   ]
  },
  {
   "cell_type": "markdown",
   "id": "206e9d85",
   "metadata": {},
   "source": [
    "## Initializing the simulator\n",
    "To interact with the Cosmo Tech simulator we first need to initialize it, which will load the instance and its associated data:"
   ]
  },
  {
   "cell_type": "code",
   "execution_count": 3,
   "id": "d7f1ed0d",
   "metadata": {},
   "outputs": [],
   "source": [
    "simulator.initialize()"
   ]
  },
  {
   "cell_type": "markdown",
   "id": "98486da3",
   "metadata": {},
   "source": [
    "## Setting parameters\n",
    "Now that the simulator is loaded we have the possibility to change the value of an attribute in the model. For that we use the set_inputs() method, which takes as argument a ParameterSet: a set of parameters, stored as a dictionary containing names of parameters and their values. For a Cosmo Tech model, the name of a parameter corresponds to it localization in the model, given as a datapath. For instance NBWaiters and RestockQty datapath are:\n",
    " - Model::{Entity}MyBar::@NbWaiters\n",
    " - Model::{Entity}MyBar::@RestockQty\n",
    "\n",
    "For example, the correct ParameterSet to set the value of NBWaiters to 10 and RestockQty to 12 is: \n",
    "\n",
    "$$\n",
    "\\text{parameter } = \\text{{'Model::{Entity}MyBar::@NbWaiters': 10, 'Model::{Entity}MyBar::@RestockQty': 12}}\n",
    "$$\n"
   ]
  },
  {
   "cell_type": "code",
   "execution_count": 4,
   "id": "bc011f3a",
   "metadata": {},
   "outputs": [],
   "source": [
    "parameter = {'Model::{Entity}MyBar::@NbWaiters': 10,\n",
    "             'Model::{Entity}MyBar::@RestockQty': 12}\n",
    "simulator.set_inputs(parameter)"
   ]
  },
  {
   "cell_type": "markdown",
   "id": "c1ee7639",
   "metadata": {},
   "source": [
    "## Running the simulation\n",
    "To run the simulation we simply use the run() method."
   ]
  },
  {
   "cell_type": "code",
   "execution_count": 5,
   "id": "8e0560f5",
   "metadata": {},
   "outputs": [],
   "source": [
    "simulator.run()"
   ]
  },
  {
   "cell_type": "markdown",
   "id": "bf399557",
   "metadata": {},
   "source": [
    "## Getting the simulation's results\n",
    "Now that the simulation is run we can use the get_outcomes() method to get the final value of specific attributes in the model. This method takes a list of the output parameters' name as an argument. Remember, in a Cosmo Tech model, the name of a parameter corresponds to its datapath. For instance, the Stock datapath is: Model::{Entity}MyBar::@Stock\n",
    "\n",
    "Note that the output format of the get_outputs() method is a ParameterSet."
   ]
  },
  {
   "cell_type": "code",
   "execution_count": 6,
   "id": "40b74ea1",
   "metadata": {},
   "outputs": [
    {
     "data": {
      "text/plain": [
       "{'Model::{Entity}MyBar::@Stock': 17}"
      ]
     },
     "execution_count": 6,
     "metadata": {},
     "output_type": "execute_result"
    }
   ],
   "source": [
    "list_of_output_parameters = ['Model::{Entity}MyBar::@Stock']\n",
    "simulator.get_outputs(list_of_output_parameters)"
   ]
  },
  {
   "cell_type": "markdown",
   "id": "e3651045",
   "metadata": {},
   "source": [
    "## Getting the simulation's consumers\n",
    "As we set the argument 'temporary_consumers' to True when we created the CosmoInterface, we can get the simulation's consumers. This simulation (i.e 'BreweryTutorialSimulation') contains two consumers: one CSV file for the probe on the stock and one CSV file for the probe on the clients satisfaction. To get the consumers we use the get_consumers() method. It returns a list of pandas dataframes corresponding to each file generated by a CSVFileGenericConsumer during the simulation. Note that this method requires a valid installation of pandas."
   ]
  },
  {
   "cell_type": "code",
   "execution_count": 7,
   "id": "1188271a",
   "metadata": {},
   "outputs": [
    {
     "name": "stdout",
     "output_type": "stream",
     "text": [
      "    iteration Entity name Attribute name  Attribute value\n",
      "0           0       MyBar          Stock               10\n",
      "1           1       MyBar          Stock                8\n",
      "2           2       MyBar          Stock                6\n",
      "3           3       MyBar          Stock               17\n",
      "4           4       MyBar          Stock               14\n",
      "..        ...         ...            ...              ...\n",
      "58         58       MyBar          Stock               13\n",
      "59         59       MyBar          Stock               12\n",
      "60         60       MyBar          Stock               10\n",
      "61         61       MyBar          Stock                9\n",
      "62         62       MyBar          Stock               17\n",
      "\n",
      "[63 rows x 4 columns]\n",
      "     iteration Entity name Attribute name  Attribute value\n",
      "0            0   Customer1   Satisfaction                0\n",
      "1            1   Customer1   Satisfaction                1\n",
      "2            2   Customer1   Satisfaction                2\n",
      "3            3   Customer1   Satisfaction                1\n",
      "4            4   Customer1   Satisfaction                2\n",
      "..         ...         ...            ...              ...\n",
      "243         57   Customer4   Satisfaction                2\n",
      "244         58   Customer4   Satisfaction                2\n",
      "245         59   Customer4   Satisfaction                1\n",
      "246         60   Customer4   Satisfaction                2\n",
      "247         61   Customer4   Satisfaction                2\n",
      "\n",
      "[248 rows x 4 columns]\n"
     ]
    }
   ],
   "source": [
    "for dataframes in simulator.get_consumers():\n",
    "    print (dataframes)"
   ]
  },
  {
   "cell_type": "markdown",
   "id": "8893378e",
   "metadata": {},
   "source": [
    "## Getting the simulation's results with the consumers\n",
    "In this simulation we consider that the stock at the end of the simulation is an output. To get it we used the get_outputs() method. However, this information is also available in the consumer that stored the StockProbe result in a CSV file. More precisely, as we want the stock value at the end of the simulation, this correspond to the last probe result: the last row of the CSV file. We can get it with the following command: "
   ]
  },
  {
   "cell_type": "code",
   "execution_count": 8,
   "id": "5ab23db5",
   "metadata": {},
   "outputs": [
    {
     "data": {
      "text/plain": [
       "iteration             62\n",
       "Entity name        MyBar\n",
       "Attribute name     Stock\n",
       "Attribute value       17\n",
       "Name: 62, dtype: object"
      ]
     },
     "execution_count": 8,
     "metadata": {},
     "output_type": "execute_result"
    }
   ],
   "source": [
    "simulator.get_consumers()[0].iloc[-1]"
   ]
  },
  {
   "cell_type": "markdown",
   "id": "98ae488c",
   "metadata": {},
   "source": [
    "## Destroying the simulator\n",
    "Once we have finished to use the CosmoInterface to manipulate the simulator we can terminate it, which will also clean up the temporary directory where consumers are written (note that you can get the path of this directory using simulator.get_consumers_directory())."
   ]
  },
  {
   "cell_type": "code",
   "execution_count": null,
   "id": "2b1669d6",
   "metadata": {},
   "outputs": [],
   "source": [
    "simulator.terminate()"
   ]
  },
  {
   "cell_type": "markdown",
   "id": "f2afd7d5",
   "metadata": {},
   "source": [
    "Now that you know how to use Comets to manipulate simulators, you will see in the next tutorial how use the CosmoInterface to create a Task."
   ]
  }
 ],
 "metadata": {
  "kernelspec": {
   "display_name": "env",
   "language": "python",
   "name": "env"
  },
  "language_info": {
   "codemirror_mode": {
    "name": "ipython",
    "version": 3
   },
   "file_extension": ".py",
   "mimetype": "text/x-python",
   "name": "python",
   "nbconvert_exporter": "python",
   "pygments_lexer": "ipython3",
   "version": "3.7.3"
  }
 },
 "nbformat": 4,
 "nbformat_minor": 5
}
