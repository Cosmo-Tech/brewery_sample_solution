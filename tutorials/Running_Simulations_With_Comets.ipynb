{
 "cells": [
  {
   "cell_type": "markdown",
   "id": "7c085fe0",
   "metadata": {},
   "source": [
    "# How to run a simulation with Comets\n",
    "\n",
    "Comets offers a specific interface to manipulate Cosmo Tech's simulators: the'CosmoInterface'. We will see in this tutorial how to use it and perform basic operations like running a simulation, setting specific inputs or getting the simulation results. "
   ]
  },
  {
   "cell_type": "markdown",
   "id": "2f2035de",
   "metadata": {},
   "source": [
    "## The Brewery model\n",
    "\n",
    "We are working with a drink consumption model including stock level management and customer satisfaction dynamics. The parameters we will use to change the model's behavior are: \n",
    "\n",
    "- NBWaiters: the number of waiters in the bar\n",
    "- RestockQty: a fix quantity of drinks added to the current stock of the bar once it reaches a threshold value.\n",
    "\n",
    "The model contains two probes:\n",
    "\n",
    "- Stock: the stock of the bar at each time step\n",
    "- Satisfaction: the satisfaction of each client at each time step\n",
    "\n",
    "The model also has two consumers (one for each probe), storing the result of each probe in a CSV file (CSVFileGenericConsumer). "
   ]
  },
  {
   "cell_type": "markdown",
   "id": "a4b6959d",
   "metadata": {},
   "source": [
    "## Importing the library\n",
    "In order to use the CosmoInterface to manipulate our simulator we first need to import Comets"
   ]
  },
  {
   "cell_type": "code",
   "execution_count": 10,
   "id": "239e0b6a",
   "metadata": {},
   "outputs": [],
   "source": [
    "import comets"
   ]
  },
  {
   "cell_type": "markdown",
   "id": "7447a578",
   "metadata": {},
   "source": [
    "## Creating the CosmoInterface\n",
    "We can now create our CosmoInterface. It will be declared with three arguments:\n",
    "\n",
    " - simulator_path(mandatory): path to the simulation file inside the folder Simulation of the project \n",
    " \n",
    " - project_path (optional): path to the project containing the model. This should be an absolute path. If not specified, assumes we are running from  \n",
    "    inside the project folder    \n",
    "    \n",
    " - temporary_consumers(optional): boolean to specify if the CSVFileGenericConsumers are written in a temporary folder accessible by the CosmoInterface. By default is equal to False, so the consumers are written in their original location (in the folder Simulation/Output/) and the CosmoInterface has no access to the consumers."
   ]
  },
  {
   "cell_type": "code",
   "execution_count": 2,
   "id": "990aa16f",
   "metadata": {},
   "outputs": [],
   "source": [
    "#This example assumes that this notebook is in the folder containing the Brewery project\n",
    "#and that the model has been compiled with the python wrappers activated.\n",
    "\n",
    "from pathlib import Path\n",
    "cwd = Path().resolve()\n",
    "\n",
    "simulator = comets.CosmoInterface(\n",
    "    simulator_path = 'BreweryTutorialSimulation',\n",
    "    project_path = cwd,\n",
    "    temporary_consumers = True\n",
    ")"
   ]
  },
  {
   "cell_type": "markdown",
   "id": "e1750c84",
   "metadata": {},
   "source": [
    "Now that the CosmoInterface is created we can start to manipulate the simulator. "
   ]
  },
  {
   "cell_type": "markdown",
   "id": "7e8e158a",
   "metadata": {},
   "source": [
    "## Initializing the simulator\n",
    "To interact with the Cosmo Tech simulator we first need to initialize it, which will load the instance and its associated data:"
   ]
  },
  {
   "cell_type": "code",
   "execution_count": 3,
   "id": "026d6ba5",
   "metadata": {},
   "outputs": [],
   "source": [
    "simulator.initialize()"
   ]
  },
  {
   "cell_type": "markdown",
   "id": "f921abf1",
   "metadata": {},
   "source": [
    "## Setting parameters\n",
    "Now that the simulator is loaded we have the possibility to change the value of an attribute in the model. For that we use the set_inputs() method, which takes as argument a ParameterSet: a set of parameters, stored as a dictionary containing names of parameters and their values. For a Cosmo Tech model, the name of a parameter corresponds to it localization in the model, given as a datapath. For instance NBWaiters and RestockQty datapath are:\n",
    " - Model::{Entity}MyBar::@NbWaiters\n",
    " - Model::{Entity}MyBar::@RestockQty\n",
    "\n",
    "For example, the correct ParameterSet to set the value of NBWaiters to 10 and RestockQty to 12 is: \n",
    "\n",
    "$$\n",
    "\\text{parameter } = \\text{{'Model::{Entity}MyBar::@NbWaiters': 10, 'Model::{Entity}MyBar::@RestockQty': 12}}\n",
    "$$\n"
   ]
  },
  {
   "cell_type": "code",
   "execution_count": 4,
   "id": "15603650",
   "metadata": {},
   "outputs": [],
   "source": [
    "parameter = {'Model::{Entity}MyBar::@NbWaiters': 10,\n",
    "             'Model::{Entity}MyBar::@RestockQty': 12}\n",
    "simulator.set_inputs(parameter)"
   ]
  },
  {
   "cell_type": "markdown",
   "id": "8f805254",
   "metadata": {},
   "source": [
    "## Running the simulation\n",
    "To run the simulation we simply use the run() method."
   ]
  },
  {
   "cell_type": "code",
   "execution_count": 5,
   "id": "37fed38a",
   "metadata": {},
   "outputs": [],
   "source": [
    "simulator.run()"
   ]
  },
  {
   "cell_type": "markdown",
   "id": "234d523b",
   "metadata": {},
   "source": [
    "## Getting the simulation's results\n",
    "Now that the simulation is run we can use the get_outcomes() method to get the final value of specific attributes in the model. This method takes a list of the output parameters' name as an argument. Remember, in a Cosmo Tech model, the name of a parameter corresponds to its datapath. For instance, the Stock datapath is: Model::{Entity}MyBar::@Stock\n",
    "\n",
    "Note that the output format of the get_outputs() method is a ParameterSet."
   ]
  },
  {
   "cell_type": "code",
   "execution_count": 6,
   "id": "9a3a7f05",
   "metadata": {},
   "outputs": [
    {
     "data": {
      "text/plain": [
       "{'Model::{Entity}MyBar::@Stock': 16}"
      ]
     },
     "execution_count": 6,
     "metadata": {},
     "output_type": "execute_result"
    }
   ],
   "source": [
    "list_of_output_parameters = ['Model::{Entity}MyBar::@Stock']\n",
    "simulator.get_outputs(list_of_output_parameters)"
   ]
  },
  {
   "cell_type": "markdown",
   "id": "cd2b3522",
   "metadata": {},
   "source": [
    "## Getting the simulation's consumers\n",
    "As we set the argument 'temporary_consumers' to True when we created the CosmoInterface, we can get the simulation's consumers. This simulation (i.e 'BreweryTutorialSimulation') contains two consumers: one CSV file for the probe on the stock and one CSV file for the probe on the clients satisfaction. To get the consumers we use the get_consumers() method. It returns a list of pandas dataframes corresponding to each file generated by a CSVFileGenericConsumer during the simulation. Note that this method requires a valid installation of pandas."
   ]
  },
  {
   "cell_type": "code",
   "execution_count": 7,
   "id": "9bf59f24",
   "metadata": {},
   "outputs": [
    {
     "name": "stdout",
     "output_type": "stream",
     "text": [
      "    iteration Entity name Attribute name  Attribute value\n",
      "0           0       MyBar          Stock               10\n",
      "1           1       MyBar          Stock                8\n",
      "2           2       MyBar          Stock                7\n",
      "3           3       MyBar          Stock               17\n",
      "4           4       MyBar          Stock               17\n",
      "5           5       MyBar          Stock               14\n",
      "6           6       MyBar          Stock               13\n",
      "7           7       MyBar          Stock               13\n",
      "8           8       MyBar          Stock               11\n",
      "9           9       MyBar          Stock                9\n",
      "10         10       MyBar          Stock                7\n",
      "11         11       MyBar          Stock               17\n",
      "12         12       MyBar          Stock               14\n",
      "13         13       MyBar          Stock               12\n",
      "14         14       MyBar          Stock               11\n",
      "15         15       MyBar          Stock                9\n",
      "16         16       MyBar          Stock                6\n",
      "17         17       MyBar          Stock               14\n",
      "18         18       MyBar          Stock               11\n",
      "19         19       MyBar          Stock                8\n",
      "20         20       MyBar          Stock                8\n",
      "21         21       MyBar          Stock               17\n",
      "22         22       MyBar          Stock               15\n",
      "23         23       MyBar          Stock               13\n",
      "24         24       MyBar          Stock               12\n",
      "25         25       MyBar          Stock               10\n",
      "26         26       MyBar          Stock                7\n",
      "27         27       MyBar          Stock               17\n",
      "28         28       MyBar          Stock               15\n",
      "29         29       MyBar          Stock               14\n",
      "30         30       MyBar          Stock               13\n",
      "31         31       MyBar          Stock               10\n",
      "32         32       MyBar          Stock                8\n",
      "33         33       MyBar          Stock                6\n",
      "34         34       MyBar          Stock               15\n",
      "35         35       MyBar          Stock               13\n",
      "36         36       MyBar          Stock               11\n",
      "37         37       MyBar          Stock               10\n",
      "38         38       MyBar          Stock                9\n",
      "39         39       MyBar          Stock               17\n",
      "40         40       MyBar          Stock               16\n",
      "41         41       MyBar          Stock               13\n",
      "42         42       MyBar          Stock               11\n",
      "43         43       MyBar          Stock                9\n",
      "44         44       MyBar          Stock                8\n",
      "45         45       MyBar          Stock                6\n",
      "46         46       MyBar          Stock                6\n",
      "47         47       MyBar          Stock               16\n",
      "48         48       MyBar          Stock               15\n",
      "49         49       MyBar          Stock               12\n",
      "50         50       MyBar          Stock               11\n",
      "51         51       MyBar          Stock                9\n",
      "52         52       MyBar          Stock                7\n",
      "53         53       MyBar          Stock                7\n",
      "54         54       MyBar          Stock               17\n",
      "55         55       MyBar          Stock               16\n",
      "56         56       MyBar          Stock               14\n",
      "57         57       MyBar          Stock               11\n",
      "58         58       MyBar          Stock                7\n",
      "59         59       MyBar          Stock               16\n",
      "     iteration Entity name Attribute name  Attribute value\n",
      "0            0   Customer1   Satisfaction                0\n",
      "1            1   Customer1   Satisfaction                1\n",
      "2            2   Customer1   Satisfaction                1\n",
      "3            3   Customer1   Satisfaction                1\n",
      "4            4   Customer1   Satisfaction                1\n",
      "..         ...         ...            ...              ...\n",
      "231         54   Customer4   Satisfaction                2\n",
      "232         55   Customer4   Satisfaction                2\n",
      "233         56   Customer4   Satisfaction                2\n",
      "234         57   Customer4   Satisfaction                2\n",
      "235         58   Customer4   Satisfaction                2\n",
      "\n",
      "[236 rows x 4 columns]\n"
     ]
    }
   ],
   "source": [
    "for dataframes in simulator.get_consumers():\n",
    "    print (dataframes)"
   ]
  },
  {
   "cell_type": "markdown",
   "id": "ae91b738",
   "metadata": {},
   "source": [
    "## Getting the simulation's results with the consumers\n",
    "In this simulation we consider that the stock at the end of the simulation is an output. To get it we used the get_outputs() method. However, this information is also available in the consumer that stored the StockProbe result in a CSV file. More precisely, as we want the stock value at the end of the simulation, this correspond to the last probe result: the last row of the CSV file. We can get it with the following command: "
   ]
  },
  {
   "cell_type": "code",
   "execution_count": 8,
   "id": "0becc024",
   "metadata": {},
   "outputs": [
    {
     "data": {
      "text/plain": [
       "iteration             59\n",
       "Entity name        MyBar\n",
       "Attribute name     Stock\n",
       "Attribute value       16\n",
       "Name: 59, dtype: object"
      ]
     },
     "execution_count": 8,
     "metadata": {},
     "output_type": "execute_result"
    }
   ],
   "source": [
    "simulator.get_consumers()[0].iloc[-1]"
   ]
  },
  {
   "cell_type": "markdown",
   "id": "f8d03563",
   "metadata": {},
   "source": [
    "## Destroying the simulator\n",
    "Once we have finished to use the CosmoInterface to manipulate the simulator we can terminate it, which will also clean up the temporary directory where consumers are written (note that you can get the path of this directory using simulator.get_consumers_directory())."
   ]
  },
  {
   "cell_type": "code",
   "execution_count": 9,
   "id": "a1a7652d",
   "metadata": {},
   "outputs": [],
   "source": [
    "simulator.terminate()"
   ]
  },
  {
   "cell_type": "markdown",
   "id": "e6637f6c",
   "metadata": {},
   "source": [
    "Now that you know how to use Comets to manipulate simulators, you will see in the next tutorial how use the CosmoInterface to create a Task."
   ]
  }
 ],
 "metadata": {
  "kernelspec": {
   "display_name": "env",
   "language": "python",
   "name": "env"
  },
  "language_info": {
   "codemirror_mode": {
    "name": "ipython",
    "version": 3
   },
   "file_extension": ".py",
   "mimetype": "text/x-python",
   "name": "python",
   "nbconvert_exporter": "python",
   "pygments_lexer": "ipython3",
   "version": "3.7.3"
  }
 },
 "nbformat": 4,
 "nbformat_minor": 5
}
