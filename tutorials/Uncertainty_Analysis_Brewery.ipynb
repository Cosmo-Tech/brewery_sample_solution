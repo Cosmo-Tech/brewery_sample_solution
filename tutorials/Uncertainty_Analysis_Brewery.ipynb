{
 "cells": [
  {
   "cell_type": "markdown",
   "id": "f575f3c6",
   "metadata": {},
   "source": [
    "# Uncertainty Analysis\n",
    "This tutorial shows how to use Comets to perform an uncertainty analysis with the Brewery model. This type of experimentation aims at studying and quantifying how the uncertainty on inputs of a model propagates through the model and leads to variability in the outputs of this model."
   ]
  },
  {
   "cell_type": "markdown",
   "id": "5fa263d1",
   "metadata": {},
   "source": [
    "## The Brewery model\n",
    "\n",
    "Like in the previous tutorial we are working with the Brewery model. It is a drink consumption model including stock level management and customer satisfaction dynamics. The model input parameters that we will deal with are: \n",
    "\n",
    "- NBWaiters: the number of waiters in the bar\n",
    "- RestockQty: a fix quantity of drinks added to the current stock of the bar once it reaches a threshold value.\n",
    "\n",
    "The Brewery model has no default outputs as the value of all attributes at the end of a simulation can be considered as an output. In our case we will use the following attributes:\n",
    "\n",
    " - AverageSatisfaction: the average customer satisfaction\n",
    " - Stock: the stock of the bar.\n",
    "\n",
    "\n",
    "For this tutorial we suppose that the model's inputs (i.e NBWaiters and RestockQty) are uncertain. The model remains deterministic. We want to answer the following question: **How are the AverageSatisfaction and the stock affected by the uncertainty on the model's inputs?** "
   ]
  },
  {
   "cell_type": "markdown",
   "id": "26af7b08",
   "metadata": {},
   "source": [
    "## The approach\n",
    "An uncertainty analysis requires to specify precisely what is the task we are experimenting with: what are its inputs and ouputs? In our case the inputs are NBWaiters, RestockQty and the outputs are the AverageSatisfaction and the Stock. Along with that we need to precisely specify the uncertainty on the input variables. In this study, we will model the uncertainty on the inputs with two  uniform discrete distributions. The uncertainty analysis will then return the default statistics for the variability of the AverageSatisfaction and the Stock: mean, standard deviation, standard error of the mean, 95% confidence interval of the estimated mean. These results will be used to answer the question raised in the problem statement."
   ]
  },
  {
   "cell_type": "markdown",
   "id": "a58368f0",
   "metadata": {},
   "source": [
    "## 1. Define the task on which to experiment\n",
    "Comets always works with the same method: it performs analyses on tasks. Before defining any experiment we need to define the task on which it will be performed. A task behaves as a function that takes as input a ParameterSet and outputs another ParameterSet. It has a method evaluate that is in charge of performing the evaluation and returning the outputs.\n",
    "During the task evaluation, the model is run, but when creating the task we also allow for some additional pre-processing (i.e encoding) of the input parameters or post-processing of the outputs of the model.\n",
    "\n"
   ]
  },
  {
   "cell_type": "code",
   "execution_count": 1,
   "id": "5a6cccaf",
   "metadata": {},
   "outputs": [
    {
     "data": {
      "text/html": [
       "<img src=\"Comets_ModelTask.png\" width=\"1000\" height=\"1600\"/>"
      ],
      "text/plain": [
       "<IPython.core.display.Image object>"
      ]
     },
     "execution_count": 1,
     "metadata": {},
     "output_type": "execute_result"
    }
   ],
   "source": [
    "# code to display the diagram below\n",
    "from IPython.display import Image\n",
    "Image(url= \"Comets_ModelTask.png\", width=1000, height=1600)"
   ]
  },
  {
   "cell_type": "markdown",
   "id": "83c29202",
   "metadata": {},
   "source": [
    "To run the analysis we first need to import comets"
   ]
  },
  {
   "cell_type": "code",
   "execution_count": 2,
   "id": "b4a5775e",
   "metadata": {},
   "outputs": [],
   "source": [
    "import comets "
   ]
  },
  {
   "cell_type": "markdown",
   "id": "fe2a418a",
   "metadata": {},
   "source": [
    "In order to import the Brewery model we then need to specify the path to the project containing it."
   ]
  },
  {
   "cell_type": "code",
   "execution_count": 3,
   "id": "e2daeef1",
   "metadata": {},
   "outputs": [],
   "source": [
    "#This example assumes that this notebook is in the folder containing the Brewery project\n",
    "#and that the model has been compiled with the python wrappers activated.\n",
    "\n",
    "from pathlib import Path\n",
    "cwd = Path().resolve()"
   ]
  },
  {
   "cell_type": "markdown",
   "id": "72543369",
   "metadata": {},
   "source": [
    "### Import the simulator\n",
    "We need to import the simulator in order to allow comets to interact with it. In this example, we work with the Brewery simulator, which we can instantiate using a CosmoInterface as follows:"
   ]
  },
  {
   "cell_type": "code",
   "execution_count": 4,
   "id": "58cdab32",
   "metadata": {},
   "outputs": [],
   "source": [
    "simulator = comets.CosmoInterface(\n",
    "    simulator_path = 'BreweryTutorialSimulation',\n",
    "    project_path = cwd,\n",
    ")"
   ]
  },
  {
   "cell_type": "markdown",
   "id": "bd9ca256",
   "metadata": {},
   "source": [
    "For more details on how to instantiate the Brewery model, refer to the tutorial \"Running simulations with Comets\"."
   ]
  },
  {
   "cell_type": "markdown",
   "id": "d919e3c1",
   "metadata": {},
   "source": [
    "### Define the input parameters of the task and the encoding for working with the model\n",
    "The task should take as input a ParameterSet, which is a set of parameters, stored as a dictionary containing names of parameters and their values. In our case the input parameters are the NBWaiters and the RestockQty, which would take the form: \n",
    "{'NBWaiters': NBWaiters, 'RestockQty': RestockQty} \n",
    "\n",
    "\n",
    "\n",
    "In order for the model to recognize input parameters, we need to encode them to a ParameterSet where the keys are the datapaths of the corresponding attributes in the model, which for NBWaiters and RestockQty corresponds to: \n",
    "\n",
    "- 'Model::{Entity}MyBar::@NbWaiters'\n",
    "- 'Model::{Entity}MyBar::@RestockQty'\n",
    "\n",
    "The encoding function takes the ParameterSet:\n",
    "\n",
    "{'NBWaiters': NBWaiters, 'RestockQty': RestockQty} \n",
    "\n",
    "and returns the ParameterSet:\n",
    "\n",
    "{'Model::{Entity}MyBar::@NbWaiters': NbWaiters, 'Model::{Entity}MyBar::@RestockQty': RestockQty}."
   ]
  },
  {
   "cell_type": "code",
   "execution_count": 5,
   "id": "41a78816",
   "metadata": {},
   "outputs": [],
   "source": [
    "def encoder(parameters):\n",
    "    return {'Model::{Entity}MyBar::@NbWaiters': parameters['NbWaiters'],\n",
    "            'Model::{Entity}MyBar::@RestockQty': parameters['RestockQty']}\n",
    "    "
   ]
  },
  {
   "cell_type": "markdown",
   "id": "9439b5fc",
   "metadata": {},
   "source": [
    "### Define the quantities of interest for the experiment, which are the outputs of the task\n",
    "The quantities we are interested in are the AverageSatisfaction and the Stock. The task should return a ParameterSet with the values of these quantities. The AverageSatisfaction and the Stock are available in the model via their respective datapath :\n",
    "\n",
    "\n",
    "- ‘Model::{Entity}MyBar::@AverageSatisfaction’\n",
    "- ‘Model::{Entity}MyBar::@Stock’.\n",
    "\n",
    "The quantities of interest can be computed from the outputs of the model by creating a function that takes as input the CosmoInterface and returns a ParameterSet with the values of the quantities of interest."
   ]
  },
  {
   "cell_type": "code",
   "execution_count": 6,
   "id": "2a3c9bf6",
   "metadata": {},
   "outputs": [],
   "source": [
    "def QuantityOfInterest(simulator):\n",
    "    outputs = simulator.get_outputs(['Model::{Entity}MyBar::@AverageSatisfaction', 'Model::{Entity}MyBar::@Stock'])\n",
    "    AverageSatisfaction = outputs['Model::{Entity}MyBar::@AverageSatisfaction']\n",
    "    stock = outputs['Model::{Entity}MyBar::@Stock']\n",
    "    return {'AverageSatisfaction' : AverageSatisfaction, 'Stock' : stock}"
   ]
  },
  {
   "cell_type": "markdown",
   "id": "3e7da429",
   "metadata": {},
   "source": [
    "### Declaring the Task\n",
    "\n",
    "Once the inputs and outputs have been defined, the final step is to declare the task with its CosmoInterface, encode and get_outcomes method. Evaluating the task corresponds to encoding the inputs, running a simulation and then computing the quantity of interest with the get_outcomes function."
   ]
  },
  {
   "cell_type": "code",
   "execution_count": 7,
   "id": "f1b4710b",
   "metadata": {},
   "outputs": [],
   "source": [
    "uncertaintytask = comets.ModelTask(simulator, get_outcomes = QuantityOfInterest, encode = encoder)"
   ]
  },
  {
   "cell_type": "markdown",
   "id": "c77a4dae",
   "metadata": {},
   "source": [
    "## 2. Model the uncertainty on the inputs\n",
    "\n",
    "Once the task has been defined, we need to choose how to represent the uncertainty on its inputs. This is done by declaring the input parameters distribution in the format described below. The distribution is a list of dictionaries, one for each independent parameter. Each dictionary contains the following information:\n",
    "\n",
    "- **name** (str): the name of the parameter, should correspond to a name of input parameter of the task\n",
    "- **distribution** (str): the name of the probability distribution for this parameter\n",
    "- **parameters** (dict): the parameters of the distribution, in the form of a dictionary with named parameters and their values\n",
    "- **shape** (optional, int): the size of the list if the parameter corresponds to a list of independent and identically distributed(i.i.d.) random variables.\n",
    "\n",
    "The currently available distributions are:\n",
    "- **normal**: its parameters are {‘mu’: mean of the distribution, ‘sigma’: standard deviation}\n",
    "- **exponential**: its parameters are {‘scale’: scale parameter, ‘shift’: location of the lower bound}\n",
    "- **uniform**: its parameters are {‘lower’: lower threshold of distribution, ‘upper’: upper threshold of distribution}\n",
    "- **discreteuniform**: its parameters are {‘lower’: lower threshold of distribution. Value will be rounded up to closest integer, ‘upper’: upper threshold of distribution. Value will be rounded down to closest integer.\n",
    "}\n",
    "\n",
    "In the Brewery model, the NbWaiters and the RestockQty are represented by integers. We will model them with two uniform discrete distributions. The NbWaiters' distribution will range from 1 to 4 (included) and the RestockQty's distribution will range from 5 to 15 (included)."
   ]
  },
  {
   "cell_type": "code",
   "execution_count": 8,
   "id": "d8cb4833",
   "metadata": {},
   "outputs": [],
   "source": [
    "parameters = [\n",
    "    {\n",
    "        \"name\": 'NbWaiters',\n",
    "        \"distribution\": \"discreteuniform\",\n",
    "        \"parameters\": {'lower': 1, 'upper': 4},\n",
    "    },\n",
    "    {\n",
    "        \"name\": 'RestockQty',\n",
    "        \"distribution\": \"discreteuniform\",\n",
    "        \"parameters\": {'lower': 5, 'upper': 15},\n",
    "    }\n",
    "]"
   ]
  },
  {
   "cell_type": "markdown",
   "id": "dcbd9ebe",
   "metadata": {},
   "source": [
    "## 3. Declaring the Experiment\n",
    "An uncertainty analysis is an experiment that can take the following arguments: \n",
    "- **task**: the task on which to perform the analysis\n",
    "- **distribution**: the distribution of the input parameters\n",
    "- **n_jobs**: the number of samples that are evaluated in parallel. Defaults to 1 (no parallelization)\n",
    "- **stop_criteria**: dictionary containing the stop criteria of the experiment. In our case we use ‘max_evaluations’ which corresponds to the number of task evaluation to perform. Other criteria are available, more information on them can be found in Comets' documentation. \n"
   ]
  },
  {
   "cell_type": "code",
   "execution_count": 9,
   "id": "1f23acae",
   "metadata": {},
   "outputs": [],
   "source": [
    "ua = comets.UncertaintyAnalysis(\n",
    "        task = uncertaintytask,\n",
    "        distribution = parameters,\n",
    "        n_jobs = 6,\n",
    "        stop_criteria = {'max_evaluations' : 1000})"
   ]
  },
  {
   "cell_type": "markdown",
   "id": "66d24e22",
   "metadata": {},
   "source": [
    "## 4. Running the experiment"
   ]
  },
  {
   "cell_type": "code",
   "execution_count": 10,
   "id": "e9e86131",
   "metadata": {},
   "outputs": [],
   "source": [
    "ua.run()"
   ]
  },
  {
   "cell_type": "markdown",
   "id": "de54bee1",
   "metadata": {},
   "source": [
    "## 5. Displaying the results of the Experiment\n",
    "The results of the analysis are stored in the attribute 'results', it contains default statistics on the quantity of interest (the service level)."
   ]
  },
  {
   "cell_type": "code",
   "execution_count": 11,
   "id": "2fd837f7",
   "metadata": {},
   "outputs": [
    {
     "data": {
      "text/plain": [
       "{'AverageSatisfaction': {'mean': 0.8872255489021956,\n",
       "  'std': 0.44705343470215064,\n",
       "  'sem': 0.014130007656141854,\n",
       "  '95% confidence interval': (0.8594977162326486, 0.9149533815717427)},\n",
       " 'Stock': {'mean': 14.3812375249501,\n",
       "  'std': 3.2235980049122923,\n",
       "  'sem': 0.10188818819853523,\n",
       "  '95% confidence interval': (14.181298593413548, 14.581176456486652)}}"
      ]
     },
     "execution_count": 11,
     "metadata": {},
     "output_type": "execute_result"
    }
   ],
   "source": [
    "ua.results"
   ]
  },
  {
   "cell_type": "raw",
   "id": "9b1946bd",
   "metadata": {},
   "source": [
    "It is also possible to access all the results of evaluations of the task in order to compute other statistics. Below we display the first five evaluation results."
   ]
  },
  {
   "cell_type": "code",
   "execution_count": 12,
   "id": "c49afe07",
   "metadata": {},
   "outputs": [
    {
     "data": {
      "text/plain": [
       "[{'AverageSatisfaction': 1, 'Stock': 19},\n",
       " {'AverageSatisfaction': 1, 'Stock': 18},\n",
       " {'AverageSatisfaction': 1, 'Stock': 13},\n",
       " {'AverageSatisfaction': 0, 'Stock': 11},\n",
       " {'AverageSatisfaction': 0, 'Stock': 19}]"
      ]
     },
     "execution_count": 12,
     "metadata": {},
     "output_type": "execute_result"
    }
   ],
   "source": [
    "ua.list_of_results[:5]"
   ]
  }
 ],
 "metadata": {
  "kernelspec": {
   "display_name": "env",
   "language": "python",
   "name": "env"
  },
  "language_info": {
   "codemirror_mode": {
    "name": "ipython",
    "version": 3
   },
   "file_extension": ".py",
   "mimetype": "text/x-python",
   "name": "python",
   "nbconvert_exporter": "python",
   "pygments_lexer": "ipython3",
   "version": "3.7.3"
  }
 },
 "nbformat": 4,
 "nbformat_minor": 5
}
