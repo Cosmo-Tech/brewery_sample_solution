{
 "cells": [
  {
   "cell_type": "markdown",
   "id": "591880e0",
   "metadata": {},
   "source": [
    "# Uncertainty Analysis\n",
    "This tutorial shows how to use Comets to perform an uncertainty analysis with the Brewery model. This type of experimentation aims at studying and quantifying how the uncertainty on inputs of a model propagates through the model and leads to variability in the outputs of this model."
   ]
  },
  {
   "cell_type": "markdown",
   "id": "382584a6",
   "metadata": {},
   "source": [
    "## The Brewery model\n",
    "\n",
    "Like in the previous tutorial we are working with the Brewery model. It is a drink consumption model including stock level management and customer satisfaction dynamics. The model input parameters that we will deal with are: \n",
    "\n",
    "- NBWaiters: the number of waiters in the bar\n",
    "- RestockQty: a fix quantity of drinks added to the current stock of the bar once it reaches a threshold value.\n",
    "\n",
    "The Brewery model has no default outputs as the value of all attributes at the end of a simulation can be considered as an output. In our case we will use the following attributes:\n",
    "\n",
    " - AverageSatisfaction: the average customer satisfaction\n",
    " - Stock: the stock of the bar.\n",
    "\n",
    "\n",
    "For this tutorial we suppose that the model's inputs (i.e NBWaiters and RestockQty) are uncertain. The model remains deterministic. We want to answer the following question: **How are the AverageSatisfaction and the stock affected by the uncertainty on the model's inputs?** "
   ]
  },
  {
   "cell_type": "markdown",
   "id": "ee2e60bc",
   "metadata": {},
   "source": [
    "## The approach\n",
    "An uncertainty analysis requires to specify precisely what is the task we are experimenting with: what are its inputs and ouputs? In our case the inputs are NBWaiters, RestockQty and the outputs are the AverageSatisfaction and the Stock. Along with that we need to precisely specify the uncertainty on the input variables. In this study, we will model the uncertainty on the inputs with two  uniform discrete distributions. The uncertainty analysis will then return the default statistics for the variability of the AverageSatisfaction and the Stock: mean, standard deviation, standard error of the mean, 95% confidence interval of the estimated mean. These results will be used to answer the question raised in the problem statement."
   ]
  },
  {
   "cell_type": "markdown",
   "id": "042dab4d",
   "metadata": {},
   "source": [
    "## 1. Define the task on which to experiment\n",
    "Comets always works with the same method: it performs analyses on tasks. Before defining any experiment we need to define the task on which it will be performed. A task behaves as a function that takes as input a ParameterSet and outputs another ParameterSet. It has a method evaluate that is in charge of performing the evaluation and returning the outputs.\n",
    "During the task evaluation, the model is run, but when creating the task we also allow for some additional pre-processing (i.e encoding) of the input parameters or post-processing of the outputs of the model.\n",
    "\n"
   ]
  },
  {
   "cell_type": "code",
   "execution_count": 1,
   "id": "31fdd1aa",
   "metadata": {},
   "outputs": [
    {
     "data": {
      "text/html": [
       "<img src=\"Comets_ModelTask.png\" width=\"1000\" height=\"1600\"/>"
      ],
      "text/plain": [
       "<IPython.core.display.Image object>"
      ]
     },
     "execution_count": 1,
     "metadata": {},
     "output_type": "execute_result"
    }
   ],
   "source": [
    "# code to display the diagram below\n",
    "from IPython.display import Image\n",
    "Image(url= \"Comets_ModelTask.png\", width=1000, height=1600)"
   ]
  },
  {
   "cell_type": "markdown",
   "id": "85221f7c",
   "metadata": {},
   "source": [
    "To run the analysis we first need to import comets"
   ]
  },
  {
   "cell_type": "code",
   "execution_count": 14,
   "id": "1f30a1b9",
   "metadata": {},
   "outputs": [],
   "source": [
    "import comets "
   ]
  },
  {
   "cell_type": "markdown",
   "id": "a131129e",
   "metadata": {},
   "source": [
    "In order to import the Brewery model we then need to specify the path to the project containing it."
   ]
  },
  {
   "cell_type": "code",
   "execution_count": 3,
   "id": "b7c1bb70",
   "metadata": {},
   "outputs": [],
   "source": [
    "#This example assumes that this notebook is in the folder containing the Brewery project\n",
    "#and that the model has been compiled with the python wrappers activated.\n",
    "\n",
    "from pathlib import Path\n",
    "cwd = Path().resolve()"
   ]
  },
  {
   "cell_type": "markdown",
   "id": "5c7c0c1a",
   "metadata": {},
   "source": [
    "### Import the simulator\n",
    "We need to import the simulator in order to allow comets to interact with it. In this example, we work with the Brewery simulator, which we can instantiate using a CosmoInterface as follows:"
   ]
  },
  {
   "cell_type": "code",
   "execution_count": 4,
   "id": "c504c61d",
   "metadata": {},
   "outputs": [],
   "source": [
    "simulator = comets.CosmoInterface(\n",
    "    simulator_path = 'BreweryTutorialSimulation',\n",
    "    project_path = cwd,\n",
    ")"
   ]
  },
  {
   "cell_type": "markdown",
   "id": "6d2388c4",
   "metadata": {},
   "source": [
    "For more details on how to instantiate the Brewery model, refer to the tutorial \"Running simulations with Comets\"."
   ]
  },
  {
   "cell_type": "markdown",
   "id": "e8db4094",
   "metadata": {},
   "source": [
    "### Define the input parameters of the task and the encoding for working with the model\n",
    "The task should take as input a ParameterSet, which is a set of parameters, stored as a dictionary containing names of parameters and their values. In our case the input parameters are the NBWaiters and the RestockQty, which would take the form: \n",
    "{'NBWaiters': NBWaiters, 'RestockQty': RestockQty} \n",
    "\n",
    "\n",
    "\n",
    "In order for the model to recognize input parameters, we need to encode them to a ParameterSet where the keys are the datapaths of the corresponding attributes in the model, which for NBWaiters and RestockQty corresponds to: \n",
    "\n",
    "- 'Model::{Entity}MyBar::@NbWaiters'\n",
    "- 'Model::{Entity}MyBar::@RestockQty'\n",
    "\n",
    "The encoding function takes the ParameterSet:\n",
    "\n",
    "{'NBWaiters': NBWaiters, 'RestockQty': RestockQty} \n",
    "\n",
    "and returns the ParameterSet:\n",
    "\n",
    "{'Model::{Entity}MyBar::@NbWaiters': NbWaiters, 'Model::{Entity}MyBar::@RestockQty': RestockQty}."
   ]
  },
  {
   "cell_type": "code",
   "execution_count": 5,
   "id": "798ed429",
   "metadata": {},
   "outputs": [],
   "source": [
    "def encoder(parameters):\n",
    "    return {'Model::{Entity}MyBar::@NbWaiters': parameters['NbWaiters'],\n",
    "            'Model::{Entity}MyBar::@RestockQty': parameters['RestockQty']}\n",
    "    "
   ]
  },
  {
   "cell_type": "markdown",
   "id": "6088626e",
   "metadata": {},
   "source": [
    "### Define the quantities of interest for the experiment, which are the outputs of the task\n",
    "The quantities we are interested in are the AverageSatisfaction and the Stock. The task should return a ParameterSet with the values of these quantities. The AverageSatisfaction and the Stock are available in the model via their respective datapath :\n",
    "\n",
    "\n",
    "- ‘Model::{Entity}MyBar::@AverageSatisfaction’\n",
    "- ‘Model::{Entity}MyBar::@Stock’.\n",
    "\n",
    "The quantities of interest can be computed from the outputs of the model by creating a function that takes as input the CosmoInterface and returns a ParameterSet with the values of the quantities of interest."
   ]
  },
  {
   "cell_type": "code",
   "execution_count": 6,
   "id": "4dc2057c",
   "metadata": {},
   "outputs": [],
   "source": [
    "def QuantityOfInterest(simulator):\n",
    "    outputs = simulator.get_outputs(['Model::{Entity}MyBar::@AverageSatisfaction', 'Model::{Entity}MyBar::@Stock'])\n",
    "    AverageSatisfaction = outputs['Model::{Entity}MyBar::@AverageSatisfaction']\n",
    "    stock = outputs['Model::{Entity}MyBar::@Stock']\n",
    "    return {'AverageSatisfaction' : AverageSatisfaction, 'Stock' : stock}"
   ]
  },
  {
   "cell_type": "markdown",
   "id": "68adb3c8",
   "metadata": {},
   "source": [
    "### Declaring the Task\n",
    "\n",
    "Once the inputs and outputs have been defined, the final step is to declare the task with its CosmoInterface, encode and get_outcomes method. Evaluating the task corresponds to encoding the inputs, running a simulation and then computing the quantity of interest with the get_outcomes function."
   ]
  },
  {
   "cell_type": "code",
   "execution_count": 7,
   "id": "3a975242",
   "metadata": {},
   "outputs": [],
   "source": [
    "uncertaintytask = comets.ModelTask(simulator, get_outcomes = QuantityOfInterest, encode = encoder)"
   ]
  },
  {
   "cell_type": "markdown",
   "id": "f42ea0ad",
   "metadata": {},
   "source": [
    "## 2. Model the uncertainty on the inputs\n",
    "\n",
    "Once the task has been defined, we need to choose how to represent the uncertainty on its inputs. This can be done either by declaring a generator or declaring a distribution. In this tutorial, we will only treat the case where the uncertainty is modeled by distributions. In that case, sampling is a list of dictionaries, one for each independent parameter. Each dictionary contains the following information:\n",
    "\n",
    "- **name** (str): the name of the parameter, should correspond to a name of input parameter of the task\n",
    "- **sampling** (str): the name of the probability distribution for this parameter\n",
    "- **parameters** (dict): the parameters of the distribution, in the form of a dictionary with named parameters and their values\n",
    "- **size** (optional, int): the size of the list if the parameter corresponds to a list of independent and identically distributed(i.i.d.) random variables.\n",
    "\n",
    "The currently available distributions and their parameters are listed in the following registry: print(comets.DistributionRegistry). Here is a non exhaustive list of the distributions we support: \n",
    "\n",
    "- **normal**: its parameters are {‘loc’: mean of the distribution, ‘scale’: standard deviation}\n",
    "- **exponential**: its parameters are {‘loc’: location of the lower bound, ‘scale’: scale parameter, }\n",
    "- **uniform**: its parameters are {‘loc’: lower threshold of distribution, ‘scale’: upper threshold of distribution}\n",
    "- **discreteuniform**: its parameters are {‘low’: lower threshold of distribution. Value will be rounded up to closest integer, ‘high’: upper threshold of distribution. Value will be rounded down to closest integer.\n",
    "}\n",
    "\n",
    "In the Brewery model, the NbWaiters and the RestockQty are represented by integers. We will model them with two uniform discrete distributions. The NbWaiters' distribution will range from 1 to 4 (included) and the RestockQty's distribution will range from 5 to 15 (included)."
   ]
  },
  {
   "cell_type": "code",
   "execution_count": 8,
   "id": "485ad1a5",
   "metadata": {},
   "outputs": [],
   "source": [
    "sampling = [\n",
    "    {\n",
    "        \"name\": 'NbWaiters',\n",
    "        \"sampling\": \"discreteuniform\",\n",
    "        \"parameters\": {'low': 1, 'high': 4},\n",
    "    },\n",
    "    {\n",
    "        \"name\": 'RestockQty',\n",
    "        \"sampling\": \"discreteuniform\",\n",
    "        \"parameters\": {'low': 5, 'high': 15},\n",
    "    }\n",
    "]"
   ]
  },
  {
   "cell_type": "markdown",
   "id": "bfa0f0c7",
   "metadata": {},
   "source": [
    "## 3. Declaring the Experiment\n",
    "An uncertainty analysis is an experiment that can take the following arguments: \n",
    "- **task**: the task on which to perform the analysis\n",
    "- **sampling**: the sampling function input. It consists in a list of distributions or generators.\n",
    "- **n_jobs**: the number of samples that are evaluated in parallel. Defaults to 1 (no parallelization)\n",
    "- **stop_criteria**: dictionary containing the stop criteria of the experiment. In our case we use ‘max_evaluations’ which corresponds to the number of task evaluation to perform. Other criteria are available, more information on them can be found in Comets' documentation. \n"
   ]
  },
  {
   "cell_type": "code",
   "execution_count": 9,
   "id": "4c995876",
   "metadata": {},
   "outputs": [],
   "source": [
    "ua = comets.UncertaintyAnalysis(\n",
    "        task = uncertaintytask,\n",
    "        sampling = sampling,\n",
    "        n_jobs = 6,\n",
    "        stop_criteria = {'max_evaluations' : 1000})"
   ]
  },
  {
   "cell_type": "markdown",
   "id": "11e5bbeb",
   "metadata": {},
   "source": [
    "## 4. Running the experiment"
   ]
  },
  {
   "cell_type": "code",
   "execution_count": 10,
   "id": "88f28348",
   "metadata": {},
   "outputs": [
    {
     "name": "stdout",
     "output_type": "stream",
     "text": [
      "{'mean': AverageSatisfaction     0.800399\n",
      "Stock                  13.934132\n",
      "dtype: float64, 'std': AverageSatisfaction    0.43805\n",
      "Stock                  2.95143\n",
      "dtype: float64, 'sem': AverageSatisfaction    0.013839\n",
      "Stock                  0.093239\n",
      "dtype: float64}\n"
     ]
    }
   ],
   "source": [
    "ua.run()"
   ]
  },
  {
   "cell_type": "markdown",
   "id": "cd459bab",
   "metadata": {},
   "source": [
    "## 5. Displaying the results of the Experiment\n",
    "The results of the analysis are stored in the attribute 'results', it contains default statistics on the quantity of interest (the service level)."
   ]
  },
  {
   "cell_type": "code",
   "execution_count": 11,
   "id": "6e24cb4d",
   "metadata": {},
   "outputs": [
    {
     "data": {
      "text/html": [
       "<div>\n",
       "<style scoped>\n",
       "    .dataframe tbody tr th:only-of-type {\n",
       "        vertical-align: middle;\n",
       "    }\n",
       "\n",
       "    .dataframe tbody tr th {\n",
       "        vertical-align: top;\n",
       "    }\n",
       "\n",
       "    .dataframe thead th {\n",
       "        text-align: right;\n",
       "    }\n",
       "</style>\n",
       "<table border=\"1\" class=\"dataframe\">\n",
       "  <thead>\n",
       "    <tr style=\"text-align: right;\">\n",
       "      <th></th>\n",
       "      <th>mean</th>\n",
       "      <th>std</th>\n",
       "      <th>sem</th>\n",
       "    </tr>\n",
       "  </thead>\n",
       "  <tbody>\n",
       "    <tr>\n",
       "      <th>AverageSatisfaction</th>\n",
       "      <td>0.800399</td>\n",
       "      <td>0.43805</td>\n",
       "      <td>0.013839</td>\n",
       "    </tr>\n",
       "    <tr>\n",
       "      <th>Stock</th>\n",
       "      <td>13.934132</td>\n",
       "      <td>2.95143</td>\n",
       "      <td>0.093239</td>\n",
       "    </tr>\n",
       "  </tbody>\n",
       "</table>\n",
       "</div>"
      ],
      "text/plain": [
       "                          mean      std       sem\n",
       "AverageSatisfaction   0.800399  0.43805  0.013839\n",
       "Stock                13.934132  2.95143  0.093239"
      ]
     },
     "execution_count": 11,
     "metadata": {},
     "output_type": "execute_result"
    }
   ],
   "source": [
    "ua.results"
   ]
  },
  {
   "cell_type": "raw",
   "id": "c1aae6fc",
   "metadata": {},
   "source": [
    "It is also possible to access all the results of evaluations of the task in order to compute other statistics. Below we display the first five evaluation results."
   ]
  },
  {
   "cell_type": "code",
   "execution_count": 12,
   "id": "96d5ba7d",
   "metadata": {},
   "outputs": [
    {
     "data": {
      "text/plain": [
       "[{'AverageSatisfaction': 1, 'Stock': 9},\n",
       " {'AverageSatisfaction': 1, 'Stock': 9},\n",
       " {'AverageSatisfaction': 1, 'Stock': 13},\n",
       " {'AverageSatisfaction': 1, 'Stock': 17},\n",
       " {'AverageSatisfaction': 1, 'Stock': 14}]"
      ]
     },
     "execution_count": 12,
     "metadata": {},
     "output_type": "execute_result"
    }
   ],
   "source": [
    "ua.list_of_results[:5]"
   ]
  }
 ],
 "metadata": {
  "kernelspec": {
   "display_name": "env",
   "language": "python",
   "name": "env"
  },
  "language_info": {
   "codemirror_mode": {
    "name": "ipython",
    "version": 3
   },
   "file_extension": ".py",
   "mimetype": "text/x-python",
   "name": "python",
   "nbconvert_exporter": "python",
   "pygments_lexer": "ipython3",
   "version": "3.7.3"
  }
 },
 "nbformat": 4,
 "nbformat_minor": 5
}
